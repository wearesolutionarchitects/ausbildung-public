{
 "cells": [
  {
   "cell_type": "markdown",
   "metadata": {},
   "source": [
    "## Quiz: Zahl oder String?"
   ]
  },
  {
   "cell_type": "markdown",
   "metadata": {},
   "source": [
    "#### Aufgabe 1\n",
    "\n",
    "```python\n",
    "v = \"Hallo Welt\"\n",
    "print(v)\n",
    "```\n",
    "\n",
    "Worum handelt es sich bei der Variable `v`?\n",
    "\n",
    "- A) String (Zeichenkette)\n",
    "- B) Zahl"
   ]
  },
  {
   "cell_type": "markdown",
   "metadata": {},
   "source": [
    "Richtige Lösung: "
   ]
  },
  {
   "cell_type": "markdown",
   "metadata": {},
   "source": [
    "#### Aufgabe 2\n",
    "\n",
    "```python\n",
    "v = 14\n",
    "print(v)\n",
    "```\n",
    "\n",
    "Worum handelt es sich bei der Variable `v`?\n",
    "\n",
    "- A) String (Zeichenkette)\n",
    "- B) Zahl"
   ]
  },
  {
   "cell_type": "code",
   "execution_count": null,
   "metadata": {
    "collapsed": true
   },
   "outputs": [],
   "source": [
    "Richtige Lösung: "
   ]
  },
  {
   "cell_type": "markdown",
   "metadata": {},
   "source": [
    "#### Aufgabe 3\n",
    "\n",
    "```python\n",
    "v = str(14)\n",
    "print(v)\n",
    "```\n",
    "\n",
    "Worum handelt es sich bei der Variable `v`?\n",
    "\n",
    "- A) String (Zeichenkette)\n",
    "- B) Zahl"
   ]
  },
  {
   "cell_type": "code",
   "execution_count": null,
   "metadata": {
    "collapsed": true
   },
   "outputs": [],
   "source": [
    "Richtige Lösung: "
   ]
  },
  {
   "cell_type": "markdown",
   "metadata": {
    "collapsed": true
   },
   "source": [
    "#### Aufgabe 4\n",
    "\n",
    "Welche der folgenden Codezeilen ist ein gültiges Python-Programm, welches bei der Ausführung keinen Fehler erzeugt?\n",
    "\n",
    "- A) `print(\"Dein Guthaben beträgt \" & str(50) & \" Cent.\")`\n",
    "- B) `print(\"Du hast nur noch \" + str(10) + \"€ auf dem Konto.\")`\n",
    "- C) `print(\"Du hast \" + 50000 + \"€ gewonnen.\")`\n",
    "- D) `print(String(Du hast Schulden.))`"
   ]
  },
  {
   "cell_type": "markdown",
   "metadata": {},
   "source": [
    "Richtige Lösung: "
   ]
  }
 ],
 "metadata": {
  "kernelspec": {
   "display_name": "Python 3",
   "language": "python",
   "name": "python3"
  },
  "language_info": {
   "codemirror_mode": {
    "name": "ipython",
    "version": 3
   },
   "file_extension": ".py",
   "mimetype": "text/x-python",
   "name": "python",
   "nbconvert_exporter": "python",
   "pygments_lexer": "ipython3",
   "version": "3.6.3"
  }
 },
 "nbformat": 4,
 "nbformat_minor": 2
}
