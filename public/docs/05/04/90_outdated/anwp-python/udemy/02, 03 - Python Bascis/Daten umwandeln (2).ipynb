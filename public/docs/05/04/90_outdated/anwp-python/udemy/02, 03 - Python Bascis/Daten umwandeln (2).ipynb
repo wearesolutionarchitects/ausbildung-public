{
 "cells": [
  {
   "cell_type": "markdown",
   "metadata": {},
   "source": [
    "# Daten umwandeln - Listen und Strings\n",
    "Wir können mit Python Elemente zu einer Liste zusammenfügen oder eine Liste in einzelne Elemente zerlegen."
   ]
  },
  {
   "cell_type": "markdown",
   "metadata": {},
   "source": [
    "### Strings aus einer Liste zu einem String zusammenfügen\n",
    "\n",
    "Mit dem  **join()**-Befehl, der auf einen String angewendet wird, verbinden wir die Strings aus einer Liste zu einem neuen String: **string.join(liste)**\n",
    "\n",
    "Der String, auf den join() angewendet wird, bildet dabei die Nahtstelle: Dieser String wird als Verbindung zwischen den einzelnen Listenelementen im neuen String gesetzt."
   ]
  },
  {
   "cell_type": "code",
   "execution_count": 2,
   "metadata": {},
   "outputs": [
    {
     "name": "stdout",
     "output_type": "stream",
     "text": [
      "Max, Monika, Erik, Franziska\n"
     ]
    }
   ],
   "source": [
    "students = [\"Max\", \"Monika\", \"Erik\", \"Franziska\"]\n",
    "print(\", \".join(students))"
   ]
  },
  {
   "cell_type": "code",
   "execution_count": 1,
   "metadata": {},
   "outputs": [
    {
     "ename": "NameError",
     "evalue": "name 'students' is not defined",
     "output_type": "error",
     "traceback": [
      "\u001b[0;31m---------------------------------------------------------------------------\u001b[0m",
      "\u001b[0;31mNameError\u001b[0m                                 Traceback (most recent call last)",
      "\u001b[0;32m<ipython-input-1-805fb525af00>\u001b[0m in \u001b[0;36m<module>\u001b[0;34m()\u001b[0m\n\u001b[0;32m----> 1\u001b[0;31m \u001b[0mstudents_as_string\u001b[0m \u001b[0;34m=\u001b[0m \u001b[0;34m\", \"\u001b[0m\u001b[0;34m.\u001b[0m\u001b[0mjoin\u001b[0m\u001b[0;34m(\u001b[0m\u001b[0mstudents\u001b[0m\u001b[0;34m)\u001b[0m\u001b[0;34m\u001b[0m\u001b[0m\n\u001b[0m\u001b[1;32m      2\u001b[0m \u001b[0mprint\u001b[0m\u001b[0;34m(\u001b[0m\u001b[0;34m\"An unserer Uni studieren: \"\u001b[0m \u001b[0;34m+\u001b[0m \u001b[0mstudents_as_string\u001b[0m\u001b[0;34m)\u001b[0m\u001b[0;34m\u001b[0m\u001b[0m\n",
      "\u001b[0;31mNameError\u001b[0m: name 'students' is not defined"
     ]
    }
   ],
   "source": [
    "students_as_string = \", \".join(students)\n",
    "print(\"An unserer Uni studieren: \" + students_as_string)"
   ]
  },
  {
   "cell_type": "code",
   "execution_count": 1,
   "metadata": {},
   "outputs": [
    {
     "name": "stdout",
     "output_type": "stream",
     "text": [
      "Max - Monika - Erik - Franziska\n"
     ]
    }
   ],
   "source": [
    "students = [\"Max\", \"Monika\", \"Erik\", \"Franziska\"]\n",
    "print(\" - \".join(students))"
   ]
  },
  {
   "cell_type": "markdown",
   "metadata": {},
   "source": [
    "### Einen String in eine Liste aufspalten\n",
    "\n",
    "Mit dem **split()**-Befehl, der auf einen String angewendet wird, wird dieser String an seinen Leerzeichen aufgespalten und die daraus resultierenden Einzelstrings in einer Liste gespeichert: **string.split()**"
   ]
  },
  {
   "cell_type": "code",
   "execution_count": 3,
   "metadata": {
    "collapsed": true
   },
   "outputs": [],
   "source": [
    "i = \"Max, Monika, Erik, Franziska\""
   ]
  },
  {
   "cell_type": "code",
   "execution_count": 10,
   "metadata": {},
   "outputs": [
    {
     "name": "stdout",
     "output_type": "stream",
     "text": [
      "['Max,', 'Monika,', 'Erik,', 'Franziska']\n"
     ]
    }
   ],
   "source": [
    "print(i.split())"
   ]
  },
  {
   "cell_type": "markdown",
   "metadata": {},
   "source": [
    "Wir können sogar noch genauer festlegen, an welchen Stellen der String von split() aufgespaltet werden soll."
   ]
  },
  {
   "cell_type": "code",
   "execution_count": 4,
   "metadata": {},
   "outputs": [
    {
     "name": "stdout",
     "output_type": "stream",
     "text": [
      "['Max', 'Monika', 'Erik', 'Franziska']\n"
     ]
    }
   ],
   "source": [
    "print(i.split(\", \"))"
   ]
  },
  {
   "cell_type": "code",
   "execution_count": 5,
   "metadata": {},
   "outputs": [
    {
     "name": "stdout",
     "output_type": "stream",
     "text": [
      "['M', 'x, Monik', ', Erik, Fr', 'nzisk', '']\n"
     ]
    }
   ],
   "source": [
    "print(i.split(\"a\"))"
   ]
  },
  {
   "cell_type": "markdown",
   "metadata": {},
   "source": [
    "Insbesondere können wir auch mehrere der Befehle, die wir schon kennen gelernt haben, miteinander kombinieren:"
   ]
  },
  {
   "cell_type": "code",
   "execution_count": 1,
   "metadata": {},
   "outputs": [
    {
     "name": "stdout",
     "output_type": "stream",
     "text": [
      "7\n"
     ]
    }
   ],
   "source": [
    "# Hier zählen wir die Anzahl der Wörter des Satzes s\n",
    "\n",
    "s = \"Ich bin ein Satz mit vielen Wörtern\"\n",
    "print(len(s.split()))"
   ]
  },
  {
   "cell_type": "markdown",
   "metadata": {},
   "source": [
    "### Spiel doch jetzt ein wenig herum mit dem was du gelernt hast:\n",
    "- Zerlege Strings in Listen mit split() und erzeuge eine Liste aus einzelnen Strings per join(). :-)\n",
    "- Du kannst auch versuchen, die Funktionen, die du schon kennst, miteinander zu kombinieren.  :-)"
   ]
  },
  {
   "cell_type": "code",
   "execution_count": null,
   "metadata": {
    "collapsed": true
   },
   "outputs": [],
   "source": [
    "\n",
    "\n",
    "\n"
   ]
  }
 ],
 "metadata": {
  "kernelspec": {
   "display_name": "Python 3",
   "language": "python",
   "name": "python3"
  },
  "language_info": {
   "codemirror_mode": {
    "name": "ipython",
    "version": 3
   },
   "file_extension": ".py",
   "mimetype": "text/x-python",
   "name": "python",
   "nbconvert_exporter": "python",
   "pygments_lexer": "ipython3",
   "version": "3.6.3"
  }
 },
 "nbformat": 4,
 "nbformat_minor": 2
}
