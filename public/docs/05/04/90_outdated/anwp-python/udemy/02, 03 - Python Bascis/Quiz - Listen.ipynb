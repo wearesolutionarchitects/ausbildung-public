{
 "cells": [
  {
   "cell_type": "markdown",
   "metadata": {},
   "source": [
    "## Quiz: Listen"
   ]
  },
  {
   "cell_type": "markdown",
   "metadata": {},
   "source": [
    "#### Aufgabe 1\n",
    "\n",
    "Wie wird in Python eine Liste definiert?\n",
    "\n",
    "- A) `{\"Ivanka\", \"Donald\"}`\n",
    "- B) `[\"Ivanka\", \"Donald\"]`\n",
    "- C) `[\"Ivanka\"; \"Donald\"]`\n",
    "- D) `(\"Ivanka\", \"Donald\")`"
   ]
  },
  {
   "cell_type": "code",
   "execution_count": null,
   "metadata": {
    "collapsed": true
   },
   "outputs": [],
   "source": [
    "Richtige Antwort: "
   ]
  },
  {
   "cell_type": "markdown",
   "metadata": {},
   "source": [
    "#### Aufgabe 2\n",
    "\n",
    "Wie greifst du auf das 3. Element zu?\n",
    "\n",
    "```python\n",
    "firstnames = [\"Ivanka\", \"Donald\", \"Ivana\", \"Barron\"]\n",
    "```\n",
    "\n",
    "- A) `firstnames[0]`\n",
    "- B) `firstnames[1]`\n",
    "- C) `firstnames[2]`\n",
    "- D) `firstnames[3]`"
   ]
  },
  {
   "cell_type": "markdown",
   "metadata": {},
   "source": [
    "Richtige Antwort: "
   ]
  },
  {
   "cell_type": "markdown",
   "metadata": {},
   "source": [
    "#### Aufgabe 3\n",
    "\n",
    "Wie erweiterst du die Liste `wars` um ein weiteres, drittes Element?\n",
    "\n",
    "```python\n",
    "wars = [1, 2]\n",
    "```\n",
    "\n",
    "- A) `wars.add(3)`\n",
    "- B) `wars[3] = 3`\n",
    "- C) `wars.hinzufügen(3)`\n",
    "- D) `wars.append(3)?`"
   ]
  },
  {
   "cell_type": "markdown",
   "metadata": {},
   "source": [
    "Richtige Antwort: "
   ]
  }
 ],
 "metadata": {
  "kernelspec": {
   "display_name": "Python 3",
   "language": "python",
   "name": "python3"
  },
  "language_info": {
   "codemirror_mode": {
    "name": "ipython",
    "version": 3
   },
   "file_extension": ".py",
   "mimetype": "text/x-python",
   "name": "python",
   "nbconvert_exporter": "python",
   "pygments_lexer": "ipython3",
   "version": "3.6.1"
  }
 },
 "nbformat": 4,
 "nbformat_minor": 2
}
