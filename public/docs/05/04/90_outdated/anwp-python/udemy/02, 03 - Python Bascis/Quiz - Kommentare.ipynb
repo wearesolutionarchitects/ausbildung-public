{
 "cells": [
  {
   "cell_type": "markdown",
   "metadata": {},
   "source": [
    "## Quiz: Kommentare"
   ]
  },
  {
   "cell_type": "markdown",
   "metadata": {},
   "source": [
    "### Aufgabe 1\n",
    "\n",
    "Mit welchem / welchen Zeichen beginnst du einen Kommentar in Python (der nicht als Code ausgeführt werden soll)?\n",
    "\n",
    "- A) `#`\n",
    "- B) `**`\n",
    "- C) `%`\n",
    "- D) `$`"
   ]
  },
  {
   "cell_type": "markdown",
   "metadata": {},
   "source": [
    "Korrekte Lösung: "
   ]
  },
  {
   "cell_type": "markdown",
   "metadata": {},
   "source": [
    "#### Aufgabe 2\n",
    "\n",
    "Welche Zahlen werden bei der Ausführung von folgendem Programm ausgegeben?\n",
    "\n",
    "```\n",
    "print(1)\n",
    "# print(2)\n",
    "print(3)\n",
    "# print(4)\n",
    "```\n",
    "\n",
    "- A) 1, 2, 3, 4\n",
    "- B) Keine\n",
    "- C) 2, 4\n",
    "- D) 1, 3"
   ]
  },
  {
   "cell_type": "markdown",
   "metadata": {},
   "source": [
    "Korrekte Lösung: "
   ]
  }
 ],
 "metadata": {
  "kernelspec": {
   "display_name": "Python 3",
   "language": "python",
   "name": "python3"
  },
  "language_info": {
   "codemirror_mode": {
    "name": "ipython",
    "version": 3
   },
   "file_extension": ".py",
   "mimetype": "text/x-python",
   "name": "python",
   "nbconvert_exporter": "python",
   "pygments_lexer": "ipython3",
   "version": "3.6.1"
  }
 },
 "nbformat": 4,
 "nbformat_minor": 2
}
