{
 "cells": [
  {
   "cell_type": "markdown",
   "metadata": {},
   "source": [
    "## Generatoren in Crawler einbauen"
   ]
  },
  {
   "cell_type": "code",
   "execution_count": 14,
   "metadata": {
    "collapsed": true
   },
   "outputs": [],
   "source": [
    "import requests\n",
    "from bs4 import BeautifulSoup\n",
    "from urllib.parse import urljoin\n",
    "import time"
   ]
  },
  {
   "cell_type": "code",
   "execution_count": 15,
   "metadata": {
    "collapsed": true
   },
   "outputs": [],
   "source": [
    "class CrawledArticle():\n",
    "    def __init__(self, title, emoji, content, image):\n",
    "        self.title = title\n",
    "        self.emoji = emoji\n",
    "        self.content = content\n",
    "        self.image = image\n",
    "        \n",
    "class ArticleFetcher():\n",
    "    def fetch(self):\n",
    "        url = \"http://python.beispiel.programmierenlernen.io/index.php\"\n",
    "        \n",
    "        while url != \"\":\n",
    "            print(url)\n",
    "            time.sleep(1)\n",
    "            r = requests.get(url)\n",
    "            doc = BeautifulSoup(r.text, \"html.parser\")\n",
    "            \n",
    "            for card in doc.select(\".card\"):\n",
    "                emoji = card.select_one(\".emoji\").text\n",
    "                content = card.select_one(\".card-text\").text\n",
    "                title = card.select(\".card-title span\")[1].text\n",
    "                image = urljoin(url, card.select_one(\"img\").attrs[\"src\"])\n",
    "\n",
    "                yield CrawledArticle(title, emoji, content, image)\n",
    "\n",
    "            next_button = doc.select_one(\".navigation .btn\")\n",
    "            if next_button:\n",
    "                next_href = next_button.attrs[\"href\"]\n",
    "                next_href = urljoin(url, next_href)            \n",
    "                url = next_href\n",
    "            else:\n",
    "                url = \"\"\n",
    "        "
   ]
  },
  {
   "cell_type": "code",
   "execution_count": 16,
   "metadata": {},
   "outputs": [
    {
     "name": "stdout",
     "output_type": "stream",
     "text": [
      "http://python.beispiel.programmierenlernen.io/index.php\n",
      "😩: Polarised modular conglomeration\n",
      "😐: Cross-group contextually-based middleware\n",
      "😌: De-engineered encompassing structure\n",
      "😚: Fully-configurable multi-tasking interface\n",
      "😠: Versatile eco-centric core\n",
      "😮: Optional maximized utilisation\n",
      "😢: Open-architected secondary product\n",
      "http://python.beispiel.programmierenlernen.io/index.php?page=2\n",
      "😠: Realigned zerotolerance function\n",
      "😆: Quality-focused user-facing help-desk\n",
      "😤: Proactive user-facing opensystem\n",
      "😟: Decentralized holistic moderator\n",
      "😌: Mandatory tangible application\n",
      "😓: Digitized dedicated budgetarymanagement\n",
      "😞: Organized well-modulated concept\n",
      "http://python.beispiel.programmierenlernen.io/index.php?page=3\n",
      "😢: Balanced optimal openarchitecture\n",
      "😏: Universal explicit throughput\n"
     ]
    }
   ],
   "source": [
    "import csv\n",
    "fetcher = ArticleFetcher()\n",
    "\n",
    "counter = 0\n",
    "for article in fetcher.fetch():\n",
    "    if counter == 16:\n",
    "        break\n",
    "    counter = counter + 1\n",
    "    print(article.emoji + \": \" + article.title)"
   ]
  },
  {
   "cell_type": "code",
   "execution_count": null,
   "metadata": {
    "collapsed": true
   },
   "outputs": [],
   "source": []
  }
 ],
 "metadata": {
  "kernelspec": {
   "display_name": "Python 3",
   "language": "python",
   "name": "python3"
  },
  "language_info": {
   "codemirror_mode": {
    "name": "ipython",
    "version": 3
   },
   "file_extension": ".py",
   "mimetype": "text/x-python",
   "name": "python",
   "nbconvert_exporter": "python",
   "pygments_lexer": "ipython3",
   "version": "3.6.1"
  }
 },
 "nbformat": 4,
 "nbformat_minor": 2
}
