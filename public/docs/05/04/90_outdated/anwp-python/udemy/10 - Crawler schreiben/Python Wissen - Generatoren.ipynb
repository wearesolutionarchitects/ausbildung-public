{
 "cells": [
  {
   "cell_type": "markdown",
   "metadata": {},
   "source": [
    "## Python Wissen: Generatoren\n",
    "\n",
    "In dieser Lektion geht's um ein weiteres Python-Konzept, welches unseren Crawler etwas vereinfachen kann: Generatoren. \n",
    "\n",
    "Problem: Manchmal interessieren dich nur die ersten 5 Einträge, manchmal möchtest du alle Einträge einlesen. Wie bekommen wir es hin, dass die .fetch()-Methode automatisch erkennt, wie viele Einträge mich interessieren?\n",
    "\n",
    "In dieser Lektion lernst du:\n",
    "\n",
    "- Was Generatoren sind\n",
    "- Und wie du diese in Python verwenden kannst."
   ]
  },
  {
   "cell_type": "code",
   "execution_count": 6,
   "metadata": {},
   "outputs": [
    {
     "name": "stdout",
     "output_type": "stream",
     "text": [
      "liste: 0\n",
      "liste: 1\n",
      "liste: 2\n",
      "liste: 3\n",
      "liste: 4\n",
      "liste: 5\n",
      "liste: 6\n",
      "liste: 7\n",
      "liste: 8\n",
      "liste: 9\n",
      "for: 0\n",
      "for: 1\n",
      "for: 2\n",
      "for: 3\n",
      "for: 4\n",
      "for: 5\n",
      "for: 6\n",
      "for: 7\n",
      "for: 8\n",
      "for: 9\n"
     ]
    }
   ],
   "source": [
    "def gen_list():\n",
    "    liste = []\n",
    "    for i in range(0, 10):\n",
    "        print(\"liste: \" + str(i))\n",
    "        liste.append(i)\n",
    "    return liste\n",
    "\n",
    "for element in gen_list():\n",
    "    print(\"for: \" + str(element))"
   ]
  },
  {
   "cell_type": "code",
   "execution_count": 5,
   "metadata": {},
   "outputs": [
    {
     "name": "stdout",
     "output_type": "stream",
     "text": [
      "gen: 0\n",
      "for: 0\n",
      "gen: 1\n",
      "for: 1\n",
      "gen: 2\n",
      "for: 2\n",
      "gen: 3\n",
      "for: 3\n",
      "gen: 4\n",
      "for: 4\n",
      "gen: 5\n",
      "for: 5\n",
      "gen: 6\n",
      "for: 6\n",
      "gen: 7\n",
      "for: 7\n",
      "gen: 8\n",
      "for: 8\n",
      "gen: 9\n",
      "for: 9\n"
     ]
    }
   ],
   "source": [
    "def gen_generator():\n",
    "    for i in range(0, 10):\n",
    "        print(\"gen: \" + str(i))\n",
    "        yield i\n",
    "\n",
    "for element in gen_generator():\n",
    "    print(\"for: \" + str(element))"
   ]
  },
  {
   "cell_type": "code",
   "execution_count": 7,
   "metadata": {},
   "outputs": [
    {
     "name": "stdout",
     "output_type": "stream",
     "text": [
      "gen: 0\n",
      "for: 0\n",
      "gen: 1\n",
      "for: 1\n",
      "gen: 2\n",
      "for: 2\n",
      "gen: 3\n",
      "for: 3\n",
      "gen: 4\n"
     ]
    }
   ],
   "source": [
    "for element in gen_generator():\n",
    "    if element == 4:\n",
    "        break\n",
    "    print(\"for: \" + str(element))"
   ]
  },
  {
   "cell_type": "code",
   "execution_count": null,
   "metadata": {
    "collapsed": true
   },
   "outputs": [],
   "source": []
  }
 ],
 "metadata": {
  "kernelspec": {
   "display_name": "Python 3",
   "language": "python",
   "name": "python3"
  },
  "language_info": {
   "codemirror_mode": {
    "name": "ipython",
    "version": 3
   },
   "file_extension": ".py",
   "mimetype": "text/x-python",
   "name": "python",
   "nbconvert_exporter": "python",
   "pygments_lexer": "ipython3",
   "version": "3.6.3"
  }
 },
 "nbformat": 4,
 "nbformat_minor": 2
}
