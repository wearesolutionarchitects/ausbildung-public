{
 "cells": [
  {
   "cell_type": "markdown",
   "metadata": {},
   "source": [
    "## Probleme mit relativen URLs\n",
    "\n",
    "In dieser Lektion lernst du, wie du:\n",
    "\n",
    "- mit Verlinkungen umgehen kannst\n",
    "- es schaffst, die richtigen Bild-URLs zu ermitteln."
   ]
  },
  {
   "cell_type": "code",
   "execution_count": 9,
   "metadata": {
    "collapsed": true
   },
   "outputs": [],
   "source": [
    "import requests\n",
    "from bs4 import BeautifulSoup\n",
    "from urllib.parse import urljoin"
   ]
  },
  {
   "cell_type": "code",
   "execution_count": 10,
   "metadata": {
    "collapsed": true
   },
   "outputs": [],
   "source": [
    "class CrawledArticle():\n",
    "    def __init__(self, title, emoji, content, image):\n",
    "        self.title = title\n",
    "        self.emoji = emoji\n",
    "        self.content = content\n",
    "        self.image = image\n",
    "        \n",
    "class ArticleFetcher():\n",
    "    def fetch(self):\n",
    "        url = \"http://python.beispiel.programmierenlernen.io/index.php\"\n",
    "        r = requests.get(url)\n",
    "        doc = BeautifulSoup(r.text, \"html.parser\")\n",
    "        \n",
    "        articles = []\n",
    "        for card in doc.select(\".card\"):\n",
    "            emoji = card.select_one(\".emoji\").text\n",
    "            content = card.select_one(\".card-text\").text\n",
    "            title = card.select(\".card-title span\")[1].text\n",
    "            image = urljoin(url, card.select_one(\"img\").attrs[\"src\"])\n",
    "\n",
    "            crawled = CrawledArticle(title, emoji, content, image)\n",
    "            articles.append(crawled)\n",
    "        return articles"
   ]
  },
  {
   "cell_type": "code",
   "execution_count": 11,
   "metadata": {},
   "outputs": [
    {
     "name": "stdout",
     "output_type": "stream",
     "text": [
      "http://python.beispiel.programmierenlernen.io/img/1.jpg\n",
      "http://python.beispiel.programmierenlernen.io/img/2.jpg\n",
      "http://python.beispiel.programmierenlernen.io/img/3.jpg\n",
      "http://python.beispiel.programmierenlernen.io/img/4.jpg\n",
      "http://python.beispiel.programmierenlernen.io/img/5.jpg\n",
      "http://python.beispiel.programmierenlernen.io/img/6.jpg\n",
      "http://python.beispiel.programmierenlernen.io/img/7.jpg\n"
     ]
    }
   ],
   "source": [
    "fetcher = ArticleFetcher()\n",
    "articles = fetcher.fetch()\n",
    "\n",
    "for article in articles:\n",
    "    print(article.image)"
   ]
  },
  {
   "cell_type": "code",
   "execution_count": null,
   "metadata": {
    "collapsed": true
   },
   "outputs": [],
   "source": []
  }
 ],
 "metadata": {
  "kernelspec": {
   "display_name": "Python 3",
   "language": "python",
   "name": "python3"
  },
  "language_info": {
   "codemirror_mode": {
    "name": "ipython",
    "version": 3
   },
   "file_extension": ".py",
   "mimetype": "text/x-python",
   "name": "python",
   "nbconvert_exporter": "python",
   "pygments_lexer": "ipython3",
   "version": "3.6.3"
  }
 },
 "nbformat": 4,
 "nbformat_minor": 2
}
