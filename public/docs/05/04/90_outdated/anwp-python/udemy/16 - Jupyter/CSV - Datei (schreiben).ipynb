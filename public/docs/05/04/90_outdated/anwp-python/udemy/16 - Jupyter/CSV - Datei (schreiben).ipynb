{
 "cells": [
  {
   "cell_type": "markdown",
   "metadata": {},
   "source": [
    "## Exkurs: CSV - Datei schreiben\n",
    "\n",
    "In dieser Lektion gehen wir nochmal kurz darauf ein, wie du mit Python eine .csv-Datei erstellen kannst.\n",
    "\n",
    "(Link: https://docs.python.org/3.6/library/csv.html)"
   ]
  },
  {
   "cell_type": "code",
   "execution_count": 7,
   "metadata": {
    "collapsed": true
   },
   "outputs": [],
   "source": [
    "import csv\n",
    "with open('students.csv', 'a', newline='') as f:\n",
    "    writer = csv.writer(f, delimiter=\";\")\n",
    "    \n",
    "    writer.writerow([\"Spalte 1\", \"Spalte 2\", \"Spalte 3\"])\n",
    "    writer.writerow([\"Zeile 2: Spalte 1\", \"Spalte 2\", \"Spalte 3\"])"
   ]
  },
  {
   "cell_type": "code",
   "execution_count": null,
   "metadata": {
    "collapsed": true
   },
   "outputs": [],
   "source": []
  }
 ],
 "metadata": {
  "kernelspec": {
   "display_name": "Python 3",
   "language": "python",
   "name": "python3"
  },
  "language_info": {
   "codemirror_mode": {
    "name": "ipython",
    "version": 3
   },
   "file_extension": ".py",
   "mimetype": "text/x-python",
   "name": "python",
   "nbconvert_exporter": "python",
   "pygments_lexer": "ipython3",
   "version": "3.6.3"
  }
 },
 "nbformat": 4,
 "nbformat_minor": 2
}
