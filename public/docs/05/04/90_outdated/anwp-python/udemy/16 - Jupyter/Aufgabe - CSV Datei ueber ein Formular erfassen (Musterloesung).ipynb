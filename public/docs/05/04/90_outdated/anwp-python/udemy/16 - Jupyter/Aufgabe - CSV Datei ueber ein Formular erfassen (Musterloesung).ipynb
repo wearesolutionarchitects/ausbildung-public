{
 "cells": [
  {
   "cell_type": "markdown",
   "metadata": {},
   "source": [
    "## Musterlösung: CSV-Datei über ein Formular erfassen\n",
    "\n",
    "Stell dir vor, du möchtest die Anwesenheit von Studierenden überprüfen. Dazu möchtest du zu jedem Studierenden folgende Daten erfassen: Vorname, Nachname, Studienfach.\n",
    "\n",
    "Es gibt 5 verschiedene Studienfächer:\n",
    "\n",
    "- Mathe\n",
    "- Informatik\n",
    "- Philosophie\n",
    "- Kulturwissenschaften\n",
    "- Psychologie\n",
    "\n",
    "Aufgabe: Erstelle ein komfortables Formular, mit dem du die Studierenden erfassen kannst! Sorge dafür, dass nach jedem Schritt alle bisher erfassten Daten in einer .csv-Datei (students.csv) abgespeichert werden. In der .csv-Datei sollen 3 Spalten existieren: Vorname, Nachname und Studienfach.\n",
    "\n",
    "Verwende für den Vor- bzw. Nachnamen ein Textfeld und für das Studienfach ein Auswahlmenü, mit dem das Studienfach ausgewählt werden kann. Erstelle dann einen Button, mit dem der aktuelle Studierende in die .csv-Datei geschrieben wird und über das Formular anschließend der nächste Studierende erfasst werden kann."
   ]
  },
  {
   "cell_type": "code",
   "execution_count": 10,
   "metadata": {},
   "outputs": [
    {
     "data": {
      "application/vnd.jupyter.widget-view+json": {
       "model_id": "ef3354b6937a409e856f0176b6b44d5a",
       "version_major": 2,
       "version_minor": 0
      },
      "text/plain": [
       "A Jupyter Widget"
      ]
     },
     "metadata": {},
     "output_type": "display_data"
    },
    {
     "data": {
      "application/vnd.jupyter.widget-view+json": {
       "model_id": "8cd69aae06b94a108a7042d7692ab2df",
       "version_major": 2,
       "version_minor": 0
      },
      "text/plain": [
       "A Jupyter Widget"
      ]
     },
     "metadata": {},
     "output_type": "display_data"
    },
    {
     "data": {
      "application/vnd.jupyter.widget-view+json": {
       "model_id": "ba90c1b464e04c10ba5f143fe5e0ff58",
       "version_major": 2,
       "version_minor": 0
      },
      "text/plain": [
       "A Jupyter Widget"
      ]
     },
     "metadata": {},
     "output_type": "display_data"
    },
    {
     "data": {
      "application/vnd.jupyter.widget-view+json": {
       "model_id": "2cd300abf3bd4c98b38384c2c2b9c5d9",
       "version_major": 2,
       "version_minor": 0
      },
      "text/plain": [
       "A Jupyter Widget"
      ]
     },
     "metadata": {},
     "output_type": "display_data"
    }
   ],
   "source": [
    "import csv\n",
    "import ipywidgets as widgets\n",
    "from IPython.display import display\n",
    "\n",
    "firstname = widgets.Text(description=\"Vorname:\", value=\"\")\n",
    "display(firstname)\n",
    "\n",
    "lastname = widgets.Text(description=\"Nachname:\", value=\"\")\n",
    "display(lastname)\n",
    "\n",
    "subject_options = [\n",
    "    \"---\",\n",
    "    \"Mathe\", \n",
    "    \"Informatik\", \n",
    "    \"Philosophie\", \n",
    "    \"Kulturwissenschaften\", \n",
    "    \"Psychologie\"\n",
    "]\n",
    "\n",
    "subject = widgets.Dropdown(description=\"Fach:\", options=subject_options)\n",
    "display(subject)\n",
    "\n",
    "button = widgets.Button(description=\"Speichern!\")\n",
    "display(button)\n",
    "\n",
    "def button_click(event):\n",
    "    firstname_value = firstname.value\n",
    "    lastname_value = lastname.value\n",
    "    subject_value = subject.value\n",
    "    \n",
    "    if firstname_value != \"\" and lastname_value != \"\" and subject_value != \"---\":\n",
    "        with open(\"./students.csv\", \"a\", newline=\"\", encoding=\"utf-8\") as f:\n",
    "            writer = csv.writer(f, delimiter=\";\")\n",
    "            writer.writerow([firstname_value, lastname_value, subject_value])\n",
    "        firstname.value = \"\"\n",
    "        lastname.value = \"\"\n",
    "        subject.value = \"---\"\n",
    "        \n",
    "    else:\n",
    "        print(\"Bitte das Formular korrekt ausfüllen\")\n",
    "    \n",
    "button.on_click(button_click)"
   ]
  },
  {
   "cell_type": "code",
   "execution_count": null,
   "metadata": {
    "collapsed": true
   },
   "outputs": [],
   "source": []
  }
 ],
 "metadata": {
  "kernelspec": {
   "display_name": "Python 3",
   "language": "python",
   "name": "python3"
  },
  "language_info": {
   "codemirror_mode": {
    "name": "ipython",
    "version": 3
   },
   "file_extension": ".py",
   "mimetype": "text/x-python",
   "name": "python",
   "nbconvert_exporter": "python",
   "pygments_lexer": "ipython3",
   "version": "3.6.3"
  }
 },
 "nbformat": 4,
 "nbformat_minor": 2
}
