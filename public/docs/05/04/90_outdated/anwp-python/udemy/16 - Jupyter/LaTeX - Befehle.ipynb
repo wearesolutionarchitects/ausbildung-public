{
 "cells": [
  {
   "cell_type": "markdown",
   "metadata": {},
   "source": [
    "In dieser Lektion geht's darum, wie du mathematische Formeln in das Jupyter Notebook einbinden kannst.\n",
    "\n",
    "Links:\n",
    "\n",
    "- LaTex Math: https://en.wikibooks.org/wiki/LaTeX/Mathematics\n",
    "- Mathematische Zeichen: http://oeis.org/wiki/List_of_LaTeX_mathematical_symbols"
   ]
  },
  {
   "cell_type": "markdown",
   "metadata": {},
   "source": [
    "Normaler Text...\n",
    "\n",
    "$ \\alpha < b $\n",
    "\n",
    "$ a^2 < \\sqrt{b} $\n",
    "\n",
    "Der Mathematische Ausdruck: $ k_{n+1} = n^2 + k_n^2 - k_{n-1} $\n",
    "\n",
    "Der Mathematische Ausdruck: $$ \\frac{n!}{k!(n-k)!} = \\binom{n}{k} $$"
   ]
  },
  {
   "cell_type": "code",
   "execution_count": null,
   "metadata": {
    "collapsed": true
   },
   "outputs": [],
   "source": []
  },
  {
   "cell_type": "code",
   "execution_count": null,
   "metadata": {
    "collapsed": true
   },
   "outputs": [],
   "source": []
  }
 ],
 "metadata": {
  "kernelspec": {
   "display_name": "Python 3",
   "language": "python",
   "name": "python3"
  },
  "language_info": {
   "codemirror_mode": {
    "name": "ipython",
    "version": 3
   },
   "file_extension": ".py",
   "mimetype": "text/x-python",
   "name": "python",
   "nbconvert_exporter": "python",
   "pygments_lexer": "ipython3",
   "version": "3.6.1"
  }
 },
 "nbformat": 4,
 "nbformat_minor": 2
}
