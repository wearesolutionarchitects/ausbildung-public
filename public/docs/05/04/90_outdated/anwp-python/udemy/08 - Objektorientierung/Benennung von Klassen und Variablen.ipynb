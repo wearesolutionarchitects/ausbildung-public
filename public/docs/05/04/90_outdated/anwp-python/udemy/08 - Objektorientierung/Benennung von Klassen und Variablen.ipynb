{
 "cells": [
  {
   "cell_type": "markdown",
   "metadata": {},
   "source": [
    "## Styleguide - Benennung von Klassen und Variablen\n",
    "\n",
    "Grundsätzlich ist es in Python egal, wie wir eine Klasse / Variable benennen. Unser Programm wird so oder so funktionieren.\n",
    "\n",
    "**Aber:** Für Python gibt es ein paar Style - Guides, wie wir \"schönen\" Code schreiben können. Da möchte ich in dieser Lektion die wichtigsten Punkte von durchgehen (https://www.python.org/dev/peps/pep-0008/).\n",
    "\n",
    "Wie können (sollten) wir Variablen / Klassen / Funktionen überhaupt benennen, insbesondere, wenn die Namen aus mehreren Wörtern bestehen sollen?\n",
    "\n",
    "In Python verwendet man dazu nach Konvention:\n",
    "\n",
    "- PascalCase (`IchBesteheAusMehrerenWoertern`)\n",
    "- sneak_case (`ich_bestehe_aus_mehreren_woertern`)\n",
    "\n",
    "Anders als in anderen Programmiersprachen benutzt man nicht:\n",
    "\n",
    "- camelCase (`ichBesteheAusMehrerenWoertern`)"
   ]
  },
  {
   "cell_type": "code",
   "execution_count": 3,
   "metadata": {},
   "outputs": [
    {
     "name": "stdout",
     "output_type": "stream",
     "text": [
      "TEST\n",
      "<__main__.IchBesteheAusMehrerenWoertern object at 0x04E82E10>\n"
     ]
    }
   ],
   "source": [
    "# Klassennamen in PascalCase\n",
    "# Das Beispiel ist aber zu lange ;-)\n",
    "class IchBesteheAusMehrerenWoertern():\n",
    "    def __init__(self):\n",
    "        print(\"TEST\")\n",
    "    \n",
    "    # Funktionsname in sneak_case\n",
    "    def ich_bin_eine_funktion(self):\n",
    "        print(\"asdf\")\n",
    "\n",
    "# Variablennamen auch in sneak_case; aber höchstens drei Wörter ;-)\n",
    "ich_bestehe_aus_mehreren_woertern = IchBesteheAusMehrerenWoertern()\n",
    "\n",
    "print(ich_bestehe_aus_mehreren_woertern)"
   ]
  }
 ],
 "metadata": {
  "kernelspec": {
   "display_name": "Python 3",
   "language": "python",
   "name": "python3"
  },
  "language_info": {
   "codemirror_mode": {
    "name": "ipython",
    "version": 3
   },
   "file_extension": ".py",
   "mimetype": "text/x-python",
   "name": "python",
   "nbconvert_exporter": "python",
   "pygments_lexer": "ipython3",
   "version": "3.6.3"
  }
 },
 "nbformat": 4,
 "nbformat_minor": 2
}
