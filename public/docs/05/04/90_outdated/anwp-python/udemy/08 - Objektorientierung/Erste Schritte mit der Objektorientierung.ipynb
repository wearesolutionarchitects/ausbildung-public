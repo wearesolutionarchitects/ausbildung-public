{
 "cells": [
  {
   "cell_type": "markdown",
   "metadata": {},
   "source": [
    "# Erste Schritte: Objektorientierung\n",
    "\n",
    "In dieser Lektion lernst du:\n",
    "\n",
    "- Wie du Objektorientierung in Python verwendest\n",
    "- Wie du eine Klasse erstellst\n",
    "- Was Methoden sind"
   ]
  },
  {
   "cell_type": "markdown",
   "metadata": {},
   "source": [
    "Wir haben schon mit Objekten gearbeitet, z. B. mit dem Listen-Objekt von Python, auf das wir Methoden wie die append()-Methode angewendet haben:"
   ]
  },
  {
   "cell_type": "code",
   "execution_count": 3,
   "metadata": {},
   "outputs": [
    {
     "name": "stdout",
     "output_type": "stream",
     "text": [
      "['Max', 'Monika', 'Erik']\n"
     ]
    }
   ],
   "source": [
    "students = [\"Max\", \"Monika\"]\n",
    "students.append(\"Erik\")\n",
    "\n",
    "print(students)"
   ]
  },
  {
   "cell_type": "markdown",
   "metadata": {},
   "source": [
    "### Eine Klasse definieren"
   ]
  },
  {
   "cell_type": "markdown",
   "metadata": {},
   "source": [
    "Wir wollen eigene Objekte mit eigenen Methoden erzeugen. Dafür brauchen wir Klassen, das sind Baupläne für Objekte. Die entsprechend dieser Anleitungen erzeugten Objekte nennt man Instanzen dieser Klasse."
   ]
  },
  {
   "cell_type": "code",
   "execution_count": 2,
   "metadata": {
    "collapsed": true
   },
   "outputs": [],
   "source": [
    "# Wir definieren die Klasse Student mit der Methode name(), Klassennamen beginnen gemäß Konvention mit Großbuchstaben\n",
    "\n",
    "class Student():\n",
    "    \n",
    "    # self ist ein Schlüsselwort, es fungiert gewissermassen als Platzhalter für die jeweilige Instanz\n",
    "    def name(self):\n",
    "        print(self.firstname + \" \" + self.lastname)"
   ]
  },
  {
   "cell_type": "markdown",
   "metadata": {},
   "source": [
    "### Eine Instanz erstellen"
   ]
  },
  {
   "cell_type": "markdown",
   "metadata": {},
   "source": [
    "Mittels dieser Klasse als Vorlage erstellen wir uns nun eine Student-Instanz und speichern sie in einer Variable:"
   ]
  },
  {
   "cell_type": "code",
   "execution_count": 8,
   "metadata": {
    "collapsed": true
   },
   "outputs": [],
   "source": [
    "erik = Student()"
   ]
  },
  {
   "cell_type": "markdown",
   "metadata": {},
   "source": [
    "Wir definieren zwei Variablen für das Objekt, auf díe wir über das Objekt per Punktschreibweise zugreifen können:"
   ]
  },
  {
   "cell_type": "code",
   "execution_count": 15,
   "metadata": {},
   "outputs": [
    {
     "name": "stdout",
     "output_type": "stream",
     "text": [
      "Mustermann\n"
     ]
    }
   ],
   "source": [
    "erik.firstname = \"Erik\"\n",
    "erik.lastname = \"Mustermann\"\n",
    "\n",
    "print(erik.lastname)"
   ]
  },
  {
   "cell_type": "code",
   "execution_count": 16,
   "metadata": {},
   "outputs": [
    {
     "name": "stdout",
     "output_type": "stream",
     "text": [
      "Monika\n",
      "Müller\n"
     ]
    }
   ],
   "source": [
    "monika = Student()\n",
    "monika.firstname = \"Monika\"\n",
    "monika.lastname =\"Müller\"\n",
    "\n",
    "print(monika.firstname)\n",
    "print(monika.lastname)"
   ]
  },
  {
   "cell_type": "markdown",
   "metadata": {},
   "source": [
    "### Die Methode eines Objektes benutzen\n",
    "Wie gewohnt funktioniert so auch der Zugriff auf die Methode des Objektes:"
   ]
  },
  {
   "cell_type": "code",
   "execution_count": 17,
   "metadata": {},
   "outputs": [
    {
     "name": "stdout",
     "output_type": "stream",
     "text": [
      "Erik Mustermann\n"
     ]
    }
   ],
   "source": [
    "erik.name()"
   ]
  },
  {
   "cell_type": "code",
   "execution_count": 19,
   "metadata": {},
   "outputs": [
    {
     "name": "stdout",
     "output_type": "stream",
     "text": [
      "Monika Müller\n"
     ]
    }
   ],
   "source": [
    "monika.name()"
   ]
  },
  {
   "cell_type": "markdown",
   "metadata": {},
   "source": [
    "Insbesondere kann es auch weitere Objekte mit einer Methode desselben Namens geben:"
   ]
  },
  {
   "cell_type": "code",
   "execution_count": 31,
   "metadata": {},
   "outputs": [
    {
     "name": "stdout",
     "output_type": "stream",
     "text": [
      "Max Müller: GmbH\n"
     ]
    }
   ],
   "source": [
    "class Company():\n",
    "    \n",
    "    def name(self):\n",
    "        print(self.legal_name + \": \" + self.legal_type)\n",
    "\n",
    "c = Company()\n",
    "c.legal_name = \"Max Müller\"\n",
    "c.legal_type = \"GmbH\"\n",
    "\n",
    "c.name()"
   ]
  },
  {
   "cell_type": "code",
   "execution_count": 32,
   "metadata": {},
   "outputs": [
    {
     "name": "stdout",
     "output_type": "stream",
     "text": [
      "Max Müller: GmbH\n",
      "Max Müller: GmbH\n",
      "Max Müller: GmbH\n",
      "Max Müller: GmbH\n",
      "Max Müller: GmbH\n",
      "Erik Mustermann\n",
      "Erik Mustermann\n",
      "Erik Mustermann\n",
      "Erik Mustermann\n",
      "Erik Mustermann\n",
      "Monika Müller\n",
      "Monika Müller\n",
      "Monika Müller\n",
      "Monika Müller\n",
      "Monika Müller\n"
     ]
    }
   ],
   "source": [
    "def name_5x(v):\n",
    "    for i in range(0,5):\n",
    "         v.name() \n",
    "    \n",
    "name_5x(c)\n",
    "name_5x(erik)\n",
    "name_5x(monika)"
   ]
  },
  {
   "cell_type": "markdown",
   "metadata": {},
   "source": [
    "In der Funktion name_5x() wird jeweils die zum Objekt gehörige Methode name() ausgeführt. Dafür müssen die Objekte natürlich eine name()-Methode enthalten."
   ]
  }
 ],
 "metadata": {
  "kernelspec": {
   "display_name": "Python 3",
   "language": "python",
   "name": "python3"
  },
  "language_info": {
   "codemirror_mode": {
    "name": "ipython",
    "version": 3
   },
   "file_extension": ".py",
   "mimetype": "text/x-python",
   "name": "python",
   "nbconvert_exporter": "python",
   "pygments_lexer": "ipython3",
   "version": "3.6.3"
  }
 },
 "nbformat": 4,
 "nbformat_minor": 2
}
