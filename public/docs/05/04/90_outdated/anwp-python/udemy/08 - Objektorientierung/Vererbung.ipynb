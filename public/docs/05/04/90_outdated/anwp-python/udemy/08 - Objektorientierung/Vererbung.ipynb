{
 "cells": [
  {
   "cell_type": "markdown",
   "metadata": {},
   "source": [
    "# Vererbung\n",
    "\n",
    "Vererbung ist ein fundamentales Konzept der Objektorientierung, mit dem du Daten aufteilen und besser modellieren kannst."
   ]
  },
  {
   "cell_type": "markdown",
   "metadata": {},
   "source": [
    "Die Klasse Student kennen wir schon:"
   ]
  },
  {
   "cell_type": "code",
   "execution_count": 4,
   "metadata": {
    "collapsed": true
   },
   "outputs": [],
   "source": [
    "class Student():\n",
    "    def __init__(self, firstname, surname):\n",
    "        self.firstname = firstname\n",
    "        self.surname = surname\n",
    "\n",
    "    def name(self):\n",
    "        return self.firstname + \" \" + self.surname"
   ]
  },
  {
   "cell_type": "code",
   "execution_count": 7,
   "metadata": {},
   "outputs": [
    {
     "name": "stdout",
     "output_type": "stream",
     "text": [
      "Monika Mustermann\n"
     ]
    }
   ],
   "source": [
    "student = Student(\"Monika\", \"Mustermann\")\n",
    "print(student.name())"
   ]
  },
  {
   "cell_type": "markdown",
   "metadata": {},
   "source": [
    "Wir wollen eine weitere Klasse definieren, die Ähnlichkeiten zu einer bereits bestehenden Klasse aufweist:"
   ]
  },
  {
   "cell_type": "code",
   "execution_count": 29,
   "metadata": {},
   "outputs": [],
   "source": [
    "class WorkingStudent():\n",
    "    \n",
    "    def __init__(self, firstname, surname, company):\n",
    "        self.firstname = firstname\n",
    "        self.surname = surname\n",
    "        self.company = company\n",
    "    \n",
    "    def name(self):\n",
    "        return self.firstname + \" \" + self.surname\n",
    "        "
   ]
  },
  {
   "cell_type": "code",
   "execution_count": 30,
   "metadata": {},
   "outputs": [
    {
     "name": "stdout",
     "output_type": "stream",
     "text": [
      "Max Müller\n"
     ]
    }
   ],
   "source": [
    "student = WorkingStudent(\"Max\", \"Müller\", \"ABCDEF GmbH\")\n",
    "print(student.name())"
   ]
  },
  {
   "cell_type": "markdown",
   "metadata": {},
   "source": [
    "### Eine Klasse mit Vererbung definieren\n",
    "\n",
    "Wir können uns sparen, gleiche Instanzvariablen und Methoden ein weiteres Mal zu definieren - dank Vererbung. Dazu verweisen wird innerhalb einer Klassendefinition auf eine andere:"
   ]
  },
  {
   "cell_type": "code",
   "execution_count": 44,
   "metadata": {
    "collapsed": true
   },
   "outputs": [],
   "source": [
    "# Als Parameter übergeben wir die Klasse, von der unsere neue Eigenschaften und Methoden vererbt werden soll (Mutterklasse)\n",
    "class WorkingStudent(Student):\n",
    "    \n",
    "    def __init__(self, firstname, surname, company):\n",
    "        # Die alten Instanzvariablendefinitionen werden unten hinfällig\n",
    "        # self.firstname = firstname\n",
    "        # self.surname = surname\n",
    "        \n",
    "        # mit super() zeigen wir Python an, dass die init()-Methode der Mutterklasse angewendet werden soll\n",
    "        super().__init__(firstname, surname)\n",
    "        self.company = company\n",
    "    \n",
    "    def name(self):\n",
    "        # wieder verweisen wir mit super() auf die Methode der Mutterklasse, die wir für die Klasse WorkingStudent überschreiben\n",
    "        return super().name() + \" (\" + self.company + \")\""
   ]
  },
  {
   "cell_type": "code",
   "execution_count": 39,
   "metadata": {},
   "outputs": [
    {
     "name": "stdout",
     "output_type": "stream",
     "text": [
      "Max Müller (ABCDEF GmbH)\n"
     ]
    }
   ],
   "source": [
    "student = WorkingStudent(\"Max\", \"Müller\", \"ABCDEF GmbH\")\n",
    "print(student.name())"
   ]
  },
  {
   "cell_type": "code",
   "execution_count": 43,
   "metadata": {},
   "outputs": [
    {
     "name": "stdout",
     "output_type": "stream",
     "text": [
      "Max Müller (ABCDEF GmbH)\n",
      "Monika Mustermann\n",
      "Erik Müller\n",
      "Franziska Mustermann (XYZXYZ GmbH)\n"
     ]
    }
   ],
   "source": [
    "students = [\n",
    "    WorkingStudent(\"Max\", \"Müller\", \"ABCDEF GmbH\"),\n",
    "    Student(\"Monika\", \"Mustermann\"),\n",
    "    Student(\"Erik\", \"Müller\"),\n",
    "    WorkingStudent(\"Franziska\", \"Mustermann\", \"XYZXYZ GmbH\")\n",
    "]\n",
    "\n",
    "for student in students:\n",
    "    print(student.name())"
   ]
  },
  {
   "cell_type": "markdown",
   "metadata": {},
   "source": [
    "Hier sehen wir, dass die verschiedenen name()-Methoden verschiedene Ausgaben liefern, obwohl wir mit demselben Namen auf sie zugreifen."
   ]
  }
 ],
 "metadata": {
  "kernelspec": {
   "display_name": "Python 3",
   "language": "python",
   "name": "python3"
  },
  "language_info": {
   "codemirror_mode": {
    "name": "ipython",
    "version": 3
   },
   "file_extension": ".py",
   "mimetype": "text/x-python",
   "name": "python",
   "nbconvert_exporter": "python",
   "pygments_lexer": "ipython3",
   "version": "3.6.3"
  }
 },
 "nbformat": 4,
 "nbformat_minor": 2
}
