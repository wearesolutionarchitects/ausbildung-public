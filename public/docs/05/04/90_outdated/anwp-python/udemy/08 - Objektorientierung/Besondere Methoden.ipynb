{
 "cells": [
  {
   "cell_type": "markdown",
   "metadata": {},
   "source": [
    "## In Python gibt es ein paar besondere Methoden, die unsere Klasse implementieren kann...\n",
    "\n",
    "Damit kannst du dafür sorgen, dass:\n",
    "\n",
    "- deine Klasse direkt ausgegeben werden kann,\n",
    "- du len(variable) berechnen kannst."
   ]
  },
  {
   "cell_type": "markdown",
   "metadata": {},
   "source": [
    "Die str-Funktion"
   ]
  },
  {
   "cell_type": "code",
   "execution_count": 5,
   "metadata": {},
   "outputs": [
    {
     "name": "stdout",
     "output_type": "stream",
     "text": [
      "PhoneBook({'Mustermann': '+4912345678', 'Müller': '+49123456789'})\n"
     ]
    }
   ],
   "source": [
    "class PhoneBook():\n",
    "    def __init__(self):\n",
    "        self.__entries = {}\n",
    "        \n",
    "    def add(self, name, phone_number):\n",
    "        self.__entries[name] = phone_number\n",
    "        \n",
    "    def get(self, name):\n",
    "        if name in self.__entries:\n",
    "            return self.__entries[name]\n",
    "        else:\n",
    "            return None\n",
    "    \n",
    "    def __str__(self):\n",
    "        return \"PhoneBook(\" + str(self.__entries) + \")\"\n",
    "    \n",
    "book = PhoneBook()\n",
    "book.add(\"Mustermann\", \"+4912345678\")\n",
    "book.add(\"Müller\", \"+49123456789\")\n",
    "\n",
    "print(book)"
   ]
  },
  {
   "cell_type": "markdown",
   "metadata": {},
   "source": [
    "Die repr-Methode"
   ]
  },
  {
   "cell_type": "code",
   "execution_count": 12,
   "metadata": {},
   "outputs": [
    {
     "name": "stdout",
     "output_type": "stream",
     "text": [
      "PhoneBook({'Mustermann': '+4912345678', 'Müller': '+49123456789'})\n"
     ]
    }
   ],
   "source": [
    "class PhoneBook():\n",
    "    def __init__(self):\n",
    "        self.__entries = {}\n",
    "        \n",
    "    def add(self, name, phone_number):\n",
    "        self.__entries[name] = phone_number\n",
    "        \n",
    "    def get(self, name):\n",
    "        if name in self.__entries:\n",
    "            return self.__entries[name]\n",
    "        else:\n",
    "            return None\n",
    "    \n",
    "    def __str__(self):\n",
    "        return \"PhoneBook(\" + str(self.__entries) + \")\"\n",
    "    \n",
    "    def __repr__(self):\n",
    "        return self.__str__()\n",
    "\n",
    "        \n",
    "book = PhoneBook()\n",
    "book.add(\"Mustermann\", \"+4912345678\")\n",
    "book.add(\"Müller\", \"+49123456789\")\n",
    "\n",
    "print(book)"
   ]
  },
  {
   "cell_type": "markdown",
   "metadata": {},
   "source": [
    "Die len-Methode"
   ]
  },
  {
   "cell_type": "code",
   "execution_count": 13,
   "metadata": {},
   "outputs": [
    {
     "name": "stdout",
     "output_type": "stream",
     "text": [
      "2\n"
     ]
    }
   ],
   "source": [
    "class PhoneBook():\n",
    "    def __init__(self):\n",
    "        self.__entries = {}\n",
    "        \n",
    "    def add(self, name, phone_number):\n",
    "        self.__entries[name] = phone_number\n",
    "        \n",
    "    def get(self, name):\n",
    "        if name in self.__entries:\n",
    "            return self.__entries[name]\n",
    "        else:\n",
    "            return None\n",
    "    \n",
    "    def __len__(self):\n",
    "        return len(self.__entries)\n",
    "\n",
    "        \n",
    "book = PhoneBook()\n",
    "book.add(\"Mustermann\", \"+4912345678\")\n",
    "book.add(\"Müller\", \"+49123456789\")\n",
    "\n",
    "print(len(book))"
   ]
  }
 ],
 "metadata": {
  "kernelspec": {
   "display_name": "Python 3",
   "language": "python",
   "name": "python3"
  },
  "language_info": {
   "codemirror_mode": {
    "name": "ipython",
    "version": 3
   },
   "file_extension": ".py",
   "mimetype": "text/x-python",
   "name": "python",
   "nbconvert_exporter": "python",
   "pygments_lexer": "ipython3",
   "version": "3.6.3"
  }
 },
 "nbformat": 4,
 "nbformat_minor": 2
}
