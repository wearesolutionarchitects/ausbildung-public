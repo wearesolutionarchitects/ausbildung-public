{
 "cells": [
  {
   "cell_type": "markdown",
   "metadata": {},
   "source": [
    "# Abschluss Weitere Python Grundlagen"
   ]
  },
  {
   "cell_type": "markdown",
   "metadata": {},
   "source": [
    "### Alternative Benutzernamen\n",
    "Zurück zum Zauber-Online-Shop. Diesmal sind Funktionen gewünscht, die alternative Nutzernamen vorschlagen, sofern der Name des neuen Nutzers schon als Nutzername belegt ist.\n"
   ]
  },
  {
   "cell_type": "markdown",
   "metadata": {},
   "source": [
    "#### a.) Abgekürzte Vornamen\n",
    "\n",
    "Du sollst eine Funktion schreiben, der zwei Parameter übergeben werden: ein Vorname und ein Nachname. Die Funktion soll daraus einen Nutzernamen liefern, der aus dem Anfangsbuchstaben des Vornamens und dahinter, ohne Leerzeichen, dem ganzen Nachnamen besteht."
   ]
  },
  {
   "cell_type": "code",
   "execution_count": 19,
   "metadata": {},
   "outputs": [
    {
     "name": "stdout",
     "output_type": "stream",
     "text": [
      "WWizard\n"
     ]
    }
   ],
   "source": [
    "def user_name(first, last):\n",
    "    # hier kommt dein Code hin\n",
    "\n",
    "print(user_name(\"Willy\", \"Wizard\"))"
   ]
  },
  {
   "cell_type": "code",
   "execution_count": 4,
   "metadata": {},
   "outputs": [
    {
     "name": "stdout",
     "output_type": "stream",
     "text": [
      "WWizard\n"
     ]
    }
   ],
   "source": [
    "def user_name(first, last):\n",
    "    return first[0] + last\n",
    "\n",
    "print(user_name(\"Willy\", \"Wizard\"))"
   ]
  },
  {
   "cell_type": "markdown",
   "metadata": {},
   "source": [
    "#### b.) Verbotene Zeichen\n",
    "\n",
    "Viele Nutzer hängen aus Glauben die Zahl 666 an den Benutzernamen. Doch so viel Magie stört die Shopsoftware! Wenn also ein Nutzername auf 666 endet, muss die Zahl entfernt werden. Schreibe eine Funktion, die als Parameter einen Namen erhält und diesen gegebenenfalls bereinigt zurückliefert.\n",
    "\n",
    "Nur die Folge 666 ist verboten, 66 und 6666 sollen erlaubt sein."
   ]
  },
  {
   "cell_type": "code",
   "execution_count": 13,
   "metadata": {},
   "outputs": [
    {
     "data": {
      "text/plain": [
       "'Hexer'"
      ]
     },
     "execution_count": 13,
     "metadata": {},
     "output_type": "execute_result"
    }
   ],
   "source": [
    "def legit_name(name):\n",
    "    #hier steht dein Code\n",
    "    \n",
    "legit_name(\"Hexer666\")"
   ]
  },
  {
   "cell_type": "code",
   "execution_count": null,
   "metadata": {
    "collapsed": true
   },
   "outputs": [],
   "source": [
    "def legit_name(name):\n",
    "    if name[-3:] == \"666\":\n",
    "        return name[:-3]\n",
    "    else:\n",
    "        return name\n",
    "    \n",
    "legit_name(\"Hexer666\")"
   ]
  },
  {
   "cell_type": "markdown",
   "metadata": {},
   "source": [
    "#### c.) Nummerierte Nutzernamen\n",
    "In Fällen, dass der gewünschte Nutzername auf eine Zahl endet, soll der Name mit der nächsthöheren (ganzen) Zahl vorgesschlagen werden. Ausser, die letzte Ziffer des Nutzernamens ist schon eine 9. Dann soll einfach wieder eine 1 an den bereits bestehenden Nutzernamen angehängt werden. Schreibe eine Funktion, die als Parameter einen String erhält! Du kannst annehmen, dass der String auf eine Zahl endet. Die Funktion soll einen String zurückliefern, worin die Zahl aus dem Ausgangsstring aber um 1 erhöht bzw. eine 1 angehängt wurde.\n",
    "\n",
    "Du kannst davon ausgehen, dass mit der Funktion nur Namen bearbeitet werden sollen, die bereits auf verbotene Zeichen geprüft wurden."
   ]
  },
  {
   "cell_type": "code",
   "execution_count": 14,
   "metadata": {},
   "outputs": [
    {
     "ename": "IndentationError",
     "evalue": "expected an indented block (<ipython-input-14-e9b736a29916>, line 4)",
     "output_type": "error",
     "traceback": [
      "\u001b[0;36m  File \u001b[0;32m\"<ipython-input-14-e9b736a29916>\"\u001b[0;36m, line \u001b[0;32m4\u001b[0m\n\u001b[0;31m    print(user_name(\"Teufelchen699\"))\u001b[0m\n\u001b[0m        ^\u001b[0m\n\u001b[0;31mIndentationError\u001b[0m\u001b[0;31m:\u001b[0m expected an indented block\n"
     ]
    }
   ],
   "source": [
    "def user_name(name):\n",
    "    # hier kommt dein Code hin\n",
    "\n",
    "print(user_name(\"Teufelchen699\"))"
   ]
  },
  {
   "cell_type": "code",
   "execution_count": 3,
   "metadata": {},
   "outputs": [
    {
     "name": "stdout",
     "output_type": "stream",
     "text": [
      "Teufelchen6991\n"
     ]
    }
   ],
   "source": [
    "def user_name(name):\n",
    "    \n",
    "    number = int(name[-1])\n",
    "    \n",
    "    if number < 9:\n",
    "        number += 1\n",
    "        return name[:-1] + str(number)\n",
    "    else:\n",
    "         return name + str(1)\n",
    "        \n",
    "print(user_name(\"Teufelchen699\"))"
   ]
  },
  {
   "cell_type": "markdown",
   "metadata": {},
   "source": [
    "#### d.) Liste mit Kunstwörtern\n",
    "Die Mathemagierin braucht Inspiration bei der Benennung neuer Produkte! Sie gibt dir eine Liste mit Strings und wünscht sich auf dieser Grundlage von dir eine Liste mit Kunstwörtern. Ein solches Kunstwort soll aus einem Wort von der Liste gebildet werden, indem man bei jedem Wort die ersten vier Buchstaben weglässt und dahinter nochmal das Wort, aber ohne den ersten und die letzten beiden Buchstaben gehängt wird. \n",
    "\n",
    "Du fragst dich, ob noch alles mit der Mathemagierin in Ordnung ist und machst dich dann an die Aufgabe, eine solche Liste mit den komischen Kunstwörtern möglichst schnell zu erstellen."
   ]
  },
  {
   "cell_type": "code",
   "execution_count": 62,
   "metadata": {
    "collapsed": true
   },
   "outputs": [],
   "source": [
    "words = [\"Karten\", \"Sägeblatt\", \"Teller\", \"Tasse\", \"Vogel\", \"Kraut\", \"Faden\"]"
   ]
  },
  {
   "cell_type": "code",
   "execution_count": 63,
   "metadata": {},
   "outputs": [
    {
     "data": {
      "text/plain": [
       "['tenart', 'eblattägebla', 'lerell', 'seas', 'elog', 'utra', 'enad']"
      ]
     },
     "execution_count": 63,
     "metadata": {},
     "output_type": "execute_result"
    }
   ],
   "source": []
  },
  {
   "cell_type": "code",
   "execution_count": 65,
   "metadata": {},
   "outputs": [
    {
     "data": {
      "text/plain": [
       "['tenart', 'eblattägebla', 'lerell', 'seas', 'elog', 'utra', 'enad']"
      ]
     },
     "execution_count": 65,
     "metadata": {},
     "output_type": "execute_result"
    }
   ],
   "source": [
    "[i[3:] + i[1:-2] for i in words]"
   ]
  },
  {
   "cell_type": "markdown",
   "metadata": {},
   "source": [
    "### Gut gemacht :-)"
   ]
  }
 ],
 "metadata": {
  "kernelspec": {
   "display_name": "Python 3",
   "language": "python",
   "name": "python3"
  },
  "language_info": {
   "codemirror_mode": {
    "name": "ipython",
    "version": 3
   },
   "file_extension": ".py",
   "mimetype": "text/x-python",
   "name": "python",
   "nbconvert_exporter": "python",
   "pygments_lexer": "ipython3",
   "version": "3.6.3"
  }
 },
 "nbformat": 4,
 "nbformat_minor": 2
}
