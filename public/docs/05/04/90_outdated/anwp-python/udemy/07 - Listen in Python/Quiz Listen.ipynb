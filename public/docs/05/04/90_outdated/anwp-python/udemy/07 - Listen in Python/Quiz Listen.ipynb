{
 "cells": [
  {
   "cell_type": "markdown",
   "metadata": {},
   "source": [
    "## Quiz: Listen"
   ]
  },
  {
   "cell_type": "markdown",
   "metadata": {},
   "source": [
    "#### Aufgabe 1\n",
    "\n",
    "Welchen Buchstaben gibt folgendes Programm aus?\n",
    "\n",
    "```python\n",
    "print(\"Hallo Welt\"[-2])\n",
    "```\n",
    "\n",
    "- A) `t`\n",
    "- B) `l`\n",
    "- C) `H`\n",
    "- D) `e`"
   ]
  },
  {
   "cell_type": "markdown",
   "metadata": {},
   "source": [
    "Richtige Lösung: "
   ]
  },
  {
   "cell_type": "markdown",
   "metadata": {},
   "source": [
    "#### Aufgabe 2\n",
    "\n",
    "Was gibt folgendes Programm aus?\n",
    "\n",
    "```python\n",
    "print(\"Max Mustermann\"[-3:])\n",
    "```\n",
    "\n",
    "- A) `Max`\n",
    "- B) `Mus`\n",
    "- C) `Max Musterm`\n",
    "- D) `ann`"
   ]
  },
  {
   "cell_type": "markdown",
   "metadata": {},
   "source": [
    "Richtige Lösung: "
   ]
  },
  {
   "cell_type": "markdown",
   "metadata": {},
   "source": [
    "#### Aufgabe 3\n",
    "\n",
    "Was gibt folgendes Programm aus?\n",
    "\n",
    "```python\n",
    "print(\"Max Mustermann\"[:-3])\n",
    "```\n",
    "\n",
    "- A) `Max`\n",
    "- B) `Mus`\n",
    "- C) `Max Musterm`\n",
    "- D) `ann`"
   ]
  },
  {
   "cell_type": "markdown",
   "metadata": {},
   "source": [
    "Richtige Lösung: "
   ]
  },
  {
   "cell_type": "markdown",
   "metadata": {},
   "source": [
    "#### Aufgabe 4\n",
    "\n",
    "Was gibt folgendes Programm aus?\n",
    "\n",
    "```python\n",
    "print(\"Hallo Welt!\"[6:-1])\n",
    "```\n",
    "\n",
    "- A) `Halt`\n",
    "- B) `Welt`\n",
    "- C) `Hallo`\n",
    "- D) `lo Welt!`"
   ]
  },
  {
   "cell_type": "markdown",
   "metadata": {},
   "source": [
    "Richtige Lösung: "
   ]
  },
  {
   "cell_type": "code",
   "execution_count": null,
   "metadata": {
    "collapsed": true
   },
   "outputs": [],
   "source": []
  },
  {
   "cell_type": "code",
   "execution_count": null,
   "metadata": {
    "collapsed": true
   },
   "outputs": [],
   "source": []
  }
 ],
 "metadata": {
  "kernelspec": {
   "display_name": "Python 3",
   "language": "python",
   "name": "python3"
  },
  "language_info": {
   "codemirror_mode": {
    "name": "ipython",
    "version": 3
   },
   "file_extension": ".py",
   "mimetype": "text/x-python",
   "name": "python",
   "nbconvert_exporter": "python",
   "pygments_lexer": "ipython3",
   "version": "3.6.1"
  }
 },
 "nbformat": 4,
 "nbformat_minor": 2
}
