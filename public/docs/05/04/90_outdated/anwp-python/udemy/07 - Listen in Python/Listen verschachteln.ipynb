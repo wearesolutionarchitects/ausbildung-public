{
 "cells": [
  {
   "cell_type": "markdown",
   "metadata": {},
   "source": [
    "## Listen verschachteln\n",
    "\n",
    "In Python ist es erlaubt, Listen ineinander zu verschachteln. Das erlaubt uns z. B. eine Matrix zu modellieren.\n",
    "\n",
    "In dieser Lektion lernst du:\n",
    "\n",
    "- Wie du Listen ineinander verschachtelst\n",
    "- und auf die Elemente dann entsprechend zugreifst."
   ]
  },
  {
   "cell_type": "code",
   "execution_count": 1,
   "metadata": {
    "collapsed": true
   },
   "outputs": [],
   "source": [
    "liste = [\n",
    "    [\"Berlin\", \"München\", \"Köln\"],\n",
    "    [\"Budapest\", \"Pécs\", \"Sopron\"]\n",
    "]"
   ]
  },
  {
   "cell_type": "code",
   "execution_count": 5,
   "metadata": {},
   "outputs": [
    {
     "data": {
      "text/plain": [
       "'Berlin'"
      ]
     },
     "execution_count": 5,
     "metadata": {},
     "output_type": "execute_result"
    }
   ],
   "source": [
    "liste[0][0]"
   ]
  },
  {
   "cell_type": "markdown",
   "metadata": {},
   "source": [
    "## Listen in Dictionaries"
   ]
  },
  {
   "cell_type": "code",
   "execution_count": 8,
   "metadata": {},
   "outputs": [
    {
     "name": "stdout",
     "output_type": "stream",
     "text": [
      "['Max', 'Monika']\n",
      "['Erik', 'Franziska']\n"
     ]
    }
   ],
   "source": [
    "students = {\n",
    "    \"Informatik\": [\"Max\", \"Monika\"],\n",
    "    \"BWL\": [\"Erik\", \"Franziska\"]\n",
    "}\n",
    "\n",
    "print(students[\"Informatik\"])\n",
    "print(students[\"BWL\"])"
   ]
  },
  {
   "cell_type": "code",
   "execution_count": null,
   "metadata": {
    "collapsed": true
   },
   "outputs": [],
   "source": []
  }
 ],
 "metadata": {
  "kernelspec": {
   "display_name": "Python 3",
   "language": "python",
   "name": "python3"
  },
  "language_info": {
   "codemirror_mode": {
    "name": "ipython",
    "version": 3
   },
   "file_extension": ".py",
   "mimetype": "text/x-python",
   "name": "python",
   "nbconvert_exporter": "python",
   "pygments_lexer": "ipython3",
   "version": "3.6.3"
  }
 },
 "nbformat": 4,
 "nbformat_minor": 2
}
