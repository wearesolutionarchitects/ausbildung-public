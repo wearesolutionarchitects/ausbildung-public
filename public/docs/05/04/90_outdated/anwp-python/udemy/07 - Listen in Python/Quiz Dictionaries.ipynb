{
 "cells": [
  {
   "cell_type": "markdown",
   "metadata": {},
   "source": [
    "## Quiz Dictionaries"
   ]
  },
  {
   "cell_type": "markdown",
   "metadata": {},
   "source": [
    "#### Aufgabe 1\n",
    "\n",
    "Welcher Code definiert ein Dictionary?\n",
    "\n",
    "- A) `[\"Trump\": \"USA\", \"Merkel\": \"Deutschland\"]`\n",
    "- B) `(\"Trump\": \"USA\", \"Merkel\": \"Deutschland\")`\n",
    "- C) `{\"Trump\", \"USA\", \"Merkel\", \"Deutschland\"}`\n",
    "- d) `{\"Trump\": \"USA\", \"Merkel\": \"Deutschland\"}`"
   ]
  },
  {
   "cell_type": "markdown",
   "metadata": {},
   "source": [
    "Richtige Antwort: "
   ]
  },
  {
   "cell_type": "markdown",
   "metadata": {},
   "source": [
    "#### Aufgabe 2\n",
    "\n",
    "Wir haben ein Dictionary wie folgt definiert:\n",
    "\n",
    "```python\n",
    "d = {\"Trump\": \"USA\", \"Merkel\": \"Deutschland\"}\n",
    "```\n",
    "\n",
    "Wie greifen wir jetzt auf den ersten Eintrag (Trump / USA) zu?\n",
    "\n",
    "- A) `print(d[\"Trump\"])`\n",
    "- B) `print(d[\"USA\"])`\n",
    "- C) `print(d[0])`\n",
    "- D) `print(d[1])`"
   ]
  },
  {
   "cell_type": "markdown",
   "metadata": {},
   "source": [
    "Richtige Antwort: "
   ]
  },
  {
   "cell_type": "markdown",
   "metadata": {},
   "source": [
    "#### Aufgabe 3\n",
    "\n",
    "Wir haben ein Dictionary wie folgt definiert:\n",
    "\n",
    "```python\n",
    "d = {\"Trump\": \"USA\", \"Merkel\": \"Deutschland\"}\n",
    "```\n",
    "\n",
    "Wie überprüfst du, ob der Eintrag (Trump / USA) im Dictionary enthalten ist?\n",
    "\n",
    "- A) `0 in d`\n",
    "- B) `\"Trump\": \"USA\" in d`\n",
    "- C) `\"Trump\" in d`\n",
    "- D) `\"USA\" in d`"
   ]
  },
  {
   "cell_type": "markdown",
   "metadata": {},
   "source": [
    "Richtige Antwort: "
   ]
  }
 ],
 "metadata": {
  "kernelspec": {
   "display_name": "Python 3",
   "language": "python",
   "name": "python3"
  },
  "language_info": {
   "codemirror_mode": {
    "name": "ipython",
    "version": 3
   },
   "file_extension": ".py",
   "mimetype": "text/x-python",
   "name": "python",
   "nbconvert_exporter": "python",
   "pygments_lexer": "ipython3",
   "version": "3.6.1"
  }
 },
 "nbformat": 4,
 "nbformat_minor": 2
}
