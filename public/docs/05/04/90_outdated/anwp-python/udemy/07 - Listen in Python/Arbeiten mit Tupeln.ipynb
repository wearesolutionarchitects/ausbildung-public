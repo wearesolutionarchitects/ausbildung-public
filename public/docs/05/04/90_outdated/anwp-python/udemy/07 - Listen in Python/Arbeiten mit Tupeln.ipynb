{
 "cells": [
  {
   "cell_type": "markdown",
   "metadata": {},
   "source": [
    "## Arbeiten mit Tupeln\n",
    "\n",
    "In dieser Lektion lernst du:\n",
    "\n",
    "- Wie du Tupel verwenden kannst, um mehrere Rückgabewerte einer Funktion zu modellieren\n",
    "- Wie du Tupel entpacken kannst"
   ]
  },
  {
   "cell_type": "code",
   "execution_count": 4,
   "metadata": {},
   "outputs": [
    {
     "name": "stdout",
     "output_type": "stream",
     "text": [
      "Max Müller\n",
      "22\n",
      "Informatik\n"
     ]
    }
   ],
   "source": [
    "student = (\"Max Müller\", 22, \"Informatik\")\n",
    "\n",
    "name, age, subject = student\n",
    "\n",
    "# name = student[0]\n",
    "# age = student[1]\n",
    "# subject = student[2]\n",
    "\n",
    "print(name)\n",
    "print(age)\n",
    "print(subject)"
   ]
  },
  {
   "cell_type": "code",
   "execution_count": 5,
   "metadata": {},
   "outputs": [
    {
     "name": "stdout",
     "output_type": "stream",
     "text": [
      "Max Müller\n",
      "22\n",
      "Informatik\n"
     ]
    }
   ],
   "source": [
    "def get_student():\n",
    "    return (\"Max Müller\", 22, \"Informatik\")\n",
    "\n",
    "name, age, student = get_student()\n",
    "\n",
    "print(name)\n",
    "print(age)\n",
    "print(subject)"
   ]
  },
  {
   "cell_type": "code",
   "execution_count": 9,
   "metadata": {},
   "outputs": [
    {
     "name": "stdout",
     "output_type": "stream",
     "text": [
      "Max Müller\n",
      "22\n",
      "Monika Mustermann\n",
      "23\n"
     ]
    }
   ],
   "source": [
    "students = [\n",
    "    (\"Max Müller\", 22),\n",
    "    (\"Monika Mustermann\", 23)\n",
    "]\n",
    "\n",
    "for name, age in students:\n",
    "    print(name)\n",
    "    print(age)\n"
   ]
  },
  {
   "cell_type": "code",
   "execution_count": null,
   "metadata": {
    "collapsed": true
   },
   "outputs": [],
   "source": []
  }
 ],
 "metadata": {
  "kernelspec": {
   "display_name": "Python 3",
   "language": "python",
   "name": "python3"
  },
  "language_info": {
   "codemirror_mode": {
    "name": "ipython",
    "version": 3
   },
   "file_extension": ".py",
   "mimetype": "text/x-python",
   "name": "python",
   "nbconvert_exporter": "python",
   "pygments_lexer": "ipython3",
   "version": "3.6.1"
  }
 },
 "nbformat": 4,
 "nbformat_minor": 2
}
