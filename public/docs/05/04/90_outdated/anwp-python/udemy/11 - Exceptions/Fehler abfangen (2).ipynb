{
 "cells": [
  {
   "cell_type": "markdown",
   "metadata": {
    "collapsed": true
   },
   "source": [
    "## Exceptions in Python\n",
    "\n",
    "In dieser Lektion lernst du, wie du:\n",
    "\n",
    "- mehrere Exceptions abfangen kannst\n",
    "- eigene Exceptions erstellen kannst."
   ]
  },
  {
   "cell_type": "code",
   "execution_count": 3,
   "metadata": {},
   "outputs": [
    {
     "name": "stdout",
     "output_type": "stream",
     "text": [
      "FileNotFoundError ist aufgetreten\n"
     ]
    }
   ],
   "source": [
    "try:\n",
    "    with open(\"datei.xyz\", \"r\") as file:\n",
    "        print(file)\n",
    "    print(5 / 0)\n",
    "except ZeroDivisionError:\n",
    "    print(\"Du darfst nicht durch 0 teilen\")\n",
    "except FileNotFoundError:\n",
    "    print(\"FileNotFoundError ist aufgetreten\")"
   ]
  },
  {
   "cell_type": "code",
   "execution_count": 4,
   "metadata": {},
   "outputs": [
    {
     "name": "stdout",
     "output_type": "stream",
     "text": [
      "Du darfst nicht durch 0 teilen\n"
     ]
    }
   ],
   "source": [
    "def do_something():\n",
    "    print(5 / 0)\n",
    "    \n",
    "try:\n",
    "    do_something()\n",
    "except ZeroDivisionError:\n",
    "    print(\"Du darfst nicht durch 0 teilen\")"
   ]
  },
  {
   "cell_type": "code",
   "execution_count": 8,
   "metadata": {},
   "outputs": [
    {
     "name": "stdout",
     "output_type": "stream",
     "text": [
      "Bitte gebe eine gültige E-Mail ein\n"
     ]
    }
   ],
   "source": [
    "class InvalidEmailError(Exception):\n",
    "    pass\n",
    "\n",
    "def send_mail(email, subject, content):\n",
    "    if not \"@\" in email:\n",
    "        raise InvalidEmailError(\"email does not contain an @\")\n",
    "try:     \n",
    "    send_mail(\"hallo\", \"Betreff\", \"Inhalt\")\n",
    "except InvalidEmailError:\n",
    "    print(\"Bitte gebe eine gültige E-Mail ein\")"
   ]
  },
  {
   "cell_type": "code",
   "execution_count": null,
   "metadata": {
    "collapsed": true
   },
   "outputs": [],
   "source": []
  }
 ],
 "metadata": {
  "kernelspec": {
   "display_name": "Python 3",
   "language": "python",
   "name": "python3"
  },
  "language_info": {
   "codemirror_mode": {
    "name": "ipython",
    "version": 3
   },
   "file_extension": ".py",
   "mimetype": "text/x-python",
   "name": "python",
   "nbconvert_exporter": "python",
   "pygments_lexer": "ipython3",
   "version": "3.6.3"
  }
 },
 "nbformat": 4,
 "nbformat_minor": 2
}
