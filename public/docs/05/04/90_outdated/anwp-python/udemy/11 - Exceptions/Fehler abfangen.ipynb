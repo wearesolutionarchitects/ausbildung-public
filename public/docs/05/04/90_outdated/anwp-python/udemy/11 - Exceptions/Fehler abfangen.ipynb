{
 "cells": [
  {
   "cell_type": "markdown",
   "metadata": {
    "collapsed": true
   },
   "source": [
    "## Exceptions in Python\n",
    "\n",
    "In dieser Lektion lernst du:\n",
    "\n",
    "- Wie du damit umgehst, wenn während der Laufzeit deines Programms ein Fehler auftritt."
   ]
  },
  {
   "cell_type": "code",
   "execution_count": 2,
   "metadata": {},
   "outputs": [
    {
     "ename": "ZeroDivisionError",
     "evalue": "division by zero",
     "output_type": "error",
     "traceback": [
      "\u001b[0;31m---------------------------------------------------------------------------\u001b[0m",
      "\u001b[0;31mZeroDivisionError\u001b[0m                         Traceback (most recent call last)",
      "\u001b[0;32m<ipython-input-2-45ea8383491d>\u001b[0m in \u001b[0;36m<module>\u001b[0;34m()\u001b[0m\n\u001b[1;32m      2\u001b[0m \u001b[0;34m\u001b[0m\u001b[0m\n\u001b[1;32m      3\u001b[0m \u001b[0;34m\u001b[0m\u001b[0m\n\u001b[0;32m----> 4\u001b[0;31m \u001b[0mprint\u001b[0m\u001b[0;34m(\u001b[0m\u001b[0;36m5\u001b[0m \u001b[0;34m/\u001b[0m \u001b[0mx\u001b[0m\u001b[0;34m)\u001b[0m\u001b[0;34m\u001b[0m\u001b[0m\n\u001b[0m",
      "\u001b[0;31mZeroDivisionError\u001b[0m: division by zero"
     ]
    }
   ],
   "source": [
    "x = 0\n",
    "\n",
    "\n",
    "print(5 / x)"
   ]
  },
  {
   "cell_type": "code",
   "execution_count": 3,
   "metadata": {},
   "outputs": [
    {
     "ename": "FileNotFoundError",
     "evalue": "[Errno 2] No such file or directory: 'datei.xyz'",
     "output_type": "error",
     "traceback": [
      "\u001b[0;31m---------------------------------------------------------------------------\u001b[0m",
      "\u001b[0;31mFileNotFoundError\u001b[0m                         Traceback (most recent call last)",
      "\u001b[0;32m<ipython-input-3-44c2cd2a495d>\u001b[0m in \u001b[0;36m<module>\u001b[0;34m()\u001b[0m\n\u001b[0;32m----> 1\u001b[0;31m \u001b[0;32mwith\u001b[0m \u001b[0mopen\u001b[0m\u001b[0;34m(\u001b[0m\u001b[0;34m\"datei.xyz\"\u001b[0m\u001b[0;34m,\u001b[0m \u001b[0;34m\"r\"\u001b[0m\u001b[0;34m)\u001b[0m \u001b[0;32mas\u001b[0m \u001b[0mfile\u001b[0m\u001b[0;34m:\u001b[0m\u001b[0;34m\u001b[0m\u001b[0m\n\u001b[0m\u001b[1;32m      2\u001b[0m     \u001b[0mprint\u001b[0m\u001b[0;34m(\u001b[0m\u001b[0mfile\u001b[0m\u001b[0;34m)\u001b[0m\u001b[0;34m\u001b[0m\u001b[0m\n",
      "\u001b[0;31mFileNotFoundError\u001b[0m: [Errno 2] No such file or directory: 'datei.xyz'"
     ]
    }
   ],
   "source": [
    "with open(\"datei.xyz\", \"r\") as file:\n",
    "    print(file)"
   ]
  },
  {
   "cell_type": "code",
   "execution_count": 6,
   "metadata": {},
   "outputs": [
    {
     "name": "stdout",
     "output_type": "stream",
     "text": [
      "Durch null teilen ist nicht erlaubt!\n",
      "5\n"
     ]
    }
   ],
   "source": [
    "try:\n",
    "    print(5 / 0)\n",
    "    print(4)\n",
    "except ZeroDivisionError:\n",
    "    print(\"Durch null teilen ist nicht erlaubt!\")\n",
    "print(5)"
   ]
  },
  {
   "cell_type": "code",
   "execution_count": 7,
   "metadata": {},
   "outputs": [
    {
     "name": "stdout",
     "output_type": "stream",
     "text": [
      "Die Datei konnte nicht geöffnet werden\n"
     ]
    }
   ],
   "source": [
    "try:\n",
    "    with open(\"datei.xyz\", \"r\") as file:\n",
    "        print(file)\n",
    "except FileNotFoundError:\n",
    "    print(\"Die Datei konnte nicht geöffnet werden\")"
   ]
  },
  {
   "cell_type": "markdown",
   "metadata": {
    "collapsed": true
   },
   "source": [
    "## Exceptions in Python\n",
    "\n",
    "In dieser Lektion lernst du:\n",
    "\n",
    "- Wie du mehrere Exceptions abfangen kannst\n",
    "- Und wie du eigene Exceptions erstellen kannst"
   ]
  },
  {
   "cell_type": "code",
   "execution_count": 3,
   "metadata": {},
   "outputs": [
    {
     "name": "stdout",
     "output_type": "stream",
     "text": [
      "FileNotFoundError ist aufgetreten\n"
     ]
    }
   ],
   "source": [
    "try:\n",
    "    with open(\"datei.xyz\", \"r\") as file:\n",
    "        print(file)\n",
    "    print(5 / 0)\n",
    "except ZeroDivisionError:\n",
    "    print(\"Du darfst nicht durch 0 teilen\")\n",
    "except FileNotFoundError:\n",
    "    print(\"FileNotFoundError ist aufgetreten\")"
   ]
  },
  {
   "cell_type": "code",
   "execution_count": 4,
   "metadata": {},
   "outputs": [
    {
     "name": "stdout",
     "output_type": "stream",
     "text": [
      "Du darfst nicht durch 0 teilen\n"
     ]
    }
   ],
   "source": [
    "def do_something():\n",
    "    print(5 / 0)\n",
    "    \n",
    "try:\n",
    "    do_something()\n",
    "except ZeroDivisionError:\n",
    "    print(\"Du darfst nicht durch 0 teilen\")"
   ]
  },
  {
   "cell_type": "code",
   "execution_count": 8,
   "metadata": {},
   "outputs": [
    {
     "name": "stdout",
     "output_type": "stream",
     "text": [
      "Bitte gebe eine gültige E-Mail ein\n"
     ]
    }
   ],
   "source": [
    "class InvalidEmailError(Exception):\n",
    "    pass\n",
    "\n",
    "def send_mail(email, subject, content):\n",
    "    if not \"@\" in email:\n",
    "        raise InvalidEmailError(\"email does not contain an @\")\n",
    "try:     \n",
    "    send_mail(\"hallo\", \"Betreff\", \"Inhalt\")\n",
    "except InvalidEmailError:\n",
    "    print(\"Bitte gebe eine gültige E-Mail ein\")"
   ]
  },
  {
   "cell_type": "code",
   "execution_count": null,
   "metadata": {
    "collapsed": true
   },
   "outputs": [],
   "source": [
    "## Exceptions in Python\n",
    "\n",
    "In dieser Lektion lernst du:\n",
    "\n",
    "- Wie du mehrere Exceptions abfangen kannst\n",
    "- Und wie du eigene Exceptions erstellen kannst\n",
    "\n",
    "try:\n",
    "    with open(\"datei.xyz\", \"r\") as file:\n",
    "        print(file)\n",
    "    print(5 / 0)\n",
    "except ZeroDivisionError:\n",
    "    print(\"Du darfst nicht durch 0 teilen\")\n",
    "except FileNotFoundError:\n",
    "    print(\"FileNotFoundError ist aufgetreten\")\n",
    "\n",
    "def do_something():\n",
    "    print(5 / 0)\n",
    "    \n",
    "try:\n",
    "    do_something()\n",
    "except ZeroDivisionError:\n",
    "    print(\"Du darfst nicht durch 0 teilen\")\n",
    "\n",
    "class InvalidEmailError(Exception):\n",
    "    pass\n",
    "\n",
    "def send_mail(email, subject, content):\n",
    "    if not \"@\" in email:\n",
    "        raise InvalidEmailError(\"email does not contain an @\")\n",
    "try:     \n",
    "    send_mail(\"hallo\", \"Betreff\", \"Inhalt\")\n",
    "except InvalidEmailError:\n",
    "    print(\"Bitte gebe eine gültige E-Mail ein\")"
   ]
  }
 ],
 "metadata": {
  "kernelspec": {
   "display_name": "Python 3",
   "language": "python",
   "name": "python3"
  },
  "language_info": {
   "codemirror_mode": {
    "name": "ipython",
    "version": 3
   },
   "file_extension": ".py",
   "mimetype": "text/x-python",
   "name": "python",
   "nbconvert_exporter": "python",
   "pygments_lexer": "ipython3",
   "version": "3.6.3"
  }
 },
 "nbformat": 4,
 "nbformat_minor": 2
}
