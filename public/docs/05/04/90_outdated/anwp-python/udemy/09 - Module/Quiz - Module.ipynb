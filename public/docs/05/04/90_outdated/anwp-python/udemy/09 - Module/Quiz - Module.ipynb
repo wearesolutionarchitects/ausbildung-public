{
 "cells": [
  {
   "cell_type": "markdown",
   "metadata": {},
   "source": [
    "## Quiz - Module"
   ]
  },
  {
   "cell_type": "markdown",
   "metadata": {},
   "source": [
    "#### Aufgabe 1\n",
    "\n",
    "Wie bindest du das Modul `pandas` ein?\n",
    "\n",
    "- A) `import pandas`\n",
    "- B) `pandas.import()`\n",
    "- C) `import pandas from zoo`\n",
    "- D) `__import(pandas)__`"
   ]
  },
  {
   "cell_type": "markdown",
   "metadata": {},
   "source": [
    "Richtige Lösung: "
   ]
  },
  {
   "cell_type": "markdown",
   "metadata": {},
   "source": [
    "#### Aufgabe 2\n",
    "\n",
    "Wie rufst du die Funktion `read_csv()`aus dem Modul `pandas` auf, nachdem du das ganze Modul mit dem `import`-Befehl eingebunden hast?\n",
    "\n",
    "- A) `read_csv(pandas)`\n",
    "- B) `pandas.pandas.read_csv()`\n",
    "- C) `pandas: pandas.read_csv()`\n",
    "- D) `pandas.read_csv()`"
   ]
  },
  {
   "cell_type": "markdown",
   "metadata": {},
   "source": [
    "Richtige Lösung: "
   ]
  },
  {
   "cell_type": "markdown",
   "metadata": {},
   "source": [
    "#### Aufgabe 3\n",
    "\n",
    "Mit welchem Befehl musst du das Modul `pandas` einbinden, um die Funktionen `read_csv()` und `read_excel()` aus dem Modul direkt verwenden zu können (also, wie jede in Standard-Python bereits vorhandene Funktion aufrufen kannst)?\n",
    "\n",
    "- A) `from pandas import read_csv(), read_excel()`\n",
    "- B) `from pandas import read_csv, read_excel`\n",
    "- C) `import read_csv(), read_excel() from pandas`\n",
    "- D) `import pandas.read_csv, import pandas.read_excel`"
   ]
  },
  {
   "cell_type": "markdown",
   "metadata": {},
   "source": [
    "Richtige Lösung: "
   ]
  },
  {
   "cell_type": "markdown",
   "metadata": {},
   "source": [
    "#### Aufgabe 4\n",
    "\n",
    "Wie kannst du das Modul `pandas` einbinden und dabei den Zugriffsnamen umbenennen, so dass du in der Folge eine Abkürzung (hier: `pd`) anstelle des Modulnamensbenutzen kannst?\n",
    "\n",
    "- A) `import pandas(pd)`\n",
    "- B) `import pandas, pandas = pd`\n",
    "- C) `import pandas as pd`\n",
    "- D) `import pandas.pd`"
   ]
  },
  {
   "cell_type": "markdown",
   "metadata": {},
   "source": [
    "Richtige Lösung: "
   ]
  },
  {
   "cell_type": "code",
   "execution_count": null,
   "metadata": {
    "collapsed": true
   },
   "outputs": [],
   "source": []
  }
 ],
 "metadata": {
  "kernelspec": {
   "display_name": "Python 3",
   "language": "python",
   "name": "python3"
  },
  "language_info": {
   "codemirror_mode": {
    "name": "ipython",
    "version": 3
   },
   "file_extension": ".py",
   "mimetype": "text/x-python",
   "name": "python",
   "nbconvert_exporter": "python",
   "pygments_lexer": "ipython3",
   "version": "3.6.3"
  }
 },
 "nbformat": 4,
 "nbformat_minor": 2
}
