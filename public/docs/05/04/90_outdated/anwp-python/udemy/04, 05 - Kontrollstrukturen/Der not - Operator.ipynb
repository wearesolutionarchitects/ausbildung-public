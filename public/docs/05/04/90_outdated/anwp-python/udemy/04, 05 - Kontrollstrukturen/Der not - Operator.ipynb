{
 "cells": [
  {
   "cell_type": "markdown",
   "metadata": {},
   "source": [
    "## Der `not` - Operator"
   ]
  },
  {
   "cell_type": "code",
   "execution_count": 8,
   "metadata": {},
   "outputs": [
    {
     "name": "stdout",
     "output_type": "stream",
     "text": [
      "ausgeführt\n",
      "ausgeführt\n"
     ]
    }
   ],
   "source": [
    "age = 25\n",
    "\n",
    "if not age >= 30:\n",
    "    print(\"ausgeführt\")\n",
    "    \n",
    "if age < 30:\n",
    "    print(\"ausgeführt\")"
   ]
  },
  {
   "cell_type": "code",
   "execution_count": 10,
   "metadata": {},
   "outputs": [
    {
     "name": "stdout",
     "output_type": "stream",
     "text": [
      "Moritz ist nicht in der Liste enthalten\n",
      "Moritz ist nicht in der Liste enthalten\n"
     ]
    }
   ],
   "source": [
    "names = [\"Max\", \"Nadine\"]\n",
    "\n",
    "if \"Moritz\" not in names:\n",
    "    print(\"Moritz ist nicht in der Liste enthalten\")\n",
    "    \n",
    "if not \"Moritz\" in names:\n",
    "    print(\"Moritz ist nicht in der Liste enthalten\")"
   ]
  },
  {
   "cell_type": "code",
   "execution_count": null,
   "metadata": {
    "collapsed": true
   },
   "outputs": [],
   "source": []
  }
 ],
 "metadata": {
  "kernelspec": {
   "display_name": "Python 3",
   "language": "python",
   "name": "python3"
  },
  "language_info": {
   "codemirror_mode": {
    "name": "ipython",
    "version": 3
   },
   "file_extension": ".py",
   "mimetype": "text/x-python",
   "name": "python",
   "nbconvert_exporter": "python",
   "pygments_lexer": "ipython3",
   "version": "3.6.1"
  }
 },
 "nbformat": 4,
 "nbformat_minor": 2
}
