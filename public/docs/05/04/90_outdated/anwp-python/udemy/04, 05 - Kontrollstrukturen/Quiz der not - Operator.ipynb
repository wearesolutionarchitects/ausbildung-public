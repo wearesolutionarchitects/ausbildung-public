{
 "cells": [
  {
   "cell_type": "markdown",
   "metadata": {},
   "source": [
    "## Quiz: Der not - Operator"
   ]
  },
  {
   "cell_type": "markdown",
   "metadata": {},
   "source": [
    "#### Aufgabe 1: Wird \"Hallo Welt\" ausgegeben?\n",
    "\n",
    "Quellcode:\n",
    "\n",
    "```python\n",
    "age = 25\n",
    "if not age > 30:\n",
    "    print(\"Hallo Welt\")\n",
    "```\n",
    "\n",
    "- A) Ja\n",
    "- B) Nein "
   ]
  },
  {
   "cell_type": "markdown",
   "metadata": {},
   "source": [
    "Richtige Antwort: "
   ]
  },
  {
   "cell_type": "markdown",
   "metadata": {},
   "source": [
    "#### Aufgabe 2\n",
    "\n",
    "Wann wird `\"Hallo Welt\"` ausgegeben (`a`, `b` sind `True` / `False` - Werte.)?\n",
    "\n",
    "Spiele dazu die gegebenen Antwortoptionen im Kopf durch und überlege, ob der gesamte Ausdruck erfüllt ist, oder nicht. \n",
    "\n",
    "Quellcode:\n",
    "\n",
    "```python\n",
    "if a and (not b):\n",
    "    print(\"Hallo Welt\")\n",
    "```\n",
    "\n",
    "- A) `a = True, b = True`\n",
    "- B) `a = True, b = False`\n",
    "- C) `a = False, b = False`\n",
    "- D) `a = False, b = True`"
   ]
  },
  {
   "cell_type": "markdown",
   "metadata": {},
   "source": [
    "Richtige Antwort: "
   ]
  },
  {
   "cell_type": "markdown",
   "metadata": {},
   "source": [
    "#### Aufgabe 3\n",
    "\n",
    "Ein kleines `and` bzw. `or` kann einen großen Unterschied machen. Beispielsweise überprüft folgender Ausdruck, ob ein Anruf zu den Geschäftszeiten (9-15:59 Uhr) stattgefunden hat:\n",
    "\n",
    "```python\n",
    "hour >= 9 and hour < 16\n",
    "```\n",
    "Jetzt ist hier ein Fehler unterlaufen. Aus Versehen steht in unserem Programm folgender Ausdruck:\n",
    "\n",
    "```python\n",
    "hour >= 9 or hour < 16\n",
    "```\n",
    "\n",
    "Für welche Werte ist der 2. Ausdruck erfüllt?\n",
    "\n",
    "- A) Alle Uhrzeiten ab 9 Uhr tagsüber (9-24 Uhr) \n",
    "- B) Alle Uhrzeiten (0-24 Uhr)\n",
    "- C) Alle Uhrzeiten bis 16 Uhr tagsüber (0-16 Uhr) \n",
    "- D) Es gibt keinen Unterschied (9-16 Uhr)"
   ]
  },
  {
   "cell_type": "code",
   "execution_count": null,
   "metadata": {
    "collapsed": true
   },
   "outputs": [],
   "source": [
    "Richtige Antwort: "
   ]
  }
 ],
 "metadata": {
  "kernelspec": {
   "display_name": "Python 3",
   "language": "python",
   "name": "python3"
  },
  "language_info": {
   "codemirror_mode": {
    "name": "ipython",
    "version": 3
   },
   "file_extension": ".py",
   "mimetype": "text/x-python",
   "name": "python",
   "nbconvert_exporter": "python",
   "pygments_lexer": "ipython3",
   "version": "3.6.3"
  }
 },
 "nbformat": 4,
 "nbformat_minor": 2
}
