{
 "cells": [
  {
   "cell_type": "markdown",
   "metadata": {},
   "source": [
    "# Abschluss Kontrollstrukturen (Musterlösung)"
   ]
  },
  {
   "cell_type": "markdown",
   "metadata": {},
   "source": [
    "Nimm dir die Zeit, um die Aufgaben sorgfältig zu bearbeiten. :-) Viel Erfolg!"
   ]
  },
  {
   "cell_type": "markdown",
   "metadata": {},
   "source": [
    "### 1. Aufgabe: Kontinente \n",
    "\n",
    "#### a.) Gib nacheinander alle Kontinente aus der Liste _continents_ aus."
   ]
  },
  {
   "cell_type": "code",
   "execution_count": 1,
   "metadata": {},
   "outputs": [
    {
     "name": "stdout",
     "output_type": "stream",
     "text": [
      "Afrika\n",
      "Antarktis\n",
      "Asien\n",
      "Australien und Ozeanien\n",
      "Europa\n",
      "Nordamerika\n",
      "Südamerika\n"
     ]
    }
   ],
   "source": [
    "continents = [\"Afrika\", \"Antarktis\", \"Asien\", \"Australien und Ozeanien\", \"Europa\", \"Nordamerika\", \"Südamerika\"]\n",
    "\n",
    "for i in continents:\n",
    "    print(i)"
   ]
  },
  {
   "cell_type": "markdown",
   "metadata": {},
   "source": [
    "Gewünschte Ausgabe:\n",
    "\n",
    "```\n",
    "Afrika\n",
    "Antarktis\n",
    "Asien\n",
    "Australien und Ozeanien\n",
    "Europa\n",
    "Nordamerika\n",
    "Südamerika\n",
    "```"
   ]
  },
  {
   "cell_type": "markdown",
   "metadata": {},
   "source": [
    "#### b.) Gib aus der Liste _continents_ nur die bewohnten Kontinente aus.\n",
    "\n",
    "**Hinweis:**: Antarktis ist nicht bewohnt. Diesen Kontinent kannst du also bei der Ausgabe einfach überspringen."
   ]
  },
  {
   "cell_type": "code",
   "execution_count": 2,
   "metadata": {},
   "outputs": [
    {
     "name": "stdout",
     "output_type": "stream",
     "text": [
      "Afrika\n",
      "Asien\n",
      "Australien und Ozeanien\n",
      "Europa\n",
      "Nordamerika\n",
      "Südamerika\n"
     ]
    }
   ],
   "source": [
    "for continent in continents:\n",
    "    if continent == \"Antarktis\":\n",
    "        continue\n",
    "    print(continent)"
   ]
  },
  {
   "cell_type": "code",
   "execution_count": 12,
   "metadata": {},
   "outputs": [
    {
     "name": "stdout",
     "output_type": "stream",
     "text": [
      "Afrika\n",
      "Asien\n",
      "Australien und Ozeanien\n",
      "Europa\n",
      "Nordamerika\n",
      "Südamerika\n"
     ]
    }
   ],
   "source": [
    "for continent in continents:\n",
    "    if continent != \"Antarktis\":\n",
    "        print(continent)"
   ]
  },
  {
   "cell_type": "markdown",
   "metadata": {},
   "source": [
    "Gewünschte Ausgabe:\n",
    "\n",
    "```\n",
    "Afrika\n",
    "Asien\n",
    "Australien und Ozeanien\n",
    "Europa\n",
    "Nordamerika\n",
    "Südamerika\n",
    "```"
   ]
  },
  {
   "cell_type": "markdown",
   "metadata": {},
   "source": [
    "#### c.) Gib aus der Liste _stuff_ nur die Kontinente aus.\n",
    "\n",
    "Du kannst dafür die Liste `stuff` mit einer Schleife durchgehen und dann mit Hilfe der Variable `continents` prüfen, ob ein Element der Liste `stuff` auch in der Liste `continents` vorkommt."
   ]
  },
  {
   "cell_type": "code",
   "execution_count": 8,
   "metadata": {
    "collapsed": true
   },
   "outputs": [],
   "source": [
    "stuff = [\"Asien\", \"Max\", 101, \"Monika\", \"China\", \"Simbabwe\", \"Antarktis\"]"
   ]
  },
  {
   "cell_type": "code",
   "execution_count": 9,
   "metadata": {},
   "outputs": [
    {
     "name": "stdout",
     "output_type": "stream",
     "text": [
      "Asien\n",
      "Antarktis\n"
     ]
    }
   ],
   "source": [
    "for element in stuff:\n",
    "    if element in continents:\n",
    "        print(element)"
   ]
  },
  {
   "cell_type": "markdown",
   "metadata": {},
   "source": [
    "Gewünschte Ausgabe:\n",
    "\n",
    "```\n",
    "Asien\n",
    "Antarktis\n",
    "```"
   ]
  },
  {
   "cell_type": "markdown",
   "metadata": {},
   "source": [
    "#### d.) Wie viele Kontinente sind in der Liste `stuff` enthalten?\n",
    "\n",
    "Schreibe dazu eine Schleife, mit der du die Anzahl der Kontinente in der Liste _stuff_ zählst und gebe diesen Wert dann aus."
   ]
  },
  {
   "cell_type": "code",
   "execution_count": 13,
   "metadata": {},
   "outputs": [
    {
     "name": "stdout",
     "output_type": "stream",
     "text": [
      "2\n"
     ]
    }
   ],
   "source": [
    "count = 0\n",
    "\n",
    "for i in stuff:\n",
    "    if i in continents:\n",
    "        count = count + 1\n",
    "print(count)    "
   ]
  },
  {
   "cell_type": "code",
   "execution_count": 15,
   "metadata": {},
   "outputs": [
    {
     "name": "stdout",
     "output_type": "stream",
     "text": [
      "2\n"
     ]
    }
   ],
   "source": [
    "# Alternativ\n",
    "contis = []\n",
    "\n",
    "for i in stuff:\n",
    "    if i in continents:\n",
    "        contis.append(i)\n",
    "        \n",
    "print(len(contis))    "
   ]
  },
  {
   "cell_type": "markdown",
   "metadata": {},
   "source": [
    "Gewünschte Ausgabe:\n",
    "\n",
    "```\n",
    "2 \n",
    "```"
   ]
  },
  {
   "cell_type": "markdown",
   "metadata": {},
   "source": [
    "### 2. Aufgabe: Rabattaktion\n",
    "\n",
    "Zurück zur Mathemagierin: Sie möchte in ihrem Shop eine Rabattaktion starten, um das Geschäft anzukurbeln. Natürlich hat sie dabei wieder etwas zu programmieren für dich. Du sollst die Berechnung der reduzierten Preise mit einer if-elif-else-Struktur vereinfachen.\n",
    "\n",
    "Dabei ist zu beachten:\n",
    "\n",
    "Artikel, die zwischen 0 und 20 (einschließlich) Taler kosten, werden um 20 % reduziert; Artikel, die zwischen 20 (nicht einschließlich) und 50 Taler (einschließlich) kosten, werden um 40 % reduziert. Alle anderen Artikel, also solche, die mehr als 50 Taler kosten, werden um 60 % reduziert.\n",
    "\n",
    "#### a.) Gib für die Variable _price_ den neuen, rabattierten Preis aus."
   ]
  },
  {
   "cell_type": "code",
   "execution_count": 16,
   "metadata": {},
   "outputs": [
    {
     "name": "stdout",
     "output_type": "stream",
     "text": [
      "30.0\n"
     ]
    }
   ],
   "source": [
    "price = 50\n",
    "\n",
    "if price <= 20:\n",
    "    price = price * 0.8\n",
    "elif price <=50:\n",
    "    price = price * 0.6\n",
    "else:\n",
    "    price = price * 0.4\n",
    "\n",
    "print(price)"
   ]
  },
  {
   "cell_type": "markdown",
   "metadata": {},
   "source": [
    "Gewünschte Ausgabe:\n",
    "\n",
    "```\n",
    "30.0\n",
    "```"
   ]
  },
  {
   "cell_type": "markdown",
   "metadata": {},
   "source": [
    "#### b.) Berechne nun für jeden der alten Preise aus der Liste _prices_ die passenden reduzierten Preise und speichere sie in der neuen Liste new_prices. Gib diese Liste schließlich aus."
   ]
  },
  {
   "cell_type": "code",
   "execution_count": 4,
   "metadata": {},
   "outputs": [
    {
     "name": "stdout",
     "output_type": "stream",
     "text": [
      "[1.6, 30.0, 28.0, 18.0]\n"
     ]
    }
   ],
   "source": [
    "prices = [2, 50, 70, 30]\n",
    "new_prices = []\n",
    "\n",
    "for price in prices:\n",
    "    if price <= 20:\n",
    "        price = price * 0.8\n",
    "    elif price <=50:\n",
    "        price = price * 0.6\n",
    "    else:\n",
    "        price = price * 0.4\n",
    "    \n",
    "    new_prices.append(price)\n",
    "\n",
    "print(new_prices)  "
   ]
  },
  {
   "cell_type": "markdown",
   "metadata": {},
   "source": [
    "Gewünschte Ausgabe (muss nicht farbig sein):\n",
    "\n",
    "```python\n",
    "[1.6, 30.0, 28.0, 18.0]\n",
    "```"
   ]
  },
  {
   "cell_type": "markdown",
   "metadata": {},
   "source": [
    "#### c.) Zusatzaufgabe (schwierig!)\n",
    "Nun überreicht dir die Mathemagierin mit zitternden Händen die Liste _chaos_, in der neue und alte Preise gemischt sind! Angesichts dieser undurchdachten Arbeit schlägst du dir die Hände vor dem Kopf zusammen, aber es hilft ja nichts: Nur du kannst hier wieder Ordnung schaffen, indem du alles zusammenbringst, was du schon gelernt hast!\n",
    "\n",
    "Gehe die Elemente in der Liste _chaos_ durch. Bei einem neuen Preis ziehst du bloß den neuen Wert aus dem String und hängst ihn der Liste _order_ an. Bei einem alten Preis hingegen holst du dir den alten Wert, berechnest den neuen Preis und hängst diesen Wert an die Liste _order_.\n",
    "\n",
    "Schließlich gibst du die vollständige Liste _order_ aus, in der nur noch neue Preise drinstehen (und nur noch Zahlen!)."
   ]
  },
  {
   "cell_type": "code",
   "execution_count": 22,
   "metadata": {},
   "outputs": [
    {
     "name": "stdout",
     "output_type": "stream",
     "text": [
      "[24.0, 21, 17.4, 30.0, 101]\n"
     ]
    }
   ],
   "source": [
    "chaos =[\"old price: 40\", \"new price: 21\", \"old price: 29\", \"old price: 50\", \"new price: 101\"]\n",
    "order = []\n",
    "\n",
    "for i in chaos:\n",
    "    \n",
    "    price = int((i.split(\": \")[1]))\n",
    "    \n",
    "    if \"old\" in i:\n",
    "        if price <= 20:\n",
    "            price *= 0.8\n",
    "        elif price <=50:\n",
    "            price *= 0.6\n",
    "        else:\n",
    "            price *= 0.4\n",
    "\n",
    "    order.append(price)\n",
    "        \n",
    "print(order)"
   ]
  },
  {
   "cell_type": "markdown",
   "metadata": {},
   "source": [
    "Gewünschte Ausgabe (muss nicht farbig sein):\n",
    "\n",
    "```python\n",
    "[24.0, 21, 17.4, 30.0, 101]\n",
    "```"
   ]
  },
  {
   "cell_type": "markdown",
   "metadata": {},
   "source": [
    "### Yeah, gut gemacht! :-)"
   ]
  }
 ],
 "metadata": {
  "kernelspec": {
   "display_name": "Python 3",
   "language": "python",
   "name": "python3"
  },
  "language_info": {
   "codemirror_mode": {
    "name": "ipython",
    "version": 3
   },
   "file_extension": ".py",
   "mimetype": "text/x-python",
   "name": "python",
   "nbconvert_exporter": "python",
   "pygments_lexer": "ipython3",
   "version": "3.6.3"
  }
 },
 "nbformat": 4,
 "nbformat_minor": 2
}
