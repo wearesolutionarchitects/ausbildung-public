{
 "cells": [
  {
   "cell_type": "markdown",
   "metadata": {},
   "source": [
    "## Quiz: If-Abfragen & Booleans"
   ]
  },
  {
   "cell_type": "markdown",
   "metadata": {},
   "source": [
    "#### Aufgabe 1: Wird \"Hallo Welt\" ausgegeben?\n",
    "\n",
    "Quellcode:\n",
    "```python\n",
    "if True and False:\n",
    "    print(\"Hallo Welt\")\n",
    "```\n",
    "\n",
    "- A: Ja\n",
    "- B: Nein"
   ]
  },
  {
   "cell_type": "markdown",
   "metadata": {},
   "source": [
    "Richtige Antwort: "
   ]
  },
  {
   "cell_type": "markdown",
   "metadata": {},
   "source": [
    "#### Aufgabe 2: Wird \"Hallo Welt\" ausgegeben?\n",
    "\n",
    "Quellcode:\n",
    "```python\n",
    "if True or False:\n",
    "    print(\"Hallo Welt\")\n",
    "```\n",
    "\n",
    "- A: Ja\n",
    "- B: Nein "
   ]
  },
  {
   "cell_type": "markdown",
   "metadata": {},
   "source": [
    "Richtige Antwort: "
   ]
  },
  {
   "cell_type": "markdown",
   "metadata": {},
   "source": [
    "#### Aufgabe 3\n",
    "\n",
    "Um Verträge zu unterschreiben, muss eine Person i. d. R. volljährig (18 Jahre alt) sein. Wie würdest du diese Bedingung mit Python formulieren? \n",
    "\n",
    "Hinweis: Pass hier auf den Unterschied zwischen `<` und `<=` bzw. `>` und `>=` auf! Überprüfe dazu den Randfall (Person ist 18 Jahre) zusätzlich manuell im Kopf!\n",
    "\n",
    "- A: `age > 18`\n",
    "- B: `age < 18`\n",
    "- C: `age >= 18`\n",
    "- D: `age <= 18`"
   ]
  },
  {
   "cell_type": "markdown",
   "metadata": {},
   "source": [
    "Richtige Antwort: "
   ]
  }
 ],
 "metadata": {
  "kernelspec": {
   "display_name": "Python 3",
   "language": "python",
   "name": "python3"
  },
  "language_info": {
   "codemirror_mode": {
    "name": "ipython",
    "version": 3
   },
   "file_extension": ".py",
   "mimetype": "text/x-python",
   "name": "python",
   "nbconvert_exporter": "python",
   "pygments_lexer": "ipython3",
   "version": "3.6.3"
  }
 },
 "nbformat": 4,
 "nbformat_minor": 2
}
