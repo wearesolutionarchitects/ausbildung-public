{
 "cells": [
  {
   "cell_type": "markdown",
   "metadata": {},
   "source": [
    "## Kommentare in Python\n",
    "\n",
    "In dieser Lektion lernst du:\n",
    "\n",
    "- Wie du Kommentare in Python verwenden kannst"
   ]
  },
  {
   "cell_type": "code",
   "execution_count": 4,
   "metadata": {
    "scrolled": true
   },
   "outputs": [
    {
     "name": "stdout",
     "output_type": "stream",
     "text": [
      "Hallo Merkur\n",
      "Hallo Venus\n",
      "Hallo Erde\n",
      "Hallo Mars\n"
     ]
    }
   ],
   "source": [
    "# Gebe alle Planeten aus\n",
    "print(\"Hallo Merkur\")\n",
    "print(\"Hallo Venus\")\n",
    "print(\"Hallo Erde\")\n",
    "print(\"Hallo Mars\")\n",
    "# print(\"Hallo Jupiter\")\n",
    "# print(\"Hallo Saturn\")\n",
    "# print(\"Hallo Neptun\")\n",
    "# print(\"Hallo Uranus\")\n",
    "# print(\"Hallo Pluto\")"
   ]
  },
  {
   "cell_type": "code",
   "execution_count": null,
   "metadata": {
    "collapsed": true
   },
   "outputs": [],
   "source": []
  },
  {
   "cell_type": "code",
   "execution_count": null,
   "metadata": {
    "collapsed": true
   },
   "outputs": [],
   "source": []
  }
 ],
 "metadata": {
  "kernelspec": {
   "display_name": "Python 3",
   "language": "python",
   "name": "python3"
  },
  "language_info": {
   "codemirror_mode": {
    "name": "ipython",
    "version": 3
   },
   "file_extension": ".py",
   "mimetype": "text/x-python",
   "name": "python",
   "nbconvert_exporter": "python",
   "pygments_lexer": "ipython3",
   "version": "3.6.3"
  }
 },
 "nbformat": 4,
 "nbformat_minor": 2
}
