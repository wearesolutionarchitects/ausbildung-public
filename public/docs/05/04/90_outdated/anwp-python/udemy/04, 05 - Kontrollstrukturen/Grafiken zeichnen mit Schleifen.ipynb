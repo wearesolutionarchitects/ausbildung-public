{
 "cells": [
  {
   "cell_type": "markdown",
   "metadata": {},
   "source": [
    "# Grafiken zeichnen mit Schleifen"
   ]
  },
  {
   "cell_type": "markdown",
   "metadata": {},
   "source": [
    "Bevor es an das Plotten geht, importieren wir wieder das Matplolib-Modul in unser Python, das uns zusätzliche Funktionen zur Verfügung stellt."
   ]
  },
  {
   "cell_type": "code",
   "execution_count": 1,
   "metadata": {
    "collapsed": true
   },
   "outputs": [],
   "source": [
    "%matplotlib inline\n",
    "import matplotlib.pyplot as plt"
   ]
  },
  {
   "cell_type": "code",
   "execution_count": 2,
   "metadata": {},
   "outputs": [
    {
     "data": {
      "image/png": "[encoded data removed]",
      "text/plain": [
       "<matplotlib.figure.Figure at 0x7420570>"
      ]
     },
     "metadata": {},
     "output_type": "display_data"
    }
   ],
   "source": [
    "plt.scatter([1, 2], [4, 5])\n",
    "plt.show()"
   ]
  },
  {
   "cell_type": "markdown",
   "metadata": {},
   "source": [
    "Mit zwei for-Schleifen füllen wir schnell drei Listen, die wir dann gegeneinander plotten."
   ]
  },
  {
   "cell_type": "code",
   "execution_count": 5,
   "metadata": {},
   "outputs": [
    {
     "name": "stdout",
     "output_type": "stream",
     "text": [
      "[-10, -9, -8, -7, -6, -5, -4, -3, -2, -1, 0, 1, 2, 3, 4, 5, 6, 7, 8, 9, 10]\n",
      "[100, 81, 64, 49, 36, 25, 16, 9, 4, 1, 0, 1, 4, 9, 16, 25, 36, 49, 64, 81, 100]\n",
      "[-1000, -729, -512, -343, -216, -125, -64, -27, -8, -1, 0, 1, 8, 27, 64, 125, 216, 343, 512, 729, 1000]\n"
     ]
    },
    {
     "data": {
      "image/png": "[encoded data removed]",
      "text/plain": [
       "<matplotlib.figure.Figure at 0x75a2810>"
      ]
     },
     "metadata": {},
     "output_type": "display_data"
    }
   ],
   "source": [
    "# In die Liste xs packen wir die ganzzahligen Werte von -10 bis 10\n",
    "xs = []\n",
    "for x in range(-10, 11):\n",
    "    xs.append(x)\n",
    "\n",
    "# In die Liste ys packen wir die Quadratzahlen zu jedem Wert aus der Liste xs\n",
    "ys = []\n",
    "for x in xs:\n",
    "    ys.append(x * x)\n",
    "    \n",
    "# In die Liste ys packen wir die Kubikzahlen zu jedem Wert aus der Liste xs    \n",
    "ys2 = []\n",
    "for x in xs:\n",
    "    ys2.append(x * x * x)\n",
    "\n",
    "    \n",
    "# Wir geben die Listen xs, ys, ys2 nacheinander aus    \n",
    "print(xs)\n",
    "print(ys)\n",
    "print(ys2)\n",
    "\n",
    "# Wir plotten ys und ys2 jeweils gegen xs \n",
    "plt.plot(xs, ys)\n",
    "plt.plot(xs, ys2)\n",
    "plt.show()"
   ]
  }
 ],
 "metadata": {
  "kernelspec": {
   "display_name": "Python 3",
   "language": "python",
   "name": "python3"
  },
  "language_info": {
   "codemirror_mode": {
    "name": "ipython",
    "version": 3
   },
   "file_extension": ".py",
   "mimetype": "text/x-python",
   "name": "python",
   "nbconvert_exporter": "python",
   "pygments_lexer": "ipython3",
   "version": "3.6.3"
  }
 },
 "nbformat": 4,
 "nbformat_minor": 2
}
