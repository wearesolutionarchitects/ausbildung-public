{
 "cells": [
  {
   "cell_type": "markdown",
   "metadata": {},
   "source": [
    "## Aufgabe: Sets\n",
    "\n",
    "Den Umgang mit einem Set möchten wir jetzt natürlich etwas üben. ;-)\n",
    "\n",
    "**Aufgabe:**\n",
    "\n",
    "Öffne die ../data/names.csv - Datei als .csv-Datei und berechne die Anzahl der verschiedenen Vornamen, die in dieser Datei aufgelistet sind!\n",
    "\n",
    "**Tipps:**\n",
    "\n",
    "- Die Dokumentation zum csv-Modul von Python findest du hier: https://docs.python.org/3.6/library/csv.html.\n",
    "- Verwende dazu ein Set. Damit geht das ganze ziemlich easy. :-)"
   ]
  },
  {
   "cell_type": "code",
   "execution_count": 7,
   "metadata": {},
   "outputs": [
    {
     "name": "stdout",
     "output_type": "stream",
     "text": [
      "30274\n"
     ]
    }
   ],
   "source": [
    "import csv\n",
    "\n",
    "names = set()\n",
    "\n",
    "with open('../data/names.csv', newline='') as csvfile:\n",
    "    namereader = csv.reader(csvfile, delimiter=',', quotechar='\"')\n",
    "    counter = 0\n",
    "    for row in namereader:\n",
    "        if counter != 0:\n",
    "            names.add(row[1])\n",
    "        counter = counter + 1\n",
    "print(len(names))"
   ]
  },
  {
   "cell_type": "code",
   "execution_count": null,
   "metadata": {
    "collapsed": true
   },
   "outputs": [],
   "source": []
  },
  {
   "cell_type": "code",
   "execution_count": null,
   "metadata": {
    "collapsed": true
   },
   "outputs": [],
   "source": []
  }
 ],
 "metadata": {
  "kernelspec": {
   "display_name": "Python 3",
   "language": "python",
   "name": "python3"
  },
  "language_info": {
   "codemirror_mode": {
    "name": "ipython",
    "version": 3
   },
   "file_extension": ".py",
   "mimetype": "text/x-python",
   "name": "python",
   "nbconvert_exporter": "python",
   "pygments_lexer": "ipython3",
   "version": "3.6.3"
  }
 },
 "nbformat": 4,
 "nbformat_minor": 2
}
