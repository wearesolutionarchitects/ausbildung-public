{
 "cells": [
  {
   "cell_type": "markdown",
   "metadata": {},
   "source": [
    "## Aufgabe: PriorityQueue\n",
    "\n",
    "\n",
    "Ermittle den 5.-häufigsten Vornamen, der in den USA vergeben wurde! Lies dazu die ../data/names.csv - Datei ein. Verwende dazu zuerst ein Dictionary, mit dem du die Häufigkeit der Vornamen zählst und anschließend eine PriorityQueue, um die Top 5 Vornamen zu ermitteln."
   ]
  },
  {
   "cell_type": "code",
   "execution_count": 6,
   "metadata": {
    "collapsed": true
   },
   "outputs": [],
   "source": [
    "import csv\n",
    "\n",
    "names = {}\n",
    "\n",
    "with open('../data/names.csv', newline='') as csvfile:\n",
    "    namereader = csv.reader(csvfile, delimiter=',', quotechar='\"')\n",
    "    counter = 0\n",
    "    for line in namereader:\n",
    "        if counter != 0:\n",
    "            number = int(line[5])\n",
    "            name = line[1]\n",
    "            \n",
    "            if name in names:\n",
    "                names[name] = names[name] + number\n",
    "            else:\n",
    "                names[name] = number\n",
    "        counter = counter + 1"
   ]
  },
  {
   "cell_type": "code",
   "execution_count": 12,
   "metadata": {},
   "outputs": [
    {
     "name": "stdout",
     "output_type": "stream",
     "text": [
      "(-4957166, 'James')\n",
      "(-4845414, 'John')\n",
      "(-4725713, 'Robert')\n",
      "(-4312975, 'Michael')\n",
      "(-3839236, 'William')\n",
      "(-3740495, 'Mary')\n",
      "(-3562278, 'David')\n",
      "(-2534949, 'Richard')\n",
      "(-2485220, 'Joseph')\n",
      "(-2252146, 'Charles')\n",
      "(-2219967, 'Thomas')\n",
      "(-1997925, 'Christopher')\n",
      "(-1857096, 'Daniel')\n",
      "(-1569944, 'Patricia')\n",
      "(-1551706, 'Matthew')\n",
      "(-1502094, 'Elizabeth')\n",
      "(-1464686, 'Jennifer')\n",
      "(-1448063, 'Linda')\n",
      "(-1424544, 'Barbara')\n",
      "(-1403439, 'Donald')\n",
      "(-1397105, 'Anthony')\n",
      "(-1357785, 'Paul')\n",
      "(-1341573, 'Mark')\n",
      "(-1324735, 'George')\n",
      "(-1272459, 'Steven')\n",
      "(-1261928, 'Kenneth')\n",
      "(-1239305, 'Andrew')\n",
      "(-1212969, 'Edward')\n",
      "(-1174451, 'Joshua')\n",
      "(-1159034, 'Brian')\n",
      "(-1154606, 'Kevin')\n",
      "(-1122745, 'Margaret')\n",
      "(-1109051, 'Susan')\n",
      "(-1074986, 'Ronald')\n",
      "(-1058854, 'Timothy')\n",
      "(-1052910, 'Dorothy')\n",
      "(-1040162, 'Jessica')\n",
      "(-1015044, 'Jason')\n",
      "(-1011713, 'Sarah')\n",
      "(-985506, 'Betty')\n",
      "(-984542, 'Nancy')\n",
      "(-982794, 'Karen')\n",
      "(-970485, 'Jeffrey')\n",
      "(-963305, 'Lisa')\n",
      "(-917659, 'Ryan')\n",
      "(-897152, 'Gary')\n",
      "(-896217, 'Helen')\n",
      "(-874057, 'Nicholas')\n",
      "(-871292, 'Sandra')\n",
      "(-865555, 'Eric')\n"
     ]
    }
   ],
   "source": [
    "import queue\n",
    "\n",
    "pq = queue.PriorityQueue()\n",
    "\n",
    "for name, number in names.items():\n",
    "    pq.put((-number, name))\n",
    "    \n",
    "for i in range(0, 50):\n",
    "    print(pq.get())"
   ]
  },
  {
   "cell_type": "code",
   "execution_count": null,
   "metadata": {
    "collapsed": true
   },
   "outputs": [],
   "source": []
  }
 ],
 "metadata": {
  "kernelspec": {
   "display_name": "Python 3",
   "language": "python",
   "name": "python3"
  },
  "language_info": {
   "codemirror_mode": {
    "name": "ipython",
    "version": 3
   },
   "file_extension": ".py",
   "mimetype": "text/x-python",
   "name": "python",
   "nbconvert_exporter": "python",
   "pygments_lexer": "ipython3",
   "version": "3.6.3"
  }
 },
 "nbformat": 4,
 "nbformat_minor": 2
}
