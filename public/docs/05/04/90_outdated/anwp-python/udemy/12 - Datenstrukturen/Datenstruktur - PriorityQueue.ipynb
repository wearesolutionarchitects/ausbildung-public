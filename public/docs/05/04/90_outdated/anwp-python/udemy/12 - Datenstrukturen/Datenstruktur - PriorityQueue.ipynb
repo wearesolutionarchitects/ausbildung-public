{
 "cells": [
  {
   "cell_type": "markdown",
   "metadata": {},
   "source": [
    "## Weitere Datenstruktur: PriorityQueue\n",
    "\n",
    "In dieser Lektion lernst du eine weitere Datenstruktur kennen: PriorityQueue.\n",
    "\n",
    "Das ist eine Warteschlange, die die Einträge für uns automatisch sortiert!"
   ]
  },
  {
   "cell_type": "code",
   "execution_count": 2,
   "metadata": {
    "collapsed": true
   },
   "outputs": [],
   "source": [
    "import queue\n",
    "q = queue.PriorityQueue()\n",
    "\n",
    "q.put((10, \"Hallo Welt\"))\n",
    "q.put((15, \"Mars\"))\n",
    "q.put((5, \"Wichtig\"))"
   ]
  },
  {
   "cell_type": "code",
   "execution_count": 3,
   "metadata": {},
   "outputs": [
    {
     "data": {
      "text/plain": [
       "(5, 'Wichtig')"
      ]
     },
     "execution_count": 3,
     "metadata": {},
     "output_type": "execute_result"
    }
   ],
   "source": [
    "q.get()"
   ]
  },
  {
   "cell_type": "code",
   "execution_count": 4,
   "metadata": {},
   "outputs": [
    {
     "data": {
      "text/plain": [
       "(10, 'Hallo Welt')"
      ]
     },
     "execution_count": 4,
     "metadata": {},
     "output_type": "execute_result"
    }
   ],
   "source": [
    "q.get()"
   ]
  },
  {
   "cell_type": "code",
   "execution_count": 15,
   "metadata": {},
   "outputs": [
    {
     "name": "stdout",
     "output_type": "stream",
     "text": [
      "(-8, 'D')\n",
      "(-7, 'E')\n",
      "(-5, 'A')\n"
     ]
    }
   ],
   "source": [
    "text = \"A A A A A B B B C C C C C D D D D D D D D E E E E E E E\"\n",
    "d = {}\n",
    "for word in text.split(\" \"):\n",
    "    if word in d:\n",
    "        d[word] = d[word] + 1\n",
    "    else:\n",
    "        d[word] = 1\n",
    "\n",
    "pq = queue.PriorityQueue()\n",
    "for word, number in d.items():\n",
    "    pq.put((-number, word))\n",
    "\n",
    "print(pq.get())\n",
    "print(pq.get())\n",
    "print(pq.get())"
   ]
  },
  {
   "cell_type": "code",
   "execution_count": null,
   "metadata": {
    "collapsed": true
   },
   "outputs": [],
   "source": []
  }
 ],
 "metadata": {
  "kernelspec": {
   "display_name": "Python 3",
   "language": "python",
   "name": "python3"
  },
  "language_info": {
   "codemirror_mode": {
    "name": "ipython",
    "version": 3
   },
   "file_extension": ".py",
   "mimetype": "text/x-python",
   "name": "python",
   "nbconvert_exporter": "python",
   "pygments_lexer": "ipython3",
   "version": "3.6.3"
  }
 },
 "nbformat": 4,
 "nbformat_minor": 2
}
