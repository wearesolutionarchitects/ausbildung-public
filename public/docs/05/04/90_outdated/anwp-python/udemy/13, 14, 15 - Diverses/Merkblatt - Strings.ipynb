{
 "cells": [
  {
   "cell_type": "markdown",
   "metadata": {},
   "source": [
    "## String - Methoden\n",
    "\n",
    "In diesem Dokument möchte ich dir einen kurzen Überblick über wichtige String-Methoden geben."
   ]
  },
  {
   "cell_type": "markdown",
   "metadata": {},
   "source": [
    "Mit der `.upper()`- bzw. `.lower()`-Methode kannst du dafür sorgen, dass alle Zeichen in Groß- bzw. Kleinbuchstaben angezeigt werden:"
   ]
  },
  {
   "cell_type": "code",
   "execution_count": 6,
   "metadata": {},
   "outputs": [
    {
     "name": "stdout",
     "output_type": "stream",
     "text": [
      "HALLO\n",
      "HALLO\n"
     ]
    }
   ],
   "source": [
    "w = \"Hallo\"\n",
    "print(w.upper())\n",
    "print(\"Hallo\".upper())"
   ]
  },
  {
   "cell_type": "code",
   "execution_count": 7,
   "metadata": {},
   "outputs": [
    {
     "name": "stdout",
     "output_type": "stream",
     "text": [
      "hallo\n",
      "hallo\n"
     ]
    }
   ],
   "source": [
    "w = \"Hallo\"\n",
    "print(w.lower())\n",
    "print(\"Hallo\".lower())"
   ]
  },
  {
   "cell_type": "markdown",
   "metadata": {},
   "source": [
    "Mit der `.startswith()` bzw. `.endswith()`-Methode kannst du prüfen, ob ein String mit einem anderen String beginnt / aufhört:"
   ]
  },
  {
   "cell_type": "code",
   "execution_count": 12,
   "metadata": {},
   "outputs": [
    {
     "name": "stdout",
     "output_type": "stream",
     "text": [
      "Der Satz endet mit drei Fragezeichen\n",
      "Der Satz beginnt mit einem 'ist'\n"
     ]
    }
   ],
   "source": [
    "sentence = \"Ist das Wetter heute gut???\"\n",
    "\n",
    "if sentence.endswith(\"???\"):\n",
    "    print(\"Der Satz endet mit drei Fragezeichen\")\n",
    "    \n",
    "if sentence.startswith(\"Ist\"):\n",
    "    print(\"Der Satz beginnt mit einem 'ist'\")"
   ]
  },
  {
   "cell_type": "markdown",
   "metadata": {},
   "source": [
    "### Die `.strip()`-Methode\n",
    "\n",
    "Standardmäßig entfernt die `.strip()`-Methode Leerzeichen vom Anfang und vom Ende des Strings:"
   ]
  },
  {
   "cell_type": "code",
   "execution_count": 1,
   "metadata": {},
   "outputs": [
    {
     "data": {
      "text/plain": [
       "'Hallo Welt.'"
      ]
     },
     "execution_count": 1,
     "metadata": {},
     "output_type": "execute_result"
    }
   ],
   "source": [
    "\"   Hallo Welt.    \".strip()"
   ]
  },
  {
   "cell_type": "markdown",
   "metadata": {},
   "source": [
    "Du kannst der `strip()`-Methode aber auch als Parameter übergeben, welche Zeichen entfernt werden sollen. Hier in den nächsten Beispielen sagen wir z. B., dass nur Unterstrichte und Punkte entfernt werden sollen.\n",
    "\n",
    "Die `.lstrip()`- bzw. `.rstrip()`-Methode funktionieren analog der `.strip()`-Methode, wobei aber `.lstrip()` nur die linke Seite und `.rstrip()` nur die rechte Seite betrachtet:"
   ]
  },
  {
   "cell_type": "code",
   "execution_count": 23,
   "metadata": {},
   "outputs": [
    {
     "name": "stdout",
     "output_type": "stream",
     "text": [
      "Hallo\n",
      "Hallo.__\n",
      "____Hallo.\n",
      "Ist das Wetter heute, und morgen gut\n"
     ]
    }
   ],
   "source": [
    "word = \"____Hallo.__\"\n",
    "print(word.strip(\"_.\"))\n",
    "print(word.lstrip(\"_\"))\n",
    "print(word.rstrip(\"_\"))\n",
    "\n",
    "sentence = \"Ist das Wetter heute, und morgen gut???\"\n",
    "print(sentence.rstrip(\"!?.,\"))"
   ]
  },
  {
   "cell_type": "markdown",
   "metadata": {},
   "source": [
    "### Die `.find()`-Methode\n",
    "\n",
    "Mit der `.find()`-Methode kannst du herausfinden, an welcher Stelle ein Zeichen in einem String vorkommt. Beispielsweise können wir so herausfinden, dass das Komma an der 21. Stelle (Position 20, also) vorkommt.\n",
    "\n",
    "Wenn die `.find()`-Methode die Zahl `-1` zurückgibt, bedeutet dass, dass das Zeichen im String nicht vorkommt:"
   ]
  },
  {
   "cell_type": "code",
   "execution_count": 26,
   "metadata": {
    "scrolled": true
   },
   "outputs": [
    {
     "name": "stdout",
     "output_type": "stream",
     "text": [
      "20\n",
      "-1\n"
     ]
    }
   ],
   "source": [
    "sentence = \"Ist das Wetter heute, und morgen gut???\"\n",
    "print(sentence.find(\",\"))\n",
    "print(sentence.find(\"!\"))"
   ]
  },
  {
   "cell_type": "markdown",
   "metadata": {},
   "source": [
    "### Zeichen ersetzen (`.replace()`)\n",
    "\n",
    "Mit der `.replace()`-Methode kannst du eine Ersetzung durchführen. Beispielsweise kannst du so das Komma durch ein Semikolon ersetzen lassen, etc.:"
   ]
  },
  {
   "cell_type": "code",
   "execution_count": 29,
   "metadata": {
    "scrolled": true
   },
   "outputs": [
    {
     "name": "stdout",
     "output_type": "stream",
     "text": [
      "Ist das Wetter heute; und morgen gut???\n",
      "Ist das Wetter heüte, ünd morgen güt???\n",
      "Ist das Wetter heute, oder morgen gut???\n"
     ]
    }
   ],
   "source": [
    "sentence = \"Ist das Wetter heute, und morgen gut???\"\n",
    "\n",
    "print(sentence.replace(\",\", \";\"))\n",
    "print(sentence.replace(\"u\", \"ü\"))\n",
    "print(sentence.replace(\"und\", \"oder\"))"
   ]
  },
  {
   "cell_type": "code",
   "execution_count": null,
   "metadata": {
    "collapsed": true
   },
   "outputs": [],
   "source": []
  }
 ],
 "metadata": {
  "kernelspec": {
   "display_name": "Python 3",
   "language": "python",
   "name": "python3"
  },
  "language_info": {
   "codemirror_mode": {
    "name": "ipython",
    "version": 3
   },
   "file_extension": ".py",
   "mimetype": "text/x-python",
   "name": "python",
   "nbconvert_exporter": "python",
   "pygments_lexer": "ipython3",
   "version": "3.7.6"
  }
 },
 "nbformat": 4,
 "nbformat_minor": 2
}
