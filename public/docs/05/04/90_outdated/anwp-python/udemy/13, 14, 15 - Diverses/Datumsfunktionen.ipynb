{
 "cells": [
  {
   "cell_type": "markdown",
   "metadata": {
    "collapsed": true
   },
   "source": [
    "## Rechnen mit Datumswerten in Python"
   ]
  },
  {
   "cell_type": "markdown",
   "metadata": {},
   "source": [
    "Zur Darstellung von Datumswerten gibt's in Python das datetime-Modul (https://docs.python.org/3/library/datetime.html). Damit kannst du Datumswerte repräsentieren und damit rechnen."
   ]
  },
  {
   "cell_type": "code",
   "execution_count": 1,
   "metadata": {
    "collapsed": true
   },
   "outputs": [],
   "source": [
    "from datetime import datetime"
   ]
  },
  {
   "cell_type": "markdown",
   "metadata": {},
   "source": [
    "Über `datetime.now()` hast du die Möglichkeit, ein Datumsobjekt zum aktuellen Datum erstellen zu lassen:"
   ]
  },
  {
   "cell_type": "code",
   "execution_count": 4,
   "metadata": {},
   "outputs": [
    {
     "name": "stdout",
     "output_type": "stream",
     "text": [
      "2017-07-18 10:32:24.422355\n"
     ]
    }
   ],
   "source": [
    "now = datetime.now()\n",
    "print(now)"
   ]
  },
  {
   "cell_type": "markdown",
   "metadata": {},
   "source": [
    "Alternativ kannst du auch ein spezifisches Datum angeben (hier: 20.8.2017, 20:00:00):"
   ]
  },
  {
   "cell_type": "code",
   "execution_count": 8,
   "metadata": {},
   "outputs": [
    {
     "name": "stdout",
     "output_type": "stream",
     "text": [
      "2017-08-20 20:00:00\n"
     ]
    }
   ],
   "source": [
    "day = datetime(2017, 8, 20, 20, 0, 0)\n",
    "print(day)"
   ]
  },
  {
   "cell_type": "markdown",
   "metadata": {},
   "source": [
    "Wenn du ein solches Datumsobjekt erstellt hast, kannst du z. B. über `.year` auf das Jahr direkt zugreifen. Du hast also direkten Zugriff auf alle einzelnen Angaben:"
   ]
  },
  {
   "cell_type": "code",
   "execution_count": 10,
   "metadata": {},
   "outputs": [
    {
     "name": "stdout",
     "output_type": "stream",
     "text": [
      "2017\n",
      "8\n",
      "20\n",
      "20\n",
      "0\n",
      "0\n"
     ]
    }
   ],
   "source": [
    "print(day.year)\n",
    "print(day.month)\n",
    "print(day.day)\n",
    "print(day.hour)\n",
    "print(day.minute)\n",
    "print(day.second)"
   ]
  },
  {
   "cell_type": "markdown",
   "metadata": {},
   "source": [
    "Die `.timestamp()`-Methode gibt dir den entsprechenden Unix-Timestamp zu einem bestimmten Datumswert zurück. Unix-Timestamp ist einfach nur eine Zahl, die die Sekunden seit dem 01.01.1970 hochzählt.\n",
    "\n",
    "Vorteil bei einem Unix-Timestamp ist, dass wir ihn recht kompakt speichern können; intern muss der Computer ja nur eine Zahl speichern, um einen Datumswert zu repräsentieren.\n",
    "\n",
    "Wir können ihn hier aber verwenden, um den Zeitunterschied in Sekunden zu berechnen :-)"
   ]
  },
  {
   "cell_type": "code",
   "execution_count": 17,
   "metadata": {},
   "outputs": [
    {
     "name": "stdout",
     "output_type": "stream",
     "text": [
      "2885255.5776450634\n"
     ]
    }
   ],
   "source": [
    "print(day.timestamp() - now.timestamp())"
   ]
  },
  {
   "cell_type": "markdown",
   "metadata": {},
   "source": [
    "### `date`- und `time`- Angaben\n",
    "\n",
    "Das `datetime`-Paket stellt uns auch weitere Klassen zur Verfügung, die wir verwenden können, um mit Datumsangaben zu arbeiten.\n",
    "\n",
    "Beispielsweise repräsentiert `date` eine Datumsangabe, `time` eine Zeitangabe.\n",
    "\n",
    "- `datetime`: Datumsangabe + Zeitangabe\n",
    "- `date`: Nur Datumsangabe\n",
    "- `time`: Nur Zeitangabe"
   ]
  },
  {
   "cell_type": "code",
   "execution_count": 2,
   "metadata": {
    "collapsed": true
   },
   "outputs": [],
   "source": [
    "from datetime import date, time"
   ]
  },
  {
   "cell_type": "code",
   "execution_count": 3,
   "metadata": {},
   "outputs": [
    {
     "name": "stdout",
     "output_type": "stream",
     "text": [
      "2017-08-20\n"
     ]
    }
   ],
   "source": [
    "d = date(2017, 8, 20)\n",
    "print(d)"
   ]
  },
  {
   "cell_type": "code",
   "execution_count": 21,
   "metadata": {},
   "outputs": [
    {
     "name": "stdout",
     "output_type": "stream",
     "text": [
      "20:01:04\n"
     ]
    }
   ],
   "source": [
    "t = time(20, 1, 4)\n",
    "print(t)"
   ]
  },
  {
   "cell_type": "markdown",
   "metadata": {},
   "source": [
    "Natürlich kannst du auch Datumswerte vergleichen.\n",
    "\n",
    "Aber Achtung! Bei `date` ist `==` beim gleichen Datum erfüllt, bei einem `datetime`-Objekt müssen natürlich sowohl die Datumsangabe als auch die Zeitangabe übereinstimmen.\n",
    "\n",
    "Ausführlich also:\n",
    "\n",
    "\n",
    "- `datetime`: Datumsangabe + Zeitangabe müssen übereinstimmen\n",
    "- `date`: Datumsangabe muss übereinstimmen\n",
    "- `time`: Zeitangabe muss übereinstimmen"
   ]
  },
  {
   "cell_type": "code",
   "execution_count": 26,
   "metadata": {},
   "outputs": [
    {
     "name": "stdout",
     "output_type": "stream",
     "text": [
      "True\n",
      "False\n"
     ]
    }
   ],
   "source": [
    "print(date(2017, 8, 20) == date(2017, 8, 20))\n",
    "print(datetime(2017, 8, 20, 20, 0, 0) == datetime(2017, 8, 20, 15, 0, 0))"
   ]
  },
  {
   "cell_type": "markdown",
   "metadata": {},
   "source": [
    "### `datetime` in `date` und `time` umwandeln\n",
    "\n",
    "Natürlich kannst du ein `datetime`-Objekt auch in ein `date` und ein `time`-Objekt zerlegen:"
   ]
  },
  {
   "cell_type": "code",
   "execution_count": 28,
   "metadata": {},
   "outputs": [
    {
     "name": "stdout",
     "output_type": "stream",
     "text": [
      "20:00:00\n",
      "2017-08-20\n"
     ]
    }
   ],
   "source": [
    "dt = datetime(2017, 8, 20, 20, 0, 0)\n",
    "print(dt.time())\n",
    "print(dt.date())"
   ]
  },
  {
   "cell_type": "markdown",
   "metadata": {},
   "source": [
    "### `date` und `time` in `datetime` umwandeln\n",
    "\n",
    "Und natürlich geht das auch anders herum :-)"
   ]
  },
  {
   "cell_type": "code",
   "execution_count": 30,
   "metadata": {},
   "outputs": [
    {
     "name": "stdout",
     "output_type": "stream",
     "text": [
      "2017-08-20 20:30:00\n"
     ]
    }
   ],
   "source": [
    "print(datetime.combine(date(2017, 8, 20), time(20, 30, 0)))"
   ]
  }
 ],
 "metadata": {
  "kernelspec": {
   "display_name": "Python 3",
   "language": "python",
   "name": "python3"
  },
  "language_info": {
   "codemirror_mode": {
    "name": "ipython",
    "version": 3
   },
   "file_extension": ".py",
   "mimetype": "text/x-python",
   "name": "python",
   "nbconvert_exporter": "python",
   "pygments_lexer": "ipython3",
   "version": "3.6.3"
  }
 },
 "nbformat": 4,
 "nbformat_minor": 2
}
