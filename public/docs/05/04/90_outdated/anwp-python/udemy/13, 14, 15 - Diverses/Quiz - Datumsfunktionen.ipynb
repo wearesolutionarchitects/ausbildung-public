{
 "cells": [
  {
   "cell_type": "markdown",
   "metadata": {},
   "source": [
    "## Quiz: Datumsfunktionen"
   ]
  },
  {
   "cell_type": "markdown",
   "metadata": {},
   "source": [
    "#### Aufgabe 1\n",
    "\n",
    "Wie ermittelst du mithilfe des `datetime`-Objektes aus dem `datetime`-Modul das aktuelle Datum inkl. Uhrzeit?\n",
    "\n",
    "```python\n",
    "from datetime import datetime\n",
    "```\n",
    "\n",
    "- A) `datetime.now()`\n",
    "- B) `datetime.jetzt()`\n",
    "- C) `datetime.daytime()`\n",
    "- D) `date.now(time)`"
   ]
  },
  {
   "cell_type": "markdown",
   "metadata": {},
   "source": [
    "Richtige Lösung: "
   ]
  },
  {
   "cell_type": "markdown",
   "metadata": {},
   "source": [
    "#### Aufgabe 2\n",
    "\n",
    "Wie erstellst du ein datetime-Objekt für das exakte Datum: `01.04.2018, 06:58:47`?\n",
    "\n",
    "```python\n",
    "from datetime import datetime\n",
    "```\n",
    "\n",
    "- A) `datetime(47, 58, 6, 1, 4, 2018)`\n",
    "- B) `datetime(6, 58, 47, 1, 4, 2018)`\n",
    "- C) `datetime(2018, 4, 1, 6, 58, 47)`\n",
    "- D) `date = (47, 58, 6, 1, 4, 2018)`"
   ]
  },
  {
   "cell_type": "markdown",
   "metadata": {},
   "source": [
    "Richtige Lösung: "
   ]
  },
  {
   "cell_type": "markdown",
   "metadata": {},
   "source": [
    "#### Aufgabe 3\n",
    "\n",
    "Wie erstellt du für das `datetime`-Objekt `day`, das per `day = datetime.now()` erzeugt wurde, eine Datumsanzeige in der folgenden Gestalt?:\n",
    "\n",
    "`Monday, 12th of January`\n",
    "\n",
    "```python\n",
    "from datetime import datetime\n",
    "\n",
    "day = datetime.now()\n",
    "```\n",
    "\n",
    "Schau zur Erinnerung hier nach: https://docs.python.org/3.6/library/time.html\n",
    "\n",
    "- A) `day.strftime(\"%A, %dth of %B\")`\n",
    "- B) `day.strftime(\"%D, %dth of %M\")`\n",
    "- C) `day.strftime(\"%a\" + \", \" + \"%D\" + \"th of \" + \"%M\")`\n",
    "- D) `day.strptime(\"%W, %D th of %M\")`"
   ]
  },
  {
   "cell_type": "markdown",
   "metadata": {},
   "source": [
    "Richtige Lösung: "
   ]
  },
  {
   "cell_type": "code",
   "execution_count": null,
   "metadata": {
    "collapsed": true
   },
   "outputs": [],
   "source": []
  }
 ],
 "metadata": {
  "kernelspec": {
   "display_name": "Python 3",
   "language": "python",
   "name": "python3"
  },
  "language_info": {
   "codemirror_mode": {
    "name": "ipython",
    "version": 3
   },
   "file_extension": ".py",
   "mimetype": "text/x-python",
   "name": "python",
   "nbconvert_exporter": "python",
   "pygments_lexer": "ipython3",
   "version": "3.6.3"
  }
 },
 "nbformat": 4,
 "nbformat_minor": 2
}
