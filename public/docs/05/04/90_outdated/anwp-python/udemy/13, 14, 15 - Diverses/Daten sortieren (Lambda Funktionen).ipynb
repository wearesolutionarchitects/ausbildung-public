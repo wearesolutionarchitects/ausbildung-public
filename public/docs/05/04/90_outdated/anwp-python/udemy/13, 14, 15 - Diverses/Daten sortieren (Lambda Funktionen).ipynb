{
 "cells": [
  {
   "cell_type": "markdown",
   "metadata": {},
   "source": [
    "## Daten sortieren\n",
    "\n",
    "In dieser Lektion lernst du, was es mit Lambda-Funktionen auf sich hat. Diese sind unglaublich praktisch, weil sie eine kurze Schreibweise sind, wie du eine Funktion als Parameter übergeben kannst:"
   ]
  },
  {
   "cell_type": "code",
   "execution_count": 4,
   "metadata": {},
   "outputs": [
    {
     "name": "stdout",
     "output_type": "stream",
     "text": [
      "[('Franziska', 1), ('Monika', 2), ('Max', 3), ('Erik', 3)]\n"
     ]
    }
   ],
   "source": [
    "students = [\n",
    "    (\"Max\", 3),\n",
    "    (\"Monika\", 2),\n",
    "    (\"Erik\", 3),\n",
    "    (\"Franziska\", 1)\n",
    "]\n",
    "\n",
    "students.sort(key=lambda student: student[1])\n",
    "print(students)"
   ]
  },
  {
   "cell_type": "code",
   "execution_count": 5,
   "metadata": {},
   "outputs": [
    {
     "data": {
      "text/plain": [
       "1"
      ]
     },
     "execution_count": 5,
     "metadata": {},
     "output_type": "execute_result"
    }
   ],
   "source": [
    "f = lambda student: student[1]\n",
    "f((\"Max\", 1))"
   ]
  },
  {
   "cell_type": "code",
   "execution_count": null,
   "metadata": {
    "collapsed": true
   },
   "outputs": [],
   "source": []
  }
 ],
 "metadata": {
  "kernelspec": {
   "display_name": "Python 3",
   "language": "python",
   "name": "python3"
  },
  "language_info": {
   "codemirror_mode": {
    "name": "ipython",
    "version": 3
   },
   "file_extension": ".py",
   "mimetype": "text/x-python",
   "name": "python",
   "nbconvert_exporter": "python",
   "pygments_lexer": "ipython3",
   "version": "3.6.3"
  }
 },
 "nbformat": 4,
 "nbformat_minor": 2
}
