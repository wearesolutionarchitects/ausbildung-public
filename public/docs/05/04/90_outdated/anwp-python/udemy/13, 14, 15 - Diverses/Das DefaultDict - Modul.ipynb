{
 "cells": [
  {
   "cell_type": "markdown",
   "metadata": {},
   "source": [
    "## Das DefaultDict-Modul\n",
    "\n",
    "Das DefaultDict-Modul stellt eine ganz besondere Funktionalität zur Verfügung: Du kannst damit ein Dictionary erstellen, welches sich mehr oder weniger automatisch mit initialen Werten befüllt!\n",
    "\n",
    "Das möchten wir uns natürlich mal anschauen:"
   ]
  },
  {
   "cell_type": "code",
   "execution_count": 1,
   "metadata": {
    "collapsed": true
   },
   "outputs": [],
   "source": [
    "from collections import defaultdict"
   ]
  },
  {
   "cell_type": "code",
   "execution_count": 8,
   "metadata": {},
   "outputs": [
    {
     "name": "stdout",
     "output_type": "stream",
     "text": [
      "generate() wurde aufgerufen!\n",
      "defaultdict(<function generate at 0x10bce7d08>, {'existiertNicht': 5})\n"
     ]
    }
   ],
   "source": [
    "def generate():\n",
    "    print(\"generate() wurde aufgerufen!\")\n",
    "    return 0\n",
    "\n",
    "d = defaultdict(generate)\n",
    "\n",
    "d[\"existiertNicht\"] = d[\"existiertNicht\"] + 5\n",
    "print(d)"
   ]
  },
  {
   "cell_type": "code",
   "execution_count": 11,
   "metadata": {},
   "outputs": [
    {
     "name": "stdout",
     "output_type": "stream",
     "text": [
      "defaultdict(<class 'int'>, {'Hallo': 2, 'Welt': 1})\n"
     ]
    }
   ],
   "source": [
    "p = defaultdict(int)\n",
    "words = [\"Hallo\", \"Hallo\", \"Welt\"]\n",
    "\n",
    "for word in words:\n",
    "    p[word] = p[word] + 1\n",
    "\n",
    "print(p)"
   ]
  },
  {
   "cell_type": "code",
   "execution_count": null,
   "metadata": {
    "collapsed": true
   },
   "outputs": [],
   "source": []
  }
 ],
 "metadata": {
  "kernelspec": {
   "display_name": "Python 3",
   "language": "python",
   "name": "python3"
  },
  "language_info": {
   "codemirror_mode": {
    "name": "ipython",
    "version": 3
   },
   "file_extension": ".py",
   "mimetype": "text/x-python",
   "name": "python",
   "nbconvert_exporter": "python",
   "pygments_lexer": "ipython3",
   "version": "3.6.3"
  }
 },
 "nbformat": 4,
 "nbformat_minor": 2
}
