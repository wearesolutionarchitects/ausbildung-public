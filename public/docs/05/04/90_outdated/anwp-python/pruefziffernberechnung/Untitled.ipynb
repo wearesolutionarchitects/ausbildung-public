{
 "cells": [
  {
   "cell_type": "code",
   "execution_count": 4,
   "id": "3f84ea89-df10-4ac0-93c3-89a7dbe0872c",
   "metadata": {},
   "outputs": [
    {
     "ename": "NameError",
     "evalue": "name 'kreditkartennummer' is not defined",
     "output_type": "error",
     "traceback": [
      "\u001b[0;31m---------------------------------------------------------------------------\u001b[0m",
      "\u001b[0;31mNameError\u001b[0m                                 Traceback (most recent call last)",
      "Cell \u001b[0;32mIn[4], line 3\u001b[0m\n\u001b[1;32m      1\u001b[0m kredikartennummmer \u001b[38;5;241m=\u001b[39m \u001b[38;5;124m\"\u001b[39m\u001b[38;5;124m934257186670199\u001b[39m\u001b[38;5;124m\"\u001b[39m\n\u001b[1;32m      2\u001b[0m \u001b[38;5;66;03m#kreditkartennummer = input (\"Bitte die Kreditkartennummer eingeben?\")\u001b[39;00m\n\u001b[0;32m----> 3\u001b[0m \u001b[38;5;28mprint\u001b[39m (\u001b[38;5;28mlen\u001b[39m (\u001b[43mkreditkartennummer\u001b[49m))\n",
      "\u001b[0;31mNameError\u001b[0m: name 'kreditkartennummer' is not defined"
     ]
    }
   ],
   "source": [
    "kredikartennummmer = \"934257186670199\"\n",
    "#kreditkartennummer = input (\"Bitte die Kreditkartennummer eingeben?\")\n",
    "print (len (kreditkartennummer))"
   ]
  }
 ],
 "metadata": {
  "kernelspec": {
   "display_name": "Python 3 (ipykernel)",
   "language": "python",
   "name": "python3"
  },
  "language_info": {
   "codemirror_mode": {
    "name": "ipython",
    "version": 3
   },
   "file_extension": ".py",
   "mimetype": "text/x-python",
   "name": "python",
   "nbconvert_exporter": "python",
   "pygments_lexer": "ipython3",
   "version": "3.12.2"
  }
 },
 "nbformat": 4,
 "nbformat_minor": 5
}
