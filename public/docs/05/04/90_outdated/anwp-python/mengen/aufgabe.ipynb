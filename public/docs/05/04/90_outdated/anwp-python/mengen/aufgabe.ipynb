{
 "cells": [
  {
   "cell_type": "markdown",
   "metadata": {},
   "source": [
    "# Aufgabe\n",
    "\n",
    "- M = {1,2,...,15} # Grundmenge \n",
    "- A = {1,3,5,7,...,15} \n",
    "- B = {gerade Zahlen in der Grundmnege} \n",
    "- C = {2,3,5,12,13} "
   ]
  },
  {
   "cell_type": "code",
   "execution_count": 5,
   "metadata": {},
   "outputs": [
    {
     "name": "stdout",
     "output_type": "stream",
     "text": [
      "Grundmenge:  {1, 2, 3, 4, 5, 6, 7, 8, 9, 10, 11, 12, 13, 14, 15}\n",
      "ungerade:  {1, 3, 5, 7, 9, 11, 13, 15}\n",
      "gerade:  {2, 4, 6, 8, 10, 12, 14}\n",
      "Ungerade ist Teilmenge von Grundmenge\n",
      "Ist Ungerade Teilmenge von Gerade? False\n"
     ]
    }
   ],
   "source": [
    "grundmenge = set ([1,2,3,4,5,6,7,8,9,10,11,12,13,14,15])\n",
    "ungerade = set ([1,3,5,7,9,11,13,15])\n",
    "gerade = set ([2,4,6,8,10,12,14])\n",
    "\n",
    "print(\"Grundmenge: \", grundmenge)\n",
    "print(\"ungerade: \", ungerade)\n",
    "print(\"gerade: \", gerade)\n",
    "\n",
    "if ungerade.issubset(grundmenge):\n",
    "    print(\"Ungerade ist Teilmenge von Grundmenge\")\n",
    "\n",
    "print (\"Ist Ungerade Teilmenge von Gerade?\", ungerade.issubset(gerade))"
   ]
  },
  {
   "cell_type": "code",
   "execution_count": null,
   "metadata": {},
   "outputs": [],
   "source": []
  }
 ],
 "metadata": {
  "kernelspec": {
   "display_name": "Python 3",
   "language": "python",
   "name": "python3"
  },
  "language_info": {
   "codemirror_mode": {
    "name": "ipython",
    "version": 3
   },
   "file_extension": ".py",
   "mimetype": "text/x-python",
   "name": "python",
   "nbconvert_exporter": "python",
   "pygments_lexer": "ipython3",
   "version": "3.12.3"
  }
 },
 "nbformat": 4,
 "nbformat_minor": 2
}
