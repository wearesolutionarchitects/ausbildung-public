{
    "metadata": {
        "kernelspec": {
            "name": "SQL",
            "display_name": "SQL",
            "language": "sql"
        },
        "language_info": {
            "name": "sql",
            "version": ""
        }
    },
    "nbformat_minor": 2,
    "nbformat": 4,
    "cells": [
        {
            "cell_type": "markdown",
            "source": [
                "# Datenbankprojekt 'support\\_ticket'\n",
                "\n",
                "## Support Ticket Verwaltung\n",
                "\n",
                "Um ein Support-Ticket-Verwaltungssystem in MSSQL oder PostgreSQL zu implementieren, müssen wir eine Datenbankstruktur erstellen, die die verschiedenen Aspekte eines Support-Ticketsystems abbildet. Hier ist ein Beispiel, wie eine solche Struktur aussehen könnte:\n",
                "\n",
                "## Tabellenstruktur\n",
                "\n",
                "Die Datenbank besteht aus folgenden Tabellen:\n",
                "\n",
                "- `users`: Diese Tabelle enthält Informationen über Benutzer, die Tickets erstellen oder bearbeiten können\n",
                "- `tickets`: Diese Diese Tabelle speichert die eigentlichen Support-Tickets.\n",
                "- `states`: Diese Tabelle enthält die verschiedenen Stati, die ein Ticket haben kann.\n",
                "- `comments`: Diese Tabelle speichert Kommentare zu den Tickets."
            ],
            "metadata": {
                "azdata_cell_guid": "372621cb-9044-4407-97a3-1b39246f76ba"
            },
            "attachments": {}
        },
        {
            "cell_type": "markdown",
            "source": [
                "### 1. ERM welches die Beziehungen zwischen den einzelnen Tabellen darstellt\n",
                "![ERM](./support_ticket.drawio.png)"
            ],
            "metadata": {
                "language": "sql",
                "azdata_cell_guid": "2268c015-6879-4a62-8860-94ae6281d48a"
            },
            "attachments": {}
        },
        {
            "cell_type": "code",
            "source": [
                "USE master;  \r\n",
                "GO  \r\n",
                "ALTER DATABASE support_tickets SET SINGLE_USER WITH ROLLBACK IMMEDIATE;  \r\n",
                "DROP DATABASE support_tickets\r\n",
                "GO"
            ],
            "metadata": {
                "azdata_cell_guid": "b86445f1-d6b0-4eaa-94eb-8c81be9f01f7",
                "language": "sql",
                "tags": []
            },
            "outputs": [
                {
                    "output_type": "display_data",
                    "data": {
                        "text/html": "Die Befehle wurden erfolgreich ausgeführt."
                    },
                    "metadata": {}
                },
                {
                    "output_type": "display_data",
                    "data": {
                        "text/html": "Die Befehle wurden erfolgreich ausgeführt."
                    },
                    "metadata": {}
                },
                {
                    "output_type": "display_data",
                    "data": {
                        "text/html": "Ausführungszeit gesamt: 00:00:00.055"
                    },
                    "metadata": {}
                }
            ],
            "execution_count": 346
        },
        {
            "cell_type": "markdown",
            "source": [
                "### Erstellen der Datenbank \"support_tickets\""
            ],
            "metadata": {
                "azdata_cell_guid": "c485eb48-07df-4aff-867f-d89da3009e32",
                "language": "sql"
            },
            "attachments": {}
        },
        {
            "cell_type": "code",
            "source": [
                "USE master  \r\n",
                "GO  \r\n",
                "CREATE DATABASE support_tickets"
            ],
            "metadata": {
                "azdata_cell_guid": "4609b766-24ca-444e-88a7-98611f0ce616",
                "language": "sql"
            },
            "outputs": [
                {
                    "output_type": "display_data",
                    "data": {
                        "text/html": "Die Befehle wurden erfolgreich ausgeführt."
                    },
                    "metadata": {}
                },
                {
                    "output_type": "display_data",
                    "data": {
                        "text/html": "Die Befehle wurden erfolgreich ausgeführt."
                    },
                    "metadata": {}
                },
                {
                    "output_type": "display_data",
                    "data": {
                        "text/html": "Ausführungszeit gesamt: 00:00:00.291"
                    },
                    "metadata": {}
                }
            ],
            "execution_count": 347
        },
        {
            "cell_type": "markdown",
            "source": [
                "### 2.1 Erstellen der Felder für die Tabelle mit dem Ticketstatus"
            ],
            "metadata": {
                "language": "sql",
                "azdata_cell_guid": "ccc476e4-d9a7-4f38-8e43-ec564f41f609"
            },
            "attachments": {}
        },
        {
            "cell_type": "code",
            "source": [
                "USE support_tickets\r\n",
                "CREATE TABLE states\r\n",
                "(\r\n",
                "    [state_id] INT IDENTITY(1,1) PRIMARY KEY,\r\n",
                "    [state_name] VARCHAR(25) NOT NULL\r\n",
                ");\r\n",
                ""
            ],
            "metadata": {
                "azdata_cell_guid": "eeb4c279-89ae-44ad-a40a-d66e44cd968d",
                "language": "sql"
            },
            "outputs": [
                {
                    "output_type": "display_data",
                    "data": {
                        "text/html": "Die Befehle wurden erfolgreich ausgeführt."
                    },
                    "metadata": {}
                },
                {
                    "output_type": "display_data",
                    "data": {
                        "text/html": "Ausführungszeit gesamt: 00:00:00.005"
                    },
                    "metadata": {}
                }
            ],
            "execution_count": 348
        },
        {
            "cell_type": "markdown",
            "source": [
                "### 2.2 Erstellen der Felder für die Tabelle mit den Kommentaren zu den Tickets"
            ],
            "metadata": {
                "language": "sql",
                "azdata_cell_guid": "b6f09ec8-91d6-4e9f-92c4-3795ca21d5de"
            },
            "attachments": {}
        },
        {
            "cell_type": "code",
            "source": [
                "USE support_tickets\r\n",
                "CREATE TABLE comments\r\n",
                "(\r\n",
                "    [comment_id] INT IDENTITY(1,1) PRIMARY KEY,\r\n",
                "    [comment_name] VARCHAR(255) NOT NULL\r\n",
                ");\r\n",
                ""
            ],
            "metadata": {
                "azdata_cell_guid": "292063bf-ef93-472f-8385-d6be16f0055f",
                "language": "sql"
            },
            "outputs": [
                {
                    "output_type": "display_data",
                    "data": {
                        "text/html": "Die Befehle wurden erfolgreich ausgeführt."
                    },
                    "metadata": {}
                },
                {
                    "output_type": "display_data",
                    "data": {
                        "text/html": "Ausführungszeit gesamt: 00:00:00.004"
                    },
                    "metadata": {}
                }
            ],
            "execution_count": 349
        },
        {
            "cell_type": "markdown",
            "source": [
                "### 2.3 Erstellen der Tabelle mit den Informationen zu den Usern, welche Tickets erstellen und bearbeiten können"
            ],
            "metadata": {
                "language": "sql",
                "azdata_cell_guid": "d3035fd3-f882-43c6-8a64-a90bc53d5fae"
            },
            "attachments": {}
        },
        {
            "cell_type": "code",
            "source": [
                "USE support_tickets\r\n",
                "GO\r\n",
                "CREATE TABLE users\r\n",
                "(\r\n",
                "    user_id INT IDENTITY(1,1) PRIMARY KEY,\r\n",
                "    user_first_name VARCHAR(25) NOT NULL,\r\n",
                "    user_last_name VARCHAR(25) NOT NULL\r\n",
                ");"
            ],
            "metadata": {
                "azdata_cell_guid": "101af4af-6eba-4af8-a2d0-adf64aefdafe",
                "language": "sql"
            },
            "outputs": [
                {
                    "output_type": "display_data",
                    "data": {
                        "text/html": "Die Befehle wurden erfolgreich ausgeführt."
                    },
                    "metadata": {}
                },
                {
                    "output_type": "display_data",
                    "data": {
                        "text/html": "Die Befehle wurden erfolgreich ausgeführt."
                    },
                    "metadata": {}
                },
                {
                    "output_type": "display_data",
                    "data": {
                        "text/html": "Ausführungszeit gesamt: 00:00:00.004"
                    },
                    "metadata": {}
                }
            ],
            "execution_count": 350
        },
        {
            "cell_type": "markdown",
            "source": [
                "### 2.4 Erstellen der Felder für die Tabelle mit den eigentlichen Support Tickets"
            ],
            "metadata": {
                "language": "sql",
                "azdata_cell_guid": "f361ef9e-3a53-4239-ac6f-9948295f20c9"
            },
            "attachments": {}
        },
        {
            "cell_type": "code",
            "source": [
                "USE support_tickets\r\n",
                "GO\r\n",
                "CREATE TABLE tickets\r\n",
                "(\r\n",
                "    ticket_id INT IDENTITY(1,1) PRIMARY KEY,\r\n",
                "    ticket_name VARCHAR(255) NOT NULL,\r\n",
                "    comment_id INT NOT NULL,\r\n",
                "    FOREIGN KEY (comment_id) REFERENCES comments(comment_id),\r\n",
                "    state_id INT NOT NULL,\r\n",
                "    FOREIGN KEY (state_id) REFERENCES states(state_id),\r\n",
                "    creator_id INT NOT NULL,\r\n",
                "    FOREIGN KEY (creator_id) REFERENCES users(user_id),\r\n",
                "    editor_id INT NOT NULL,\r\n",
                "    FOREIGN KEY (editor_id) REFERENCES users(user_id),\r\n",
                ");\r\n",
                ""
            ],
            "metadata": {
                "azdata_cell_guid": "807c4f4a-0a1a-4638-b544-dbf2cfe1ca75",
                "language": "sql"
            },
            "outputs": [
                {
                    "output_type": "display_data",
                    "data": {
                        "text/html": "Die Befehle wurden erfolgreich ausgeführt."
                    },
                    "metadata": {}
                },
                {
                    "output_type": "display_data",
                    "data": {
                        "text/html": "Die Befehle wurden erfolgreich ausgeführt."
                    },
                    "metadata": {}
                },
                {
                    "output_type": "display_data",
                    "data": {
                        "text/html": "Ausführungszeit gesamt: 00:00:00.005"
                    },
                    "metadata": {}
                }
            ],
            "execution_count": 351
        },
        {
            "cell_type": "markdown",
            "source": [
                "### 5.1 Einfügen der Beispieldaten zum Status in die Tabelle"
            ],
            "metadata": {
                "language": "sql",
                "azdata_cell_guid": "46156a81-268f-464e-a857-1322d04f8902"
            },
            "attachments": {}
        },
        {
            "cell_type": "code",
            "source": [
                "USE support_tickets;\r\n",
                "GO\r\n",
                "INSERT INTO states(state_name) VALUES\r\n",
                "    ('offen'),\r\n",
                "    ('in Bearbeitung'),\r\n",
                "    ('abgeschlossen')"
            ],
            "metadata": {
                "azdata_cell_guid": "2c98e231-c0f4-4666-997b-8d9c2261c850",
                "language": "sql"
            },
            "outputs": [
                {
                    "output_type": "display_data",
                    "data": {
                        "text/html": "Die Befehle wurden erfolgreich ausgeführt."
                    },
                    "metadata": {}
                },
                {
                    "output_type": "display_data",
                    "data": {
                        "text/html": "(3 Zeilen betroffen)"
                    },
                    "metadata": {}
                },
                {
                    "output_type": "display_data",
                    "data": {
                        "text/html": "Ausführungszeit gesamt: 00:00:00.005"
                    },
                    "metadata": {}
                }
            ],
            "execution_count": 352
        },
        {
            "cell_type": "markdown",
            "source": [
                "### 5.2 Einfügen der Beispieldaten zu den Kommentaren in die Tabelle"
            ],
            "metadata": {
                "language": "sql",
                "azdata_cell_guid": "9e0df028-b96d-4dcb-b8a6-7cd1ddc57dfa"
            },
            "attachments": {}
        },
        {
            "cell_type": "code",
            "source": [
                "USE support_tickets;\r\n",
                "GO\r\n",
                "INSERT INTO comments(comment_name) VALUES\r\n",
                "    ('Neuinstallation Windows 11 Enterprise'),\r\n",
                "    ('Reaktivierung Windows 11 Evalutation'),\r\n",
                "    ('Neuinstallation MS SQL-Server'),\r\n",
                "    ('Neuinstallation SQL Server Management Studio (SSMS)'),\r\n",
                "    ('Neuinstallation PostgreSQL'),\r\n",
                "    ('Neuinstallation Visual Studio Code'),\r\n",
                "    ('Neuinstallation Azure Data Studio'),\r\n",
                "    ('Weitergabe an Fachkoordination und Dozent:in')\r\n",
                "GO\r\n",
                ""
            ],
            "metadata": {
                "azdata_cell_guid": "013859e6-be63-46da-b028-cca3244f0042",
                "language": "sql"
            },
            "outputs": [
                {
                    "output_type": "display_data",
                    "data": {
                        "text/html": "Die Befehle wurden erfolgreich ausgeführt."
                    },
                    "metadata": {}
                },
                {
                    "output_type": "display_data",
                    "data": {
                        "text/html": "(8 Zeilen betroffen)"
                    },
                    "metadata": {}
                },
                {
                    "output_type": "display_data",
                    "data": {
                        "text/html": "Ausführungszeit gesamt: 00:00:00.010"
                    },
                    "metadata": {}
                }
            ],
            "execution_count": 353
        },
        {
            "cell_type": "markdown",
            "source": [
                "### 5.3 Einfügen der Beispieldaten zu den Usern in die Tabelle"
            ],
            "metadata": {
                "language": "sql",
                "azdata_cell_guid": "7efa275c-1085-490f-b282-388a2fd2cec4"
            },
            "attachments": {}
        },
        {
            "cell_type": "code",
            "source": [
                "USE support_tickets\r\n",
                "GO\r\n",
                "INSERT INTO users(user_first_name, user_last_name) VALUES\r\n",
                "    ('Hiba','Al-Anssari'),\r\n",
                "    ('Irina','Zittlau'),\r\n",
                "    ('Puya','Khandany'),\r\n",
                "    ('Heiko','Fanieng')"
            ],
            "metadata": {
                "azdata_cell_guid": "3b289ac7-0d09-42b9-ba5f-8fccdeb94f2a",
                "language": "sql"
            },
            "outputs": [
                {
                    "output_type": "display_data",
                    "data": {
                        "text/html": "Die Befehle wurden erfolgreich ausgeführt."
                    },
                    "metadata": {}
                },
                {
                    "output_type": "display_data",
                    "data": {
                        "text/html": "(4 Zeilen betroffen)"
                    },
                    "metadata": {}
                },
                {
                    "output_type": "display_data",
                    "data": {
                        "text/html": "Ausführungszeit gesamt: 00:00:00.011"
                    },
                    "metadata": {}
                }
            ],
            "execution_count": 354
        },
        {
            "cell_type": "markdown",
            "source": [
                "### 5.4 Einfügen der Daten zu den Support-Tickets in die Tabelle"
            ],
            "metadata": {
                "language": "sql",
                "azdata_cell_guid": "7ca58d5a-fcea-4b3e-a360-883fd03215a0"
            },
            "attachments": {}
        },
        {
            "cell_type": "code",
            "source": [
                "USE support_tickets;\r\n",
                "GO\r\n",
                "INSERT INTO tickets(ticket_name, comment_id, state_id, creator_id, editor_id) VALUES\r\n",
                "    ('Betriebssystem-Lizenz abgelaufen',1,3,1,3),\r\n",
                "    ('Betriebssystem-Lizenz abgelaufen',2,1,2,4),\r\n",
                "    ('MS-SQL Server nicht vorhanden',3,1,2,3),\r\n",
                "    ('MS-SQL Server nicht vorhanden',3,2,1,3),\r\n",
                "    ('PostgreSQL nicht vorhanden',5,2,1,4),\r\n",
                "    ('PostgreSQL nicht vorhanden',5,2,2,4),\r\n",
                "    ('Login PostgreSQL im Hostsystem nicht möglich', 8, 2, 1, 3),\r\n",
                "    ('Login PostgreSQL im Hostsystem nicht möglich', 8, 2, 2, 4),\r\n",
                "    ('Installation PostgreSQL Kommandozeilen-Programme im Hostsystem nicht möglich', 8, 2, 2, 4),\r\n",
                "    ('Installation PostgreSQL Kommandozeilen-Programme im Hostsystem nicht möglich', 8, 1, 2, 3),\r\n",
                "    ('Aktualisierung Visual Studio Code im Hostsystem nicht möglich', 8, 1, 2, 3),\r\n",
                "    ('Aktualisierung Visual Studio Code im Hostsystem nicht möglich', 8, 1, 2, 4),\r\n",
                "    ('Aktualisierung PyCharm im Hostsystem nicht möglich', 8, 1, 2, 4),\r\n",
                "    ('Aktualisierung PyCharm im Hostsystem nicht möglich', 8, 1, 2, 3),\r\n",
                "    ('Einbindung von Python Bibliotheken im Hostsystem nicht möglich', 8, 1, 2, 4),\r\n",
                "    ('Einbindung von Python Bibliotheken im Hostsystem nicht möglich', 8, 1, 2, 3),\r\n",
                "    ('Einbringung eigener Geräte (BYOD)', 8, 1, 1, 2),\r\n",
                "    ('Einbringung eigener Geräte (BYOD)', 8, 1, 2, 3),\r\n",
                "    ('Einbringung eigener Geräte (BYOD)', 8, 1, 3, 4),\r\n",
                "    ('Einbringung eigener Geräte (BYOD)', 8, 1, 4, 1)\r\n",
                "GO"
            ],
            "metadata": {
                "azdata_cell_guid": "e4c9c7f1-de41-4d41-a16b-7948b8460cf6",
                "language": "sql"
            },
            "outputs": [
                {
                    "output_type": "display_data",
                    "data": {
                        "text/html": "Die Befehle wurden erfolgreich ausgeführt."
                    },
                    "metadata": {}
                },
                {
                    "output_type": "display_data",
                    "data": {
                        "text/html": "(20 Zeilen betroffen)"
                    },
                    "metadata": {}
                },
                {
                    "output_type": "display_data",
                    "data": {
                        "text/html": "Ausführungszeit gesamt: 00:00:00.039"
                    },
                    "metadata": {}
                }
            ],
            "execution_count": 355
        },
        {
            "cell_type": "markdown",
            "source": [
                "## Überprüfung der vorgenommenen Änderungen mittels SELECT und INNER JOIN"
            ],
            "metadata": {
                "language": "sql",
                "azdata_cell_guid": "c3cb8fad-2d4f-4f6c-8485-e589d6dafa7c"
            },
            "attachments": {}
        },
        {
            "cell_type": "code",
            "source": [
                "/* Abfrage der Daten */\n",
                "USE support_tickets;\n",
                "GO\n",
                "SELECT\n",
                "ticket_name AS Beschreibung,\n",
                "comment_name AS Kommentar,\n",
                "state_name AS [Status],\n",
                "creator.user_first_name AS Ersteller,\n",
                "editor.user_first_name AS Bearbeiter\n",
                "FROM tickets\n",
                "LEFT JOIN comments ON tickets.comment_id = comments.comment_id\n",
                "INNER JOIN states ON tickets.state_id = states.state_id\n",
                "INNER JOIN users as creator ON tickets.creator_id = creator.user_id\n",
                "INNER JOIN users as editor ON tickets.editor_id = editor.user_id\n",
                "GO"
            ],
            "metadata": {
                "language": "sql",
                "azdata_cell_guid": "1c5b2851-ffe2-43d9-a1bb-7c8805d23cb5"
            },
            "outputs": [
                {
                    "output_type": "display_data",
                    "data": {
                        "text/html": "Die Befehle wurden erfolgreich ausgeführt."
                    },
                    "metadata": {}
                },
                {
                    "output_type": "display_data",
                    "data": {
                        "text/html": "(20 Zeilen betroffen)"
                    },
                    "metadata": {}
                },
                {
                    "output_type": "display_data",
                    "data": {
                        "text/html": "Ausführungszeit gesamt: 00:00:00.032"
                    },
                    "metadata": {}
                },
                {
                    "output_type": "execute_result",
                    "metadata": {},
                    "execution_count": 356,
                    "data": {
                        "application/vnd.dataresource+json": {
                            "schema": {
                                "fields": [
                                    {
                                        "name": "Beschreibung"
                                    },
                                    {
                                        "name": "Kommentar"
                                    },
                                    {
                                        "name": "Status"
                                    },
                                    {
                                        "name": "Ersteller"
                                    },
                                    {
                                        "name": "Bearbeiter"
                                    }
                                ]
                            },
                            "data": [
                                {
                                    "Beschreibung": "Betriebssystem-Lizenz abgelaufen",
                                    "Kommentar": "Neuinstallation Windows 11 Enterprise",
                                    "Status": "abgeschlossen",
                                    "Ersteller": "Hiba",
                                    "Bearbeiter": "Puya"
                                },
                                {
                                    "Beschreibung": "Betriebssystem-Lizenz abgelaufen",
                                    "Kommentar": "Reaktivierung Windows 11 Evalutation",
                                    "Status": "offen",
                                    "Ersteller": "Irina",
                                    "Bearbeiter": "Heiko"
                                },
                                {
                                    "Beschreibung": "MS-SQL Server nicht vorhanden",
                                    "Kommentar": "Neuinstallation MS SQL-Server",
                                    "Status": "offen",
                                    "Ersteller": "Irina",
                                    "Bearbeiter": "Puya"
                                },
                                {
                                    "Beschreibung": "MS-SQL Server nicht vorhanden",
                                    "Kommentar": "Neuinstallation MS SQL-Server",
                                    "Status": "in Bearbeitung",
                                    "Ersteller": "Hiba",
                                    "Bearbeiter": "Puya"
                                },
                                {
                                    "Beschreibung": "PostgreSQL nicht vorhanden",
                                    "Kommentar": "Neuinstallation PostgreSQL",
                                    "Status": "in Bearbeitung",
                                    "Ersteller": "Hiba",
                                    "Bearbeiter": "Heiko"
                                },
                                {
                                    "Beschreibung": "PostgreSQL nicht vorhanden",
                                    "Kommentar": "Neuinstallation PostgreSQL",
                                    "Status": "in Bearbeitung",
                                    "Ersteller": "Irina",
                                    "Bearbeiter": "Heiko"
                                },
                                {
                                    "Beschreibung": "Login PostgreSQL im Hostsystem nicht möglich",
                                    "Kommentar": "Weitergabe an Fachkoordination und Dozent:in",
                                    "Status": "in Bearbeitung",
                                    "Ersteller": "Hiba",
                                    "Bearbeiter": "Puya"
                                },
                                {
                                    "Beschreibung": "Login PostgreSQL im Hostsystem nicht möglich",
                                    "Kommentar": "Weitergabe an Fachkoordination und Dozent:in",
                                    "Status": "in Bearbeitung",
                                    "Ersteller": "Irina",
                                    "Bearbeiter": "Heiko"
                                },
                                {
                                    "Beschreibung": "Installation PostgreSQL Kommandozeilen-Programme im Hostsystem nicht möglich",
                                    "Kommentar": "Weitergabe an Fachkoordination und Dozent:in",
                                    "Status": "in Bearbeitung",
                                    "Ersteller": "Irina",
                                    "Bearbeiter": "Heiko"
                                },
                                {
                                    "Beschreibung": "Installation PostgreSQL Kommandozeilen-Programme im Hostsystem nicht möglich",
                                    "Kommentar": "Weitergabe an Fachkoordination und Dozent:in",
                                    "Status": "offen",
                                    "Ersteller": "Irina",
                                    "Bearbeiter": "Puya"
                                },
                                {
                                    "Beschreibung": "Aktualisierung Visual Studio Code im Hostsystem nicht möglich",
                                    "Kommentar": "Weitergabe an Fachkoordination und Dozent:in",
                                    "Status": "offen",
                                    "Ersteller": "Irina",
                                    "Bearbeiter": "Puya"
                                },
                                {
                                    "Beschreibung": "Aktualisierung Visual Studio Code im Hostsystem nicht möglich",
                                    "Kommentar": "Weitergabe an Fachkoordination und Dozent:in",
                                    "Status": "offen",
                                    "Ersteller": "Irina",
                                    "Bearbeiter": "Heiko"
                                },
                                {
                                    "Beschreibung": "Aktualisierung PyCharm im Hostsystem nicht möglich",
                                    "Kommentar": "Weitergabe an Fachkoordination und Dozent:in",
                                    "Status": "offen",
                                    "Ersteller": "Irina",
                                    "Bearbeiter": "Heiko"
                                },
                                {
                                    "Beschreibung": "Aktualisierung PyCharm im Hostsystem nicht möglich",
                                    "Kommentar": "Weitergabe an Fachkoordination und Dozent:in",
                                    "Status": "offen",
                                    "Ersteller": "Irina",
                                    "Bearbeiter": "Puya"
                                },
                                {
                                    "Beschreibung": "Einbindung von Python Bibliotheken im Hostsystem nicht möglich",
                                    "Kommentar": "Weitergabe an Fachkoordination und Dozent:in",
                                    "Status": "offen",
                                    "Ersteller": "Irina",
                                    "Bearbeiter": "Heiko"
                                },
                                {
                                    "Beschreibung": "Einbindung von Python Bibliotheken im Hostsystem nicht möglich",
                                    "Kommentar": "Weitergabe an Fachkoordination und Dozent:in",
                                    "Status": "offen",
                                    "Ersteller": "Irina",
                                    "Bearbeiter": "Puya"
                                },
                                {
                                    "Beschreibung": "Einbringung eigener Geräte (BYOD)",
                                    "Kommentar": "Weitergabe an Fachkoordination und Dozent:in",
                                    "Status": "offen",
                                    "Ersteller": "Hiba",
                                    "Bearbeiter": "Irina"
                                },
                                {
                                    "Beschreibung": "Einbringung eigener Geräte (BYOD)",
                                    "Kommentar": "Weitergabe an Fachkoordination und Dozent:in",
                                    "Status": "offen",
                                    "Ersteller": "Irina",
                                    "Bearbeiter": "Puya"
                                },
                                {
                                    "Beschreibung": "Einbringung eigener Geräte (BYOD)",
                                    "Kommentar": "Weitergabe an Fachkoordination und Dozent:in",
                                    "Status": "offen",
                                    "Ersteller": "Puya",
                                    "Bearbeiter": "Heiko"
                                },
                                {
                                    "Beschreibung": "Einbringung eigener Geräte (BYOD)",
                                    "Kommentar": "Weitergabe an Fachkoordination und Dozent:in",
                                    "Status": "offen",
                                    "Ersteller": "Heiko",
                                    "Bearbeiter": "Hiba"
                                }
                            ]
                        },
                        "text/html": [
                            "<table>",
                            "<tr><th>Beschreibung</th><th>Kommentar</th><th>Status</th><th>Ersteller</th><th>Bearbeiter</th></tr>",
                            "<tr><td>Betriebssystem-Lizenz abgelaufen</td><td>Neuinstallation Windows 11 Enterprise</td><td>abgeschlossen</td><td>Hiba</td><td>Puya</td></tr>",
                            "<tr><td>Betriebssystem-Lizenz abgelaufen</td><td>Reaktivierung Windows 11 Evalutation</td><td>offen</td><td>Irina</td><td>Heiko</td></tr>",
                            "<tr><td>MS-SQL Server nicht vorhanden</td><td>Neuinstallation MS SQL-Server</td><td>offen</td><td>Irina</td><td>Puya</td></tr>",
                            "<tr><td>MS-SQL Server nicht vorhanden</td><td>Neuinstallation MS SQL-Server</td><td>in Bearbeitung</td><td>Hiba</td><td>Puya</td></tr>",
                            "<tr><td>PostgreSQL nicht vorhanden</td><td>Neuinstallation PostgreSQL</td><td>in Bearbeitung</td><td>Hiba</td><td>Heiko</td></tr>",
                            "<tr><td>PostgreSQL nicht vorhanden</td><td>Neuinstallation PostgreSQL</td><td>in Bearbeitung</td><td>Irina</td><td>Heiko</td></tr>",
                            "<tr><td>Login PostgreSQL im Hostsystem nicht möglich</td><td>Weitergabe an Fachkoordination und Dozent:in</td><td>in Bearbeitung</td><td>Hiba</td><td>Puya</td></tr>",
                            "<tr><td>Login PostgreSQL im Hostsystem nicht möglich</td><td>Weitergabe an Fachkoordination und Dozent:in</td><td>in Bearbeitung</td><td>Irina</td><td>Heiko</td></tr>",
                            "<tr><td>Installation PostgreSQL Kommandozeilen-Programme im Hostsystem nicht möglich</td><td>Weitergabe an Fachkoordination und Dozent:in</td><td>in Bearbeitung</td><td>Irina</td><td>Heiko</td></tr>",
                            "<tr><td>Installation PostgreSQL Kommandozeilen-Programme im Hostsystem nicht möglich</td><td>Weitergabe an Fachkoordination und Dozent:in</td><td>offen</td><td>Irina</td><td>Puya</td></tr>",
                            "<tr><td>Aktualisierung Visual Studio Code im Hostsystem nicht möglich</td><td>Weitergabe an Fachkoordination und Dozent:in</td><td>offen</td><td>Irina</td><td>Puya</td></tr>",
                            "<tr><td>Aktualisierung Visual Studio Code im Hostsystem nicht möglich</td><td>Weitergabe an Fachkoordination und Dozent:in</td><td>offen</td><td>Irina</td><td>Heiko</td></tr>",
                            "<tr><td>Aktualisierung PyCharm im Hostsystem nicht möglich</td><td>Weitergabe an Fachkoordination und Dozent:in</td><td>offen</td><td>Irina</td><td>Heiko</td></tr>",
                            "<tr><td>Aktualisierung PyCharm im Hostsystem nicht möglich</td><td>Weitergabe an Fachkoordination und Dozent:in</td><td>offen</td><td>Irina</td><td>Puya</td></tr>",
                            "<tr><td>Einbindung von Python Bibliotheken im Hostsystem nicht möglich</td><td>Weitergabe an Fachkoordination und Dozent:in</td><td>offen</td><td>Irina</td><td>Heiko</td></tr>",
                            "<tr><td>Einbindung von Python Bibliotheken im Hostsystem nicht möglich</td><td>Weitergabe an Fachkoordination und Dozent:in</td><td>offen</td><td>Irina</td><td>Puya</td></tr>",
                            "<tr><td>Einbringung eigener Geräte (BYOD)</td><td>Weitergabe an Fachkoordination und Dozent:in</td><td>offen</td><td>Hiba</td><td>Irina</td></tr>",
                            "<tr><td>Einbringung eigener Geräte (BYOD)</td><td>Weitergabe an Fachkoordination und Dozent:in</td><td>offen</td><td>Irina</td><td>Puya</td></tr>",
                            "<tr><td>Einbringung eigener Geräte (BYOD)</td><td>Weitergabe an Fachkoordination und Dozent:in</td><td>offen</td><td>Puya</td><td>Heiko</td></tr>",
                            "<tr><td>Einbringung eigener Geräte (BYOD)</td><td>Weitergabe an Fachkoordination und Dozent:in</td><td>offen</td><td>Heiko</td><td>Hiba</td></tr>",
                            "</table>"
                        ]
                    }
                }
            ],
            "execution_count": 356
        },
        {
            "cell_type": "markdown",
            "source": [
                "### Abrufen der Tickets eines Benutzers mit Tabellenwertfunktion"
            ],
            "metadata": {
                "azdata_cell_guid": "89dba9f6-d659-402d-ba2f-0a762a3b95ed"
            },
            "attachments": {}
        },
        {
            "cell_type": "code",
            "source": [
                "USE support_tickets\n",
                "GO\n",
                "SET ANSI_NULLS ON\n",
                "GO\n",
                "SET QUOTED_IDENTIFIER ON\n",
                "GO\n",
                "CREATE PROCEDURE [dbo].[spGetTicketsByUserId]\n",
                "    @editor_id INT\n",
                "AS\n",
                "BEGIN\n",
                "    SELECT * FROM tickets WHERE editor_id = @editor_id\n",
                "END"
            ],
            "metadata": {
                "azdata_cell_guid": "68092484-1465-4a5d-9e2e-b09355aa018e",
                "language": "sql"
            },
            "outputs": [
                {
                    "output_type": "display_data",
                    "data": {
                        "text/html": "Die Befehle wurden erfolgreich ausgeführt."
                    },
                    "metadata": {}
                },
                {
                    "output_type": "display_data",
                    "data": {
                        "text/html": "Die Befehle wurden erfolgreich ausgeführt."
                    },
                    "metadata": {}
                },
                {
                    "output_type": "display_data",
                    "data": {
                        "text/html": "Die Befehle wurden erfolgreich ausgeführt."
                    },
                    "metadata": {}
                },
                {
                    "output_type": "display_data",
                    "data": {
                        "text/html": "Die Befehle wurden erfolgreich ausgeführt."
                    },
                    "metadata": {}
                },
                {
                    "output_type": "display_data",
                    "data": {
                        "text/html": "Ausführungszeit gesamt: 00:00:00.014"
                    },
                    "metadata": {}
                }
            ],
            "execution_count": 357
        }
    ]
}