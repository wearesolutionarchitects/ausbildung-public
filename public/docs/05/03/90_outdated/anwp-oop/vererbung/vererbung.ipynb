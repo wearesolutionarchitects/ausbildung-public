{
 "cells": [
  {
   "cell_type": "code",
   "execution_count": 1,
   "metadata": {},
   "outputs": [
    {
     "name": "stdout",
     "output_type": "stream",
     "text": [
      "88\n",
      "1\n",
      "Hallo\n",
      "F1 ist die Bezeichnung und 88 km/h die Geschwindigkeit\n",
      "Fiat Marea\n",
      "Fiat Marea ist die Bezeichnung und 60 km/h die Geschwindigkeit 2 Insassen\n",
      "[<class '__main__.PKW'>, <class '__main__.Fahrzeug'>, <class 'object'>]\n"
     ]
    }
   ],
   "source": [
    "class Fahrzeug: # Oberklasse / Elternklasse / Generalisierung\n",
    "    def __init__(self, bez, ge): # Konstruktor von Fahrzeug\n",
    "        self.bezeichnung = bez # Attribut z.b. BMW\n",
    "        self.geschwindigkeit = ge\n",
    "\n",
    "    def beschleunigen(self, wert):\n",
    "        self.geschwindigkeit += wert# Speichervorgang\n",
    "\n",
    "\n",
    "    def __str__(self):\n",
    "        return f\"{self.bezeichnung} ist die Bezeichnung und {self.geschwindigkeit} km/h die Geschwindigkeit\"\n",
    "\n",
    "    def __gt__(self, other):\n",
    "        pass # return \"bool\"\n",
    "\n",
    "class PKW(Fahrzeug): # Vererbung, PKW ist Unterklasse / Kindklasse / Subklasse / Spezialisierung\n",
    "    def __init__(self, bez, ge, ins): #Konstruktor von PKW\n",
    "        super().__init__(bez,ge)\n",
    "        self.insassen = ins\n",
    "\n",
    "\n",
    "    def __str__(self):\n",
    "        return f\"{super().__str__()} {self.insassen} Insassen\"\n",
    "\n",
    "    def einsteigen(self, anzahl):\n",
    "        self.insassen += anzahl\n",
    "    def aussteigen(self, anzahl):\n",
    "        self.insassen -= anzahl\n",
    "\n",
    "f1 = Fahrzeug(\"F1\",0)\n",
    "f1.beschleunigen(88) # None = Nichts = Keine Rückgabe 0 kein Return-Wert\n",
    "print(f1.geschwindigkeit) # 88\n",
    "#f1.einsteigen(3) Klasse Fahrzeug hat keine Methode einsteigen, deshalb Fehlermeldung\n",
    "\n",
    "#print(f1.__str__())\n",
    "\n",
    "\n",
    "print(1) # Integer\n",
    "print(\"Hallo\") # String, also print ist überladen\n",
    "\n",
    "print(f1)\n",
    "\n",
    "\n",
    "\n",
    "fiat = PKW(\"Fiat Marea\", 50, 0) # Erzeugen eines PKW Objektes mit Namen fiat\n",
    "fiat.einsteigen(3)\n",
    "fiat.aussteigen(1)\n",
    "fiat.beschleunigen(10)\n",
    "print(fiat.bezeichnung)\n",
    "print(fiat)\n",
    "\n",
    "mercedes = PKW(\"Mercedes\", 54, 2)\n",
    "\n",
    "print(PKW.mro()) # Methode resolution order\n",
    "\n",
    "if mercedes > fiat:\n",
    "    print(\"kjokj\")"
   ]
  }
 ],
 "metadata": {
  "kernelspec": {
   "display_name": "Python 3",
   "language": "python",
   "name": "python3"
  },
  "language_info": {
   "codemirror_mode": {
    "name": "ipython",
    "version": 3
   },
   "file_extension": ".py",
   "mimetype": "text/x-python",
   "name": "python",
   "nbconvert_exporter": "python",
   "pygments_lexer": "ipython3",
   "version": "3.12.0"
  }
 },
 "nbformat": 4,
 "nbformat_minor": 2
}
