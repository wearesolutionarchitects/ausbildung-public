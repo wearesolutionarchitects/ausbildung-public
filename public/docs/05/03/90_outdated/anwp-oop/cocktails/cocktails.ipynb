{
 "cells": [
  {
   "cell_type": "markdown",
   "metadata": {},
   "source": [
    "# Cocktails\n",
    "\n",
    "## Definition der Klasse"
   ]
  },
  {
   "cell_type": "code",
   "execution_count": 1,
   "metadata": {},
   "outputs": [
    {
     "name": "stdout",
     "output_type": "stream",
     "text": [
      "Cocktail: Around the World, Preis: 32.0 €, Stärke: 5 Volumen: 3.0 l\n",
      "815\n",
      "around_the_world ist teurer als aloha\n",
      "[<class '__main__.Cocktail'>, <class 'object'>]\n"
     ]
    }
   ],
   "source": [
    "class Cocktail: \n",
    "    def __init__(self, name, preis, staerke, volumen):\n",
    "        self.name = name # Attribute / Parameter\n",
    "        self.preis = preis\n",
    "        self.staerke = staerke\n",
    "        self.volumen = volumen  \n",
    "    def __int__(self):\n",
    "        return 815\n",
    "\n",
    "    def __str__(self):\n",
    "        return f\"Cocktail: {self.name}, Preis: {self.preis} €, Stärke: {self.staerke} Volumen: {self.volumen} l\"\n",
    "    \n",
    "    def __gt__ (self, other):\n",
    "        return (self.preis > other.preis) and (self.staerke > other.staerke)\n",
    "\n",
    "around_the_world = Cocktail(\"Around the World\", 32.00, 5, 3.0)\n",
    "aloha = Cocktail(\"Aloha\", 8.00, 4, 0.55)\n",
    "\n",
    "print(around_the_world)\n",
    "print(int(aloha))\n",
    "\n",
    "if around_the_world > aloha:\n",
    "    print(\"around_the_world ist teurer als aloha\")\n",
    "else:\n",
    "    print(\"aloha ist teurer als around_the_world\")\n",
    "\n",
    "print(Cocktail.mro())"
   ]
  },
  {
   "cell_type": "markdown",
   "metadata": {},
   "source": [
    "## Konvertierung der Markdown-Tabelle"
   ]
  },
  {
   "cell_type": "code",
   "execution_count": null,
   "metadata": {},
   "outputs": [],
   "source": [
    "import pandas as pd\n",
    "\n",
    "# Lese die Markdown-Tabelle\n",
    "df = pd.read_table('readme.md')\n",
    "\n",
    "# Konvertiere die Tabelle in JSON\n",
    "json_data = df.to_json(orient='records')\n",
    "\n",
    "print(json_data)\n"
   ]
  }
 ],
 "metadata": {
  "kernelspec": {
   "display_name": "Python 3",
   "language": "python",
   "name": "python3"
  },
  "language_info": {
   "codemirror_mode": {
    "name": "ipython",
    "version": 3
   },
   "file_extension": ".py",
   "mimetype": "text/x-python",
   "name": "python",
   "nbconvert_exporter": "python",
   "pygments_lexer": "ipython3",
   "version": "3.12.4"
  }
 },
 "nbformat": 4,
 "nbformat_minor": 2
}
