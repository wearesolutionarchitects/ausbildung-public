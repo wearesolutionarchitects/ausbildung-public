{
 "cells": [
  {
   "cell_type": "markdown",
   "metadata": {},
   "source": [
    "# Ihr Unternehmen benötigt ein Programm, welches nach einem Algorithmus eine Prüfziffernberechnung für Kreditkartennummern durchführt\n",
    "\n",
    "## Die Prüfziffer errechnet sich wie folgt\n",
    "\n",
    "1. Schritt: Verdoppelung des Wertes jeder zweiten Ziffer, beginnend mit der vorletzten Ziffer\n",
    "2. Schritt: Bildung der Quersummen aller Ergebnisse aus Schritt 1 und Addition dieser Quersummen\n",
    "3. Schritt: Berechnung der Differenz zwischen dem Ergebnis aus Schritt 2 und der nächst kleineren durch 10\n",
    "teilbaren Zahl\n",
    "4. Schritt: Berechnung der Differenz zwischen 10 und dem Ergebnis aus Schritt 3. Ergibt sich als Differenz\n",
    "10, wird diese auf 0 gesetzt.\n",
    "Das Ergebnis aus Schritt 4 ist die berechnete Prüfziffer (PZ).\n",
    "\n",
    "**Hinweise: In den Algorithmus wird die Kreditkartennummer als Text eingeben. Die einzelnen Stellen können\n",
    "über einen Index angesprochen werden.\n",
    "Beispiel: nummer[ 0] - erste Stelle, nummer[ 15] - Prüfziffer etc.\n",
    "Ist die Kartennummer gültig, wird „Nummer gültig“, sonst „Nummer nicht gültig“ ausgegeben.**\n",
    "\n",
    "Seite 302 im Arbeitsbuch.\n",
    "| ||| | | | | | | | | | | | | | | |\n",
    "|-|-|-|-|-|-|-|-|-|-|-|-|-|-|-|-|-|-|\n",
    "|Ziffern-Nr.|1|2|3|4|5|6|7|8|9|10|11|12|13|14|15|16 (PZ)|Ergebnis|\n",
    "|Kreditkarten-Nr.|9|3|4|2|5|7|1|8|6|6|7|0|1|9|9|6| |\n",
    "|Faktor|2|1|2|1|2|1|2|1|2|1|2|1|2|1|2| | |\n",
    "|1. Schritt|18|3|8|2|10|7|2|8|12|6|14|0|2|9|18| | |\n",
    "|2. Schritt|1+8|3|8|2|1+0|7|2|8|1+2|6|1+4|0|2|9|1+8| |74|\n",
    "|3. Schritt|74-70| | | | | | | | | | | | | | | |10|\n",
    "|4. Schritt|10-4| | | | | | | | | | | | | | | |6 (PZ)|\n"
   ]
  },
  {
   "cell_type": "markdown",
   "metadata": {},
   "source": [
    "**Luhn-Algorithmus**\n",
    "\n",
    "Gegebene Kreditkartennummer: `9 3 4 2 5 7 1 8 6 6 7 0 1 9 9 6`\n",
    "1. Ignoriere die letzte Ziffer (hier: `6`), da sie die Prüfziffer ist.\n",
    "2. Drehe die Reihenfolge der Zahlen um: `9 9 1 0 7 6 6 8 1 7 5 2 4 3 9`\n",
    "3. Verdopple jede zweite Ziffer, beginnend mit der ersten Ziffer der umgedrehten Sequenz:\n",
    "   `18 9 2 0 14 6 12 8 2 7 10 2 8 3 18`\n",
    "4. Subtrahiere `9` von jeder Ziffer, die jetzt größer als `9` ist:\n",
    "   `9 9 2 0 5 6 3 8 2 7 1 2 8 3 9`\n",
    "5. Addiere alle Ziffern:\n",
    "   `9 + 9 + 2 + 0 + 5 + 6 + 3 + 8 + 2 + 7 + 1 + 2 + 8 + 3 + 9 = 74`\n",
    "6. Addiere die ursprüngliche Prüfziffer (hier: `6`) zur Summe:\n",
    "   `74 + 6 = 80`\n",
    "7. Wenn das Endergebnis durch `10` teilbar ist (d.h., `80 modulo 10` ist gleich `0`), dann ist die Kreditkartennummer gültig.\n",
    "   Da `80` durch `10` teilbar ist, ist diese Kreditkartennummer gültig.\n"
   ]
  },
  {
   "cell_type": "markdown",
   "metadata": {},
   "source": [
    "### Gegebene Kreditkartennnummer"
   ]
  },
  {
   "cell_type": "code",
   "execution_count": 10,
   "metadata": {
    "scrolled": true
   },
   "outputs": [],
   "source": [
    "nummer =\"9342571866701996\""
   ]
  },
  {
   "cell_type": "markdown",
   "metadata": {},
   "source": [
    "### Ignoriere die Letze Ziffer (Prüfziffer)"
   ]
  },
  {
   "cell_type": "code",
   "execution_count": 11,
   "metadata": {},
   "outputs": [
    {
     "name": "stdout",
     "output_type": "stream",
     "text": [
      "934257186670199\n"
     ]
    }
   ],
   "source": [
    "nummer = nummer[:-1]\n",
    "print(nummer)"
   ]
  },
  {
   "cell_type": "markdown",
   "metadata": {},
   "source": [
    "### Drehe die Reihenfolge der Zahlen um"
   ]
  },
  {
   "cell_type": "code",
   "execution_count": 12,
   "metadata": {},
   "outputs": [
    {
     "name": "stdout",
     "output_type": "stream",
     "text": [
      "['9', '3', '4', '2', '5', '7', '1', '8', '6', '6', '7', '0', '1', '9', '9']\n"
     ]
    }
   ],
   "source": [
    "nummer_verdreht = []\n",
    "for i in range(0, len(nummer)):\n",
    "    nummer_verdreht.append(''.join(reversed(nummer[i])))\n",
    "print(nummer_verdreht)"
   ]
  },
  {
   "cell_type": "markdown",
   "metadata": {},
   "source": [
    "### Verdopple jede zweite Ziffer, beginnend mit der ersten Ziffer der umgedrehten Sequenz"
   ]
  },
  {
   "cell_type": "code",
   "execution_count": 13,
   "metadata": {},
   "outputs": [
    {
     "name": "stdout",
     "output_type": "stream",
     "text": [
      "['18', '3', '8', '2', '10', '7', '2', '8', '12', '6', '14', '0', '2', '9', '18']\n"
     ]
    }
   ],
   "source": [
    "for i in range(0, len(nummer_verdreht), 2): # Schleife für die Verdoppelung der Zahlen\n",
    "    nummer_verdreht[i] = str(int(nummer_verdreht[i]) * 2) # Verdoppelung der Zahlen\n",
    "print(nummer_verdreht)"
   ]
  },
  {
   "cell_type": "markdown",
   "metadata": {},
   "source": [
    "Subtrahiere `9` von jeder Ziffer, die jetzt größer als `9` ist"
   ]
  }
 ],
 "metadata": {
  "kernelspec": {
   "display_name": "Python 3 (ipykernel)",
   "language": "python",
   "name": "python3"
  },
  "language_info": {
   "codemirror_mode": {
    "name": "ipython",
    "version": 3
   },
   "file_extension": ".py",
   "mimetype": "text/x-python",
   "name": "python",
   "nbconvert_exporter": "python",
   "pygments_lexer": "ipython3",
   "version": "3.12.3"
  }
 },
 "nbformat": 4,
 "nbformat_minor": 4
}
