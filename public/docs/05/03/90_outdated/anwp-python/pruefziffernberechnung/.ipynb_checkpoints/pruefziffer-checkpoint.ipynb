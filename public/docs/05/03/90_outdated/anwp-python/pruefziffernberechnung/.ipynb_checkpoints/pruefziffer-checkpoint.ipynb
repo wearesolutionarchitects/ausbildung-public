{
 "cells": [
  {
   "cell_type": "markdown",
   "metadata": {},
   "source": [
    "# Ihr Unternehmen benötigt ein Programm, welches nach einem Algorithmus eine Prüfziffernberechnung für Kreditkartennummern durchführt. Die Prüfziffer errechnet sich wie folgt\n",
    "\n",
    "1. Schritt: Verdoppelung des Wertes jeder zweiten Ziffer, beginnend mit der vorletzten Ziffer\n",
    "2. Schritt: Bildung der Quersummen aller Ergebnisse aus Schritt 1 und Addition dieser Quersummen\n",
    "3. Schritt: Berechnung der Differenz zwischen dem Ergebnis aus Schritt 2 und der nächst kleineren durch 10\n",
    "teilbaren Zahl\n",
    "4. Schritt: Berechnung der Differenz zwischen 10 und dem Ergebnis aus Schritt 3. Ergibt sich als Differenz\n",
    "10, wird diese auf 0 gesetzt.\n",
    "Das Ergebnis aus Schritt 4 ist die berechnete Prüfziffer (PZ).\n",
    "\n",
    "**Hinweise: In den Algorithmus wird die Kreditkartennummer als Text eingeben. Die einzelnen Stellen können\n",
    "über einen Index angesprochen werden.\n",
    "Beispiel: nummer[ 0] - erste Stelle, nummer[ 15] - Prüfziffer etc.\n",
    "Ist die Kartennummer gültig, wird „Nummer gültig“, sonst „Nummer nicht gültig“ ausgegeben.**\n",
    "\n",
    "Seite 302 im Arbeitsbuch.\n",
    "| | | | | | | | | | | | | | | | | | |\n",
    "|-|-|-|-|-|-|-|-|-|-|-|-|-|-|-|-|-|-|\n",
    "|Ziffern-Nr.|1|2|3|4|5|6|7|8|9|10|11|12|13|14|15|16 (PZ)|Ergebnis|\n",
    "|Kreditkarten-Nr.|9|3|4|2|5|7|1|8|6|6|7|0|1|9|9|6| |\n",
    "|Faktor|2|1|2|1|2|1|2|1|2|1|2|1|2|1|2| | |\n",
    "|1. Schritt|18|3|8|2|10|7|2|8|12|6|14|0|2|9|18| | |\n",
    "|2. Schritt|1+8|3|8|2|1+0|7|2|8|1+2|6|1+4|0|2|9|1+8| |74|\n",
    "|3. Schritt|74-70| | | | | | | | | | | | | | | |10|\n",
    "|4. Schritt|10-4| | | | | | | | | | | | | | | |6 (PZ)|\n"
   ]
  },
  {
   "cell_type": "markdown",
   "metadata": {},
   "source": [
    "# Pseudo Code \n",
    "\n",
    "Eingabe kredikartennummmer 342571866701996\n"
   ]
  },
  {
   "cell_type": "code",
   "execution_count": 16,
   "metadata": {},
   "outputs": [
    {
     "name": "stdout",
     "output_type": "stream",
     "text": [
      "18\n"
     ]
    }
   ],
   "source": [
    "kredikartennummmer=\"934257186670199\"\n",
    "#kreditkartennummer = input (\"Bitte die Kreditkartennummer eingeben?\")\n",
    "print (len (\"kreditkartennummer\"))"
   ]
  },
  {
   "cell_type": "code",
   "execution_count": null,
   "metadata": {},
   "outputs": [],
   "source": []
  }
 ],
 "metadata": {
  "kernelspec": {
   "display_name": "Python 3 (ipykernel)",
   "language": "python",
   "name": "python3"
  },
  "language_info": {
   "codemirror_mode": {
    "name": "ipython",
    "version": 3
   },
   "file_extension": ".py",
   "mimetype": "text/x-python",
   "name": "python",
   "nbconvert_exporter": "python",
   "pygments_lexer": "ipython3",
   "version": "3.12.2"
  }
 },
 "nbformat": 4,
 "nbformat_minor": 4
}
