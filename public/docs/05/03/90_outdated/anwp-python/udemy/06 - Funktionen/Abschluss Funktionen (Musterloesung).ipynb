{
 "cells": [
  {
   "cell_type": "markdown",
   "metadata": {},
   "source": [
    "# Abschluss Funktionen (Musterlösung)"
   ]
  },
  {
   "cell_type": "markdown",
   "metadata": {},
   "source": [
    "Nimm dir die Zeit, um die Aufgaben sorgfältig zu bearbeiten. :-) Viel Erfolg!"
   ]
  },
  {
   "cell_type": "markdown",
   "metadata": {},
   "source": [
    "### Ein funktionaler Online-Shop\n",
    "Die Mathemagierin will ihren Online-Shop auf Funktionen umrüsten. Es wartet also wieder einiges an Arbeit auf dich. "
   ]
  },
  {
   "cell_type": "markdown",
   "metadata": {},
   "source": [
    "#### a.) Schreibe eine Funktion, die den Gesamtpreis der Produkte im Warenkorb berechnet!\n",
    "Vervollständige die Funktion list_sum(), der als Parameter eine Liste mit den Preisen übergeben wird. Die Funktion soll dann die Summe der Zahlen aus der Liste ausgeben."
   ]
  },
  {
   "cell_type": "code",
   "execution_count": 11,
   "metadata": {},
   "outputs": [
    {
     "name": "stdout",
     "output_type": "stream",
     "text": [
      "63.95\n"
     ]
    }
   ],
   "source": [
    "cart_prices = [20, 3.5, 6.49, 8.99, 9.99, 14.98]\n",
    "\n",
    "def list_sum(l):\n",
    "    total = 0\n",
    "    for i in l:\n",
    "        total = total + i\n",
    "    print(total)\n",
    "    # alternativ einfach: print(sum(l))\n",
    "\n",
    "list_sum(cart_prices)"
   ]
  },
  {
   "cell_type": "markdown",
   "metadata": {},
   "source": [
    "Folgende Ausgabe wird erwartet: `63.95`"
   ]
  },
  {
   "cell_type": "markdown",
   "metadata": {},
   "source": [
    "#### b.) Schreibe eine Funktion, die für einen Artikel eine Preis-Tabelle erstellt!\n",
    "\n",
    "Nun wünscht sich die Mathmagierin eine Funktion, der sie einen Artikelnamen und den Verkaufspreis übergeben kann. Daraus soll die Funktion eine Liste erstellen, in der die Preise von einem, zwei, drei,... bis zehn Einheiten des Artikels\n",
    "stehen. Genauer soll jedes Element in der Liste so aussehen: \"Anzahl x Artikel: Preis\".\n",
    "\n",
    "Du wunderst dich nur kurz über die Ansprüche der Mathemagierin."
   ]
  },
  {
   "cell_type": "code",
   "execution_count": 1,
   "metadata": {},
   "outputs": [
    {
     "name": "stdout",
     "output_type": "stream",
     "text": [
      "['1 x Wunderkeks: 0.79', '2 x Wunderkeks: 1.58', '3 x Wunderkeks: 2.37', '4 x Wunderkeks: 3.16', '5 x Wunderkeks: 3.95', '6 x Wunderkeks: 4.74', '7 x Wunderkeks: 5.53', '8 x Wunderkeks: 6.32', '9 x Wunderkeks: 7.11', '10 x Wunderkeks: 7.9']\n"
     ]
    }
   ],
   "source": [
    "def prices_list(name, price):\n",
    "    l = []\n",
    "    for i in range(1, 11):\n",
    "        l.append(str(i) + \" x \" + name + \": \" + str(price * i))\n",
    "    return l\n",
    "\n",
    "print(prices_list(\"Wunderkeks\", 0.79))"
   ]
  },
  {
   "cell_type": "markdown",
   "metadata": {},
   "source": [
    "Folgende Ausgabe wird erwartet (muss nicht farbig sein):\n",
    "\n",
    "```python\n",
    "['1 x Wunderkeks: 0.79', '2 x Wunderkeks: 1.58', '3 x Wunderkeks: 2.37', '4 x Wunderkeks: 3.16', '5 x Wunderkeks: 3.95', '6 x Wunderkeks: 4.74', '7 x Wunderkeks: 5.53', '8 x Wunderkeks: 6.32', '9 x Wunderkeks: 7.11', '10 x Wunderkeks: 7.9']\n",
    "```"
   ]
  },
  {
   "cell_type": "markdown",
   "metadata": {},
   "source": [
    "#### c.) Schreibe eine Funktion, die die Listen mit den Artikeln auffüllt!\n",
    "\n",
    "Von nun an soll auch eine Funktion die Waren in die virtuellen Regale einräumen, d. h. an die erste, noch leere Position in der Liste _shelf_ packen. Als Parameter soll der Funktion `add_shelf()` der einzusortierende Artikel übergeben werden. Die Funktion aktualisiert dann die Liste `shelf`, und der neue Artikel wurde in das erste leere Regalfach eingeräumt. "
   ]
  },
  {
   "cell_type": "code",
   "execution_count": 5,
   "metadata": {},
   "outputs": [
    {
     "name": "stdout",
     "output_type": "stream",
     "text": [
      "['Zaubersäge', \"Rubik's Cube\", 'Wunderkekse', 'Trickkarten', 'leer']\n"
     ]
    }
   ],
   "source": [
    "shelf = [\"Zaubersäge\", \"leer\", \"Wunderkekse\", \"Trickkarten\", \"leer\"]\n",
    "\n",
    "def add_shelf(article):\n",
    "    for i in range(0, len(shelf)):\n",
    "        if shelf[i] == \"leer\":\n",
    "            shelf[i] = article\n",
    "            break\n",
    "    \n",
    "add_shelf(\"Rubik's Cube\")\n",
    "print(shelf)"
   ]
  },
  {
   "cell_type": "markdown",
   "metadata": {},
   "source": [
    "Folgende Ausgabe wird erwartet (braucht nicht farbig zu sein):\n",
    "\n",
    "```python\n",
    "['Zaubersäge', \"Rubik's Cube\", 'Wunderkekse', 'Trickkarten', 'leer']\n",
    "```"
   ]
  },
  {
   "cell_type": "markdown",
   "metadata": {},
   "source": [
    "### Gute Arbeit :-)"
   ]
  }
 ],
 "metadata": {
  "kernelspec": {
   "display_name": "Python 3 (ipykernel)",
   "language": "python",
   "name": "python3"
  },
  "language_info": {
   "codemirror_mode": {
    "name": "ipython",
    "version": 3
   },
   "file_extension": ".py",
   "mimetype": "text/x-python",
   "name": "python",
   "nbconvert_exporter": "python",
   "pygments_lexer": "ipython3",
   "version": "3.9.10"
  }
 },
 "nbformat": 4,
 "nbformat_minor": 2
}
