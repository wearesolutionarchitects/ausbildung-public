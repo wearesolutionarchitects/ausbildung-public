{
 "cells": [
  {
   "cell_type": "markdown",
   "metadata": {},
   "source": [
    "# Erste Schritte: Objektorientierung\n",
    "\n",
    "Objektorientierung ist ein unglaublich mächtiges Konzept, welches es uns ermöglicht, Code sauber zu organisieren."
   ]
  },
  {
   "cell_type": "markdown",
   "metadata": {},
   "source": [
    "Wir haben schon mit Objekten gearbeitet, z. B. mit dem Listen-Objekt von Python, auf das wir Methoden wie die append()-Methode angewendet haben."
   ]
  },
  {
   "cell_type": "code",
   "execution_count": 3,
   "metadata": {},
   "outputs": [
    {
     "name": "stdout",
     "output_type": "stream",
     "text": [
      "['Max', 'Monika', 'Erik']\n"
     ]
    }
   ],
   "source": [
    "students = [\"Max\", \"Monika\"]\n",
    "students.append(\"Erik\")\n",
    "\n",
    "print(students)"
   ]
  },
  {
   "cell_type": "markdown",
   "metadata": {},
   "source": [
    "### Eine Klasse definieren"
   ]
  },
  {
   "cell_type": "markdown",
   "metadata": {},
   "source": [
    "Wir wollen eigene Objekte mit eigenen Methoden erzeugen. Dafür brauchen wir Klassen, das sind Baupläne für Objekte. Die entsprechend dieser Anleitungen erzeugten Objekte nennt man Instanzen dieser Klasse:"
   ]
  },
  {
   "cell_type": "code",
   "execution_count": 2,
   "metadata": {
    "collapsed": true
   },
   "outputs": [],
   "source": [
    "# Wir definieren die Klasse Student mit der Methode name(),\n",
    "# Klassennamen beginnen gemäß Konvention mit Großbuchstaben\n",
    "\n",
    "class Student():\n",
    "    \n",
    "    # self ist ein Schlüsselwort, es fungiert gewissermassen \n",
    "    # als Platzhalter für die jeweilige Instanz\n",
    "    def name(self):\n",
    "        print(self.firstname + \" \" + self.lastname)"
   ]
  },
  {
   "cell_type": "markdown",
   "metadata": {},
   "source": [
    "### Eine Instanz erstellen"
   ]
  },
  {
   "cell_type": "markdown",
   "metadata": {},
   "source": [
    "Mittels dieser Klasse als Vorlage erstellen wir uns nun eine Student-Instanz und speichern sie in einer Variable:"
   ]
  },
  {
   "cell_type": "code",
   "execution_count": 8,
   "metadata": {
    "collapsed": true
   },
   "outputs": [],
   "source": [
    "erik = Student()"
   ]
  },
  {
   "cell_type": "code",
   "execution_count": 16,
   "metadata": {},
   "outputs": [
    {
     "name": "stdout",
     "output_type": "stream",
     "text": [
      "Monika\n",
      "Müller\n"
     ]
    }
   ],
   "source": [
    "monika = Student()\n",
    "monika.firstname = \"Monika\"\n",
    "monika.lastname =\"Müller\"\n",
    "\n",
    "print(monika.firstname)\n",
    "print(monika.lastname)"
   ]
  },
  {
   "cell_type": "markdown",
   "metadata": {},
   "source": [
    "### Die Methode eines Objektes benutzen\n",
    "Wie gewohnt funktioniert so auch der Zugriff auf die Methode des Objektes:"
   ]
  },
  {
   "cell_type": "code",
   "execution_count": 17,
   "metadata": {},
   "outputs": [
    {
     "name": "stdout",
     "output_type": "stream",
     "text": [
      "Erik Mustermann\n"
     ]
    }
   ],
   "source": [
    "erik.name()"
   ]
  },
  {
   "cell_type": "code",
   "execution_count": 19,
   "metadata": {},
   "outputs": [
    {
     "name": "stdout",
     "output_type": "stream",
     "text": [
      "Monika Müller\n"
     ]
    }
   ],
   "source": [
    "monika.name()"
   ]
  },
  {
   "cell_type": "markdown",
   "metadata": {},
   "source": [
    "Insbesondere kann es auch weitere Objekte mit einer Methode desselben Namens geben:"
   ]
  },
  {
   "cell_type": "code",
   "execution_count": 31,
   "metadata": {},
   "outputs": [
    {
     "name": "stdout",
     "output_type": "stream",
     "text": [
      "Max Müller: GmbH\n"
     ]
    }
   ],
   "source": [
    "class Company():\n",
    "    \n",
    "    def name(self):\n",
    "        print(self.legal_name + \": \" + self.legal_type)\n",
    "\n",
    "c = Company()\n",
    "c.legal_name = \"Max Müller\"\n",
    "c.legal_type = \"GmbH\"\n",
    "\n",
    "c.name()"
   ]
  },
  {
   "cell_type": "code",
   "execution_count": 32,
   "metadata": {
    "scrolled": true
   },
   "outputs": [
    {
     "name": "stdout",
     "output_type": "stream",
     "text": [
      "Max Müller: GmbH\n",
      "Max Müller: GmbH\n",
      "Max Müller: GmbH\n",
      "Max Müller: GmbH\n",
      "Max Müller: GmbH\n",
      "Erik Mustermann\n",
      "Erik Mustermann\n",
      "Erik Mustermann\n",
      "Erik Mustermann\n",
      "Erik Mustermann\n",
      "Monika Müller\n",
      "Monika Müller\n",
      "Monika Müller\n",
      "Monika Müller\n",
      "Monika Müller\n"
     ]
    }
   ],
   "source": [
    "def name_5x(v):\n",
    "    for i in range(0,5):\n",
    "         v.name() \n",
    "    \n",
    "name_5x(c)\n",
    "name_5x(erik)\n",
    "name_5x(monika)"
   ]
  },
  {
   "cell_type": "markdown",
   "metadata": {},
   "source": [
    "In der Funktion name_5x() wird jeweils die zum Objekt gehörige Methode name() ausgeführt. Dafür müssen die Objekte natürlich eine name()-Methode enthalten."
   ]
  },
  {
   "cell_type": "markdown",
   "metadata": {},
   "source": [
    "# Objektorientierung: Constructor, Eigenschaften abändern\n",
    "\n",
    "In den nächsten Abschnitten geht es darum, wie du: \n",
    "\n",
    "- mit Hilfe eines Constructors Eigenschaften einer Klasse definieren kannst\n",
    "- Eigenschaften einer Instanz abänderst."
   ]
  },
  {
   "cell_type": "markdown",
   "metadata": {},
   "source": [
    "Wir haben die bereits die Klasse Students ein wenig erweitert:"
   ]
  },
  {
   "cell_type": "code",
   "execution_count": 13,
   "metadata": {},
   "outputs": [
    {
     "name": "stdout",
     "output_type": "stream",
     "text": [
      "Erik Mustermann\n"
     ]
    }
   ],
   "source": [
    "class Student():\n",
    "    \n",
    "    # Das ist unser sogenannter Constructor: hier definieren \n",
    "    # wir die Variablen für die Klasse. \n",
    "    #\n",
    "    # self ist obligatorisch und bezieht sich immer auf das \n",
    "    # Objekt, das gerade angelegt wird.\n",
    "    #\n",
    "    # bei der Erzeugung der Instanz taucht self aber nicht\n",
    "    # als Parameter auf!\n",
    "    def __init__(self, firstname, lastname):\n",
    "        self.firstname = firstname\n",
    "        self.lastname = lastname\n",
    "    \n",
    "    def name(self):\n",
    "        print(self.firstname + \" \" + self.lastname)\n",
    "\n",
    "erik = Student(\"Erik\", \"Mustermann\")\n",
    "erik.name()"
   ]
  },
  {
   "cell_type": "markdown",
   "metadata": {},
   "source": [
    "Die Klassendefinition mit Constructor liefert also dieselben Ergebnisse wie die vorherige umständlichere Definition."
   ]
  },
  {
   "cell_type": "markdown",
   "metadata": {},
   "source": [
    "Wir ergänzen eine weitere Methode:"
   ]
  },
  {
   "cell_type": "code",
   "execution_count": 1,
   "metadata": {
    "collapsed": true
   },
   "outputs": [],
   "source": [
    "class Student():\n",
    "    \n",
    "    def __init__(self, firstname, lastname):\n",
    "        self.firstname = firstname\n",
    "        self.lastname = lastname\n",
    "        # Hier initialisieren wir die neue Variable term (Eigenschaft)\n",
    "        self.term = 1\n",
    "        \n",
    "         # Mit dieser Methode erhöhen wir die Variable term um 1\n",
    "    def increase_term(self):\n",
    "        self.term = self.term + 1\n",
    "    \n",
    "        # name() gibt nunmehr zusätzlich die Anzahl der Semester aus\n",
    "    def name(self):\n",
    "        print(self.firstname + \" \" + self.lastname + \n",
    "              \" (Semester: \" + str(self.term) + \")\")\n",
    "        "
   ]
  },
  {
   "cell_type": "code",
   "execution_count": 19,
   "metadata": {},
   "outputs": [
    {
     "name": "stdout",
     "output_type": "stream",
     "text": [
      "Erik Mustermann (Semester: 1)\n"
     ]
    }
   ],
   "source": [
    "erik = Student(\"Erik\", \"Mustermann\")\n",
    "erik.name()"
   ]
  },
  {
   "cell_type": "code",
   "execution_count": 20,
   "metadata": {
    "scrolled": true
   },
   "outputs": [
    {
     "name": "stdout",
     "output_type": "stream",
     "text": [
      "Erik Mustermann (Semester: 2)\n"
     ]
    }
   ],
   "source": [
    "erik.increase_term()\n",
    "erik.name()"
   ]
  },
  {
   "cell_type": "markdown",
   "metadata": {},
   "source": [
    "## Objektorientierung: Private Eigenschaften und Methoden\n",
    "\n",
    "Private Eigenschaften erlauben sauberes Kapseln von Eigenschaften und Methoden. Dadurch können wir Variablen und Methoden quasi vor \"neugierigen Blicken\" von außerhalb \"schützen\" - sehr wichtig, wenn wir später die Möglichkeit haben möchten, diese Variablen / Methoden noch anzupassen. Das geht nur, wenn unser Kollege von seinem Code aus darauf  nicht zugreift:"
   ]
  },
  {
   "cell_type": "code",
   "execution_count": 16,
   "metadata": {},
   "outputs": [
    {
     "name": "stdout",
     "output_type": "stream",
     "text": [
      "Erik Mustermann (Semester: 2)\n"
     ]
    }
   ],
   "source": [
    "class Student():\n",
    "    \n",
    "    def __init__(self, firstname, lastname):\n",
    "        self.firstname = firstname\n",
    "        self.lastname = lastname\n",
    "        self.term = 1\n",
    "        \n",
    "    # Bei dieser Methode schränken wir ein, dass man \n",
    "    # nicht mehr als 9 Semester erreichen            \n",
    "    def increase_term(self):\n",
    "        if self.term >= 9:\n",
    "            return\n",
    "        self.term = self.term + 1\n",
    "        \n",
    "    def get_term(self):\n",
    "        return self.term\n",
    "    \n",
    "    def name(self):\n",
    "        print(self.firstname + \" \" + self.lastname + \n",
    "              \" (Semester: \" + str(self.term) + \")\")\n",
    "        \n",
    "        \n",
    "erik = Student(\"Erik\", \"Mustermann\")\n",
    "erik.increase_term()\n",
    "erik.name()\n"
   ]
  },
  {
   "cell_type": "code",
   "execution_count": 17,
   "metadata": {},
   "outputs": [
    {
     "name": "stdout",
     "output_type": "stream",
     "text": [
      "Erik Mustermann (Semester: 9)\n"
     ]
    }
   ],
   "source": [
    "erik.increase_term()\n",
    "erik.increase_term()\n",
    "erik.increase_term()\n",
    "erik.increase_term()\n",
    "erik.increase_term()\n",
    "erik.increase_term()\n",
    "erik.increase_term()\n",
    "erik.increase_term()\n",
    "erik.increase_term()\n",
    "erik.increase_term()\n",
    "erik.name()\n"
   ]
  },
  {
   "cell_type": "markdown",
   "metadata": {},
   "source": [
    "Trotzdem können wir von außen noch auf die Eigenschaft zugreifen und sie überschreiben:"
   ]
  },
  {
   "cell_type": "code",
   "execution_count": 19,
   "metadata": {},
   "outputs": [
    {
     "name": "stdout",
     "output_type": "stream",
     "text": [
      "Erik Mustermann (Semester: 100)\n"
     ]
    }
   ],
   "source": [
    "erik.term = 100\n",
    "erik.name()"
   ]
  },
  {
   "cell_type": "markdown",
   "metadata": {},
   "source": [
    "Wenn wir allerings zwei Unterstriche vor die Variable setzen, machen wir sie **privat**.\n",
    "\n",
    "In Python gibt es auch die Konvention seitens der Programmierer, private Eigenschaften mit einem Unterstrich zu benennen, auch wenn sie dann technisch noch nicht privat sind. Dafür braucht es wirklich zwei Unterstriche zu Beginn ihres Namens:"
   ]
  },
  {
   "cell_type": "code",
   "execution_count": 3,
   "metadata": {
    "collapsed": true
   },
   "outputs": [],
   "source": [
    "class Student():\n",
    "    \n",
    "    def __init__(self, firstname, lastname):\n",
    "        self.firstname = firstname\n",
    "        self.lastname = lastname\n",
    "        self.__term = 1\n",
    "        \n",
    "    def increase_term(self):\n",
    "        if self.__term >= 9:\n",
    "            return\n",
    "        self.__term = self.__term + 1\n",
    "     \n",
    "    # Die Methode ergänzen wir, um von außerhalb der Klasse \n",
    "    # noch die term-Eigenschaft abfragen zu können\n",
    "    def get_term(self):\n",
    "        return self.__term\n",
    "    \n",
    "    def name(self):\n",
    "        print(self.firstname + \" \" + self.lastname + \n",
    "              \" (Semester: \" + str(self.__term) + \")\")"
   ]
  },
  {
   "cell_type": "code",
   "execution_count": 5,
   "metadata": {},
   "outputs": [
    {
     "ename": "AttributeError",
     "evalue": "'Student' object has no attribute '__term'",
     "output_type": "error",
     "traceback": [
      "\u001b[0;31m---------------------------------------------------------------------------\u001b[0m",
      "\u001b[0;31mAttributeError\u001b[0m                            Traceback (most recent call last)",
      "\u001b[0;32m<ipython-input-5-6f05b6d74b22>\u001b[0m in \u001b[0;36m<module>\u001b[0;34m()\u001b[0m\n\u001b[1;32m      6\u001b[0m \u001b[0;31m# daher können wir so nicht auf das Attribut zugreifen:\u001b[0m\u001b[0;34m\u001b[0m\u001b[0;34m\u001b[0m\u001b[0m\n\u001b[1;32m      7\u001b[0m \u001b[0;34m\u001b[0m\u001b[0m\n\u001b[0;32m----> 8\u001b[0;31m \u001b[0mprint\u001b[0m\u001b[0;34m(\u001b[0m\u001b[0merik\u001b[0m\u001b[0;34m.\u001b[0m\u001b[0m__term\u001b[0m\u001b[0;34m)\u001b[0m\u001b[0;34m\u001b[0m\u001b[0m\n\u001b[0m",
      "\u001b[0;31mAttributeError\u001b[0m: 'Student' object has no attribute '__term'"
     ]
    }
   ],
   "source": [
    "erik = Student(\"Erik\", \"Mustermann\")\n",
    "# Punkt in Verbindung mit Unterstrich ist dabei als \n",
    "# Warnung zu verstehen - unbedingt vermeiden!\n",
    "\n",
    "# Zwei Unterschtriche (wie hier) ist aber komplett \"privat\",\n",
    "# daher können wir so nicht auf das Attribut zugreifen:\n",
    "\n",
    "print(erik.__term)"
   ]
  },
  {
   "cell_type": "markdown",
   "metadata": {},
   "source": [
    "Auch den Zugriff auf Methoden können wir einschränken:"
   ]
  },
  {
   "cell_type": "code",
   "execution_count": 31,
   "metadata": {
    "collapsed": true
   },
   "outputs": [],
   "source": [
    "class Student():\n",
    "    \n",
    "    def __init__(self, firstname, lastname):\n",
    "        self.firstname = firstname\n",
    "        self.lastname = lastname\n",
    "        self.__term = 1\n",
    "        \n",
    "    def increase_term(self):\n",
    "        if self.__term >= 9:\n",
    "            return\n",
    "        self.__term = self.__term + 1\n",
    "\n",
    "    def get_term(self):\n",
    "        return self.__term\n",
    "    \n",
    "    def name(self):\n",
    "        print(self.firstname + \" \" + self.lastname + \n",
    "              \" (Semester: \" + str(self.__term) + \")\")\n",
    "        \n",
    "    # Unserer private Funktion    \n",
    "    def __do_something(self):\n",
    "        print(\"doSomething\")"
   ]
  },
  {
   "cell_type": "code",
   "execution_count": 34,
   "metadata": {
    "scrolled": true
   },
   "outputs": [
    {
     "name": "stdout",
     "output_type": "stream",
     "text": [
      "Tim Test (Semester: 1)\n"
     ]
    },
    {
     "ename": "AttributeError",
     "evalue": "'Student' object has no attribute '__do_something'",
     "output_type": "error",
     "traceback": [
      "\u001b[0;31m---------------------------------------------------------------------------\u001b[0m",
      "\u001b[0;31mAttributeError\u001b[0m                            Traceback (most recent call last)",
      "\u001b[0;32m<ipython-input-34-68818f291adb>\u001b[0m in \u001b[0;36m<module>\u001b[0;34m()\u001b[0m\n\u001b[1;32m      1\u001b[0m \u001b[0mtest\u001b[0m \u001b[1;33m=\u001b[0m \u001b[0mStudent\u001b[0m\u001b[1;33m(\u001b[0m\u001b[1;34m\"Tim\"\u001b[0m\u001b[1;33m,\u001b[0m \u001b[1;34m\"Test\"\u001b[0m\u001b[1;33m)\u001b[0m\u001b[1;33m\u001b[0m\u001b[0m\n\u001b[1;32m      2\u001b[0m \u001b[0mtest\u001b[0m\u001b[1;33m.\u001b[0m\u001b[0mname\u001b[0m\u001b[1;33m(\u001b[0m\u001b[1;33m)\u001b[0m\u001b[1;33m\u001b[0m\u001b[0m\n\u001b[0;32m----> 3\u001b[0;31m \u001b[0mtest\u001b[0m\u001b[1;33m.\u001b[0m\u001b[0m__do_something\u001b[0m\u001b[1;33m(\u001b[0m\u001b[1;33m)\u001b[0m\u001b[1;33m\u001b[0m\u001b[0m\n\u001b[0m",
      "\u001b[0;31mAttributeError\u001b[0m: 'Student' object has no attribute '__do_something'"
     ]
    }
   ],
   "source": [
    "test = Student(\"Tim\", \"Test\")\n",
    "test.name()\n",
    "test.__do_something()"
   ]
  },
  {
   "cell_type": "markdown",
   "metadata": {},
   "source": [
    "## In Python gibt es ein paar besondere Methoden, die unsere Klasse implementieren kann...\n",
    "\n",
    "Damit kannst du dafür sorgen, dass:\n",
    "\n",
    "- deine Klasse direkt ausgegeben werden kann\n",
    "- du len(variable) berechnen kannst."
   ]
  },
  {
   "cell_type": "markdown",
   "metadata": {},
   "source": [
    "Die str-Funktion"
   ]
  },
  {
   "cell_type": "code",
   "execution_count": 5,
   "metadata": {},
   "outputs": [
    {
     "name": "stdout",
     "output_type": "stream",
     "text": [
      "PhoneBook({'Mustermann': '+4912345678', 'Müller': '+49123456789'})\n"
     ]
    }
   ],
   "source": [
    "class PhoneBook():\n",
    "    def __init__(self):\n",
    "        self.__entries = {}\n",
    "        \n",
    "    def add(self, name, phone_number):\n",
    "        self.__entries[name] = phone_number\n",
    "        \n",
    "    def get(self, name):\n",
    "        if name in self.__entries:\n",
    "            return self.__entries[name]\n",
    "        else:\n",
    "            return None\n",
    "    \n",
    "    def __str__(self):\n",
    "        return \"PhoneBook(\" + str(self.__entries) + \")\"\n",
    "    \n",
    "book = PhoneBook()\n",
    "book.add(\"Mustermann\", \"+4912345678\")\n",
    "book.add(\"Müller\", \"+49123456789\")\n",
    "\n",
    "print(book)"
   ]
  },
  {
   "cell_type": "markdown",
   "metadata": {},
   "source": [
    "Die repr-Methode"
   ]
  },
  {
   "cell_type": "code",
   "execution_count": 12,
   "metadata": {},
   "outputs": [
    {
     "name": "stdout",
     "output_type": "stream",
     "text": [
      "PhoneBook({'Mustermann': '+4912345678', 'Müller': '+49123456789'})\n"
     ]
    }
   ],
   "source": [
    "class PhoneBook():\n",
    "    def __init__(self):\n",
    "        self.__entries = {}\n",
    "        \n",
    "    def add(self, name, phone_number):\n",
    "        self.__entries[name] = phone_number\n",
    "        \n",
    "    def get(self, name):\n",
    "        if name in self.__entries:\n",
    "            return self.__entries[name]\n",
    "        else:\n",
    "            return None\n",
    "    \n",
    "    def __str__(self):\n",
    "        return \"PhoneBook(\" + str(self.__entries) + \")\"\n",
    "    \n",
    "    def __repr__(self):\n",
    "        return self.__str__()\n",
    "\n",
    "        \n",
    "book = PhoneBook()\n",
    "book.add(\"Mustermann\", \"+4912345678\")\n",
    "book.add(\"Müller\", \"+49123456789\")\n",
    "\n",
    "print(book)"
   ]
  },
  {
   "cell_type": "markdown",
   "metadata": {},
   "source": [
    "Die len-Methode"
   ]
  },
  {
   "cell_type": "code",
   "execution_count": 13,
   "metadata": {},
   "outputs": [
    {
     "name": "stdout",
     "output_type": "stream",
     "text": [
      "2\n"
     ]
    }
   ],
   "source": [
    "class PhoneBook():\n",
    "    def __init__(self):\n",
    "        self.__entries = {}\n",
    "        \n",
    "    def add(self, name, phone_number):\n",
    "        self.__entries[name] = phone_number\n",
    "        \n",
    "    def get(self, name):\n",
    "        if name in self.__entries:\n",
    "            return self.__entries[name]\n",
    "        else:\n",
    "            return None\n",
    "    \n",
    "    def __len__(self):\n",
    "        return len(self.__entries)\n",
    "\n",
    "        \n",
    "book = PhoneBook()\n",
    "book.add(\"Mustermann\", \"+4912345678\")\n",
    "book.add(\"Müller\", \"+49123456789\")\n",
    "\n",
    "print(len(book))"
   ]
  },
  {
   "cell_type": "markdown",
   "metadata": {},
   "source": [
    "# Vererbung\n",
    "\n",
    "Vererbung ist ein fundamentales Konzept der Objektorientierung, mit dem du Daten aufteilen und besser modellieren kannst."
   ]
  },
  {
   "cell_type": "markdown",
   "metadata": {},
   "source": [
    "Die Klasse Student kennen wir schon:"
   ]
  },
  {
   "cell_type": "code",
   "execution_count": 4,
   "metadata": {
    "collapsed": true
   },
   "outputs": [],
   "source": [
    "class Student():\n",
    "    def __init__(self, firstname, surname):\n",
    "        self.firstname = firstname\n",
    "        self.surname = surname\n",
    "\n",
    "    def name(self):\n",
    "        return self.firstname + \" \" + self.surname"
   ]
  },
  {
   "cell_type": "code",
   "execution_count": 7,
   "metadata": {},
   "outputs": [
    {
     "name": "stdout",
     "output_type": "stream",
     "text": [
      "Monika Mustermann\n"
     ]
    }
   ],
   "source": [
    "student = Student(\"Monika\", \"Mustermann\")\n",
    "print(student.name())"
   ]
  },
  {
   "cell_type": "markdown",
   "metadata": {},
   "source": [
    "Wir wollen eine weitere Klasse definieren, die Ähnlichkeiten zu einer bereits bestehenden Klasse aufweist:"
   ]
  },
  {
   "cell_type": "code",
   "execution_count": 29,
   "metadata": {
    "collapsed": true
   },
   "outputs": [],
   "source": [
    "class WorkingStudent():\n",
    "    \n",
    "    def __init__(self, firstname, surname, company):\n",
    "        self.firstname = firstname\n",
    "        self.surname = surname\n",
    "        self.company = company\n",
    "    \n",
    "    def name(self):\n",
    "        return self.firstname + \" \" + self.surname\n",
    "        "
   ]
  },
  {
   "cell_type": "code",
   "execution_count": 30,
   "metadata": {},
   "outputs": [
    {
     "name": "stdout",
     "output_type": "stream",
     "text": [
      "Max Müller\n"
     ]
    }
   ],
   "source": [
    "student = WorkingStudent(\"Max\", \"Müller\", \"ABCDEF GmbH\")\n",
    "print(student.name())"
   ]
  },
  {
   "cell_type": "markdown",
   "metadata": {},
   "source": [
    "### Eine Klasse mit Vererbung definieren\n",
    "\n",
    "Wir können uns sparen, gleiche Instanzvariablen und Methoden ein weiteres Mal zu definieren - dank Vererbung. Dazu verweisen wir innerhalb einer Klassendefinition auf eine andere:"
   ]
  },
  {
   "cell_type": "code",
   "execution_count": 44,
   "metadata": {
    "collapsed": true
   },
   "outputs": [],
   "source": [
    "# Als Parameter übergeben wir die Klasse, von der unsere neue Eigenschaften und Methoden vererbt werden soll (Mutterklasse)\n",
    "class WorkingStudent(Student):\n",
    "    \n",
    "    def __init__(self, firstname, surname, company):\n",
    "        # Die alten Instanzvariablendefinitionen werden unten hinfällig\n",
    "        # self.firstname = firstname\n",
    "        # self.surname = surname\n",
    "        \n",
    "        # mit super() zeigen wir Python an, dass die init()-Methode der Mutterklasse angewendet werden soll\n",
    "        super().__init__(firstname, surname)\n",
    "        self.company = company\n",
    "    \n",
    "    def name(self):\n",
    "        # wieder verweisen wir mit super() auf die Methode der Mutterklasse, die wir für die Klasse WorkingStudent überschreiben\n",
    "        return super().name() + \" (\" + self.company + \")\""
   ]
  },
  {
   "cell_type": "code",
   "execution_count": 39,
   "metadata": {},
   "outputs": [
    {
     "name": "stdout",
     "output_type": "stream",
     "text": [
      "Max Müller (ABCDEF GmbH)\n"
     ]
    }
   ],
   "source": [
    "student = WorkingStudent(\"Max\", \"Müller\", \"ABCDEF GmbH\")\n",
    "print(student.name())"
   ]
  },
  {
   "cell_type": "code",
   "execution_count": 43,
   "metadata": {
    "scrolled": true
   },
   "outputs": [
    {
     "name": "stdout",
     "output_type": "stream",
     "text": [
      "Max Müller (ABCDEF GmbH)\n",
      "Monika Mustermann\n",
      "Erik Müller\n",
      "Franziska Mustermann (XYZXYZ GmbH)\n"
     ]
    }
   ],
   "source": [
    "students = [\n",
    "    WorkingStudent(\"Max\", \"Müller\", \"ABCDEF GmbH\"),\n",
    "    Student(\"Monika\", \"Mustermann\"),\n",
    "    Student(\"Erik\", \"Müller\"),\n",
    "    WorkingStudent(\"Franziska\", \"Mustermann\", \"XYZXYZ GmbH\")\n",
    "]\n",
    "\n",
    "for student in students:\n",
    "    print(student.name())"
   ]
  },
  {
   "cell_type": "markdown",
   "metadata": {},
   "source": [
    "Hier sehen wir, dass die verschiedenen name()-Methoden verschiedene Ausgaben liefern, obwohl wir mit demselben Namen auf sie zugreifen."
   ]
  },
  {
   "cell_type": "markdown",
   "metadata": {},
   "source": [
    "# Typen von Variablen prüfen - die type() und isinstance() Funktionen"
   ]
  },
  {
   "cell_type": "markdown",
   "metadata": {},
   "source": [
    "Wir benutzen für die Beispiele wieder die bekannten Student und WorkingStudent-Klassen:"
   ]
  },
  {
   "cell_type": "code",
   "execution_count": 3,
   "metadata": {
    "collapsed": true
   },
   "outputs": [],
   "source": [
    "class Student():\n",
    "    def __init__(self, firstname, surname):\n",
    "        self.firstname = firstname\n",
    "        self.surname = surname\n",
    "\n",
    "    def name(self):\n",
    "        return self.firstname + \" \" + self.surname\n",
    "        \n",
    "class WorkingStudent(Student):\n",
    "    def __init__(self, firstname, surname, company):\n",
    "        super().__init__(firstname, surname)\n",
    "        self.company = company\n",
    "        \n",
    "    def name(self):\n",
    "        return super().name() + \" (\" + self.company + \")\""
   ]
  },
  {
   "cell_type": "code",
   "execution_count": 4,
   "metadata": {
    "collapsed": true
   },
   "outputs": [],
   "source": [
    "w_student = WorkingStudent(\"Max\", \"Müller\", \"ABCDEF GmbH\")\n",
    "student = Student(\"Monika\", \"Mustermann\")"
   ]
  },
  {
   "cell_type": "markdown",
   "metadata": {},
   "source": [
    "### Den Typ überprüfen mit type()\n",
    "Mit der **type()**-Funktion können wir den Typ eines Objektes feststellen: "
   ]
  },
  {
   "cell_type": "code",
   "execution_count": 13,
   "metadata": {},
   "outputs": [
    {
     "name": "stdout",
     "output_type": "stream",
     "text": [
      "<class '__main__.WorkingStudent'>\n",
      "<class '__main__.Student'>\n"
     ]
    }
   ],
   "source": [
    "print(type(w_student))\n",
    "print(type(student))"
   ]
  },
  {
   "cell_type": "code",
   "execution_count": 16,
   "metadata": {},
   "outputs": [
    {
     "name": "stdout",
     "output_type": "stream",
     "text": [
      "Hier hingegen steht ein richtiger Student\n"
     ]
    }
   ],
   "source": [
    "if type(w_student) == Student:\n",
    "    print(\"Diese Zeile wird nur für einen Student ausgegeben\")\n",
    "\n",
    "if type(student) == Student:\n",
    "    print(\"Hier hingegen steht ein richtiger Student\")"
   ]
  },
  {
   "cell_type": "markdown",
   "metadata": {},
   "source": [
    "### Checken, ob es sich um eine Instanz handelt mit isinstance()\n",
    "\n",
    "Die Funktion **isinstance()** erhält zwei Parameter: die Variable und die Klasse bezüglich derer auf Zugehörigkeit der Variable geprüft werden soll. isinstance() liefert einen Bool zurück."
   ]
  },
  {
   "cell_type": "code",
   "execution_count": 19,
   "metadata": {},
   "outputs": [
    {
     "name": "stdout",
     "output_type": "stream",
     "text": [
      "True\n",
      "True\n",
      "False\n",
      "True\n"
     ]
    }
   ],
   "source": [
    "print(isinstance(w_student, WorkingStudent))\n",
    "print(isinstance(w_student, Student))\n",
    "\n",
    "print(isinstance(student, WorkingStudent))\n",
    "print(isinstance(student, Student))"
   ]
  },
  {
   "cell_type": "markdown",
   "metadata": {},
   "source": [
    "Da Student die Mutterklasse von  WorkingStudent ist, ist w_student auch bezüglich Student eine Instanz."
   ]
  },
  {
   "cell_type": "markdown",
   "metadata": {},
   "source": [
    "Nützlich wird die Funktion, wenn wir nach Klassen filtern wollen, z. B. nur Instanzen von WorkingStudent ausgeben:"
   ]
  },
  {
   "cell_type": "code",
   "execution_count": 24,
   "metadata": {},
   "outputs": [
    {
     "name": "stdout",
     "output_type": "stream",
     "text": [
      "Max Müller (ABCDEF GmbH)\n",
      "Franziska Mustermann (XYZXYZ GmbH)\n"
     ]
    }
   ],
   "source": [
    "students = [\n",
    "    WorkingStudent(\"Max\", \"Müller\", \"ABCDEF GmbH\"),\n",
    "    Student(\"Monika\", \"Mustermann\"),\n",
    "    Student(\"Erik\", \"Müller\"),\n",
    "    WorkingStudent(\"Franziska\", \"Mustermann\", \"XYZXYZ GmbH\")\n",
    "]\n",
    "\n",
    "for student in students:\n",
    "    ## alternativ: \n",
    "    ## if isinstance(student, WorkingStudent):\n",
    "    if type(student) == WorkingStudent:\n",
    "        print(student.name())"
   ]
  },
  {
   "cell_type": "markdown",
   "metadata": {},
   "source": [
    "## Styleguide - Benennung von Klassen und Variablen\n",
    "\n",
    "Grundsätzlich ist es in Python egal, wie wir eine Klasse / Variable benennen. Unser Programm wird so oder so funktionieren.\n",
    "\n",
    "**Aber:** Für Python gibt es ein paar Style - Guides, wie wir \"schönen\" Code schreiben können. Da möchte ich in diesem Abschnitt die wichtigsten Punkte von durchgehen (https://www.python.org/dev/peps/pep-0008/).\n",
    "\n",
    "Wie können (sollten) wir Variablen / Klassen / Funktionen überhaupt benennen, insbesondere wenn die Namen aus mehreren Wörtern bestehen sollen?\n",
    "\n",
    "In Python verwendet man dazu nach Konvention:\n",
    "\n",
    "- PascalCase (`IchBesteheAusMehrerenWoertern`)\n",
    "- sneak_case (`ich_bestehe_aus_mehreren_woertern`)\n",
    "\n",
    "Anders als in anderen Programmiersprachen benutzt man nicht:\n",
    "\n",
    "- camelCase (`ichBesteheAusMehrerenWoertern`)"
   ]
  },
  {
   "cell_type": "code",
   "execution_count": 3,
   "metadata": {},
   "outputs": [
    {
     "name": "stdout",
     "output_type": "stream",
     "text": [
      "TEST\n",
      "<__main__.IchBesteheAusMehrerenWoertern object at 0x04E82E10>\n"
     ]
    }
   ],
   "source": [
    "# Klassennamen in PascalCase\n",
    "# Das Beispiel ist aber zu lange ;-)\n",
    "class IchBesteheAusMehrerenWoertern():\n",
    "    def __init__(self):\n",
    "        print(\"TEST\")\n",
    "    \n",
    "    # Funktionsname in sneak_case\n",
    "    def ich_bin_eine_funktion(self):\n",
    "        print(\"asdf\")\n",
    "\n",
    "# Variablennamen auch in sneak_case; aber höchstens drei Wörter ;-)\n",
    "ich_bestehe_aus_mehreren_woertern = IchBesteheAusMehrerenWoertern()\n",
    "\n",
    "print(ich_bestehe_aus_mehreren_woertern)"
   ]
  },
  {
   "cell_type": "code",
   "execution_count": null,
   "metadata": {
    "collapsed": true
   },
   "outputs": [],
   "source": []
  }
 ],
 "metadata": {
  "kernelspec": {
   "display_name": "Python 3",
   "language": "python",
   "name": "python3"
  },
  "language_info": {
   "codemirror_mode": {
    "name": "ipython",
    "version": 3
   },
   "file_extension": ".py",
   "mimetype": "text/x-python",
   "name": "python",
   "nbconvert_exporter": "python",
   "pygments_lexer": "ipython3",
   "version": "3.7.6"
  }
 },
 "nbformat": 4,
 "nbformat_minor": 2
}
