{
 "cells": [
  {
   "cell_type": "markdown",
   "metadata": {},
   "source": [
    "## Aufgabe: Vererbung\n",
    "\n",
    "#### Aufgabe 1:\n",
    "\n",
    "Vervollständige die Klasse \"FileReader\" so, dass bei Aufruf der lines() - Methode die Datei Zeile für Zeile eingelesen wird. Die lines() - Methode soll dann eine Liste der Zeilen in der Datei zurückgeben.\n",
    "\n",
    "#### Aufgabe 2:\n",
    "\n",
    "Erstelle die Klasse \"CsvReader\", sodass der \"FileReader\" erweitert wird. Bei Aufruf der lines() soll die Datei als .csv-Datei eingelesen werden, sprich, es soll eine mehrdimensionale Liste zurückgegeben werden. \n",
    "\n",
    "**Wichtig:** Überlass' das Einlesen der Datei dem \"FileReader\" und erweitere die lines() - Methode im Csv-Reader um die Funktionalität, die benötigt wird, damit die mehrdimensionale Liste zurückgegeben wird! "
   ]
  },
  {
   "cell_type": "code",
   "execution_count": 1,
   "metadata": {
    "collapsed": true
   },
   "outputs": [],
   "source": [
    "class FileReader():\n",
    "    def __init__(self, filename):\n",
    "        self.filename = filename\n",
    "    \n",
    "    def lines(self):\n",
    "        lines = []\n",
    "        with open(self.filename, \"r\") as file:\n",
    "            for line in file:\n",
    "                lines.append(line.strip())\n",
    "        return lines\n",
    "\n",
    "class CsvReader(FileReader):\n",
    "    def __init__(self, filename):\n",
    "        super().__init__(filename)\n",
    "    \n",
    "    def lines(self):\n",
    "        lines = super().lines()\n",
    "        \n",
    "        return [line.split(\",\") for line in lines]\n",
    "        #lines_splitted = []\n",
    "        #for line in lines:\n",
    "        #    lines_splitted.append(line.split(\",\"))\n",
    "        #return lines_splitted"
   ]
  },
  {
   "cell_type": "code",
   "execution_count": 2,
   "metadata": {},
   "outputs": [
    {
     "name": "stdout",
     "output_type": "stream",
     "text": [
      "['Nachname,Vorname', 'Mustermann,Max', 'Mueller,Monika']\n"
     ]
    }
   ],
   "source": [
    "f = FileReader(\"./datei.csv\")\n",
    "print(f.lines())\n",
    "\n",
    "# Hier soll ausgegeben werden:\n",
    "# [\"Nachname,Vorname\", \"Mustermann,Max\", \"Mueller,Monika\"]"
   ]
  },
  {
   "cell_type": "code",
   "execution_count": 3,
   "metadata": {},
   "outputs": [
    {
     "name": "stdout",
     "output_type": "stream",
     "text": [
      "[['Nachname', 'Vorname'], ['Mustermann', 'Max'], ['Mueller', 'Monika']]\n"
     ]
    }
   ],
   "source": [
    "f = CsvReader(\"./datei.csv\")\n",
    "print(f.lines())\n",
    "\n",
    "# Hier soll ausgegeben werden:\n",
    "# [[\"Nachname\", \"Vorname\"], [\"Mustermann\", \"Max\"], [\"Mueller\", \"Monika\"]]"
   ]
  },
  {
   "cell_type": "code",
   "execution_count": null,
   "metadata": {
    "collapsed": true
   },
   "outputs": [],
   "source": []
  }
 ],
 "metadata": {
  "kernelspec": {
   "display_name": "Python 3",
   "language": "python",
   "name": "python3"
  },
  "language_info": {
   "codemirror_mode": {
    "name": "ipython",
    "version": 3
   },
   "file_extension": ".py",
   "mimetype": "text/x-python",
   "name": "python",
   "nbconvert_exporter": "python",
   "pygments_lexer": "ipython3",
   "version": "3.6.3"
  }
 },
 "nbformat": 4,
 "nbformat_minor": 2
}
