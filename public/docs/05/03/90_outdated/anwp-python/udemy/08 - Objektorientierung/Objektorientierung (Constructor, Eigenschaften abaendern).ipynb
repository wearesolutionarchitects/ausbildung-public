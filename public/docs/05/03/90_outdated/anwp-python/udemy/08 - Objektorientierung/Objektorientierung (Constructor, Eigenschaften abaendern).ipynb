{
 "cells": [
  {
   "cell_type": "markdown",
   "metadata": {},
   "source": [
    "# Objektorientierung: Constructor, Eigenschaften abändern\n",
    "\n",
    "In dieser Lektion lernst du, wie du:\n",
    "\n",
    "- mit Hilfe eines Constructors Eigenschaften einer Klasse definieren kannst\n",
    "- Eigenschaften einer Instanz abänderst."
   ]
  },
  {
   "cell_type": "markdown",
   "metadata": {},
   "source": [
    "Wir haben die bereits die Klasse Students ein wenig erweitert:"
   ]
  },
  {
   "cell_type": "code",
   "execution_count": 13,
   "metadata": {},
   "outputs": [
    {
     "name": "stdout",
     "output_type": "stream",
     "text": [
      "Erik Mustermann\n"
     ]
    }
   ],
   "source": [
    "class Student():\n",
    "    \n",
    "    # Das ist unser sogenannter Constructor: hier definieren wir die Variablen für die Klasse\n",
    "    # self ist obligatorisch und bezieht sich immer auf das Objekt, das gerade angelegt wird\n",
    "    # bei der Erzeugung der Instanz taucht self aber nicht als Parameter auf!\n",
    "    def __init__(self, firstname, lastname):\n",
    "        self.firstname = firstname\n",
    "        self.lastname = lastname\n",
    "    \n",
    "    def name(self):\n",
    "        print(self.firstname + \" \" + self.lastname)\n",
    "\n",
    "erik = Student(\"Erik\", \"Mustermann\")\n",
    "erik.name()"
   ]
  },
  {
   "cell_type": "markdown",
   "metadata": {},
   "source": [
    "Die Klassendefinition mit Constructor liefert also dieselben Ergebnisse wie die vorherige, umständlichere Definition."
   ]
  },
  {
   "cell_type": "markdown",
   "metadata": {},
   "source": [
    "Wir ergänzen eine weitere Methode:"
   ]
  },
  {
   "cell_type": "code",
   "execution_count": 17,
   "metadata": {
    "collapsed": true
   },
   "outputs": [],
   "source": [
    "class Student():\n",
    "    \n",
    "    def __init__(self, firstname, lastname):\n",
    "        self.firstname = firstname\n",
    "        self.lastname = lastname\n",
    "        # Hier initialisieren wir die neue Variable term (Eigenschaft)\n",
    "        self.term = 1\n",
    "        \n",
    "         # Mit dieser Methode erhöhen wir die Variable term um 1\n",
    "    def increase_term(self):\n",
    "        self.term = self.term + 1\n",
    "    \n",
    "        # name() gibt nunmehr zusätzlich die Anzahl der Semester aus\n",
    "    def name(self):\n",
    "        print(self.firstname + \" \" + self.lastname + \" (Semester: \" + str(self.term) + \")\")\n",
    "        "
   ]
  },
  {
   "cell_type": "code",
   "execution_count": 19,
   "metadata": {},
   "outputs": [
    {
     "name": "stdout",
     "output_type": "stream",
     "text": [
      "Erik Mustermann (Semester: 1)\n"
     ]
    }
   ],
   "source": [
    "erik = Student(\"Erik\", \"Mustermann\")\n",
    "erik.name()"
   ]
  },
  {
   "cell_type": "code",
   "execution_count": 20,
   "metadata": {},
   "outputs": [
    {
     "name": "stdout",
     "output_type": "stream",
     "text": [
      "Erik Mustermann (Semester: 2)\n"
     ]
    }
   ],
   "source": [
    "erik.increase_term()\n",
    "erik.name()"
   ]
  }
 ],
 "metadata": {
  "kernelspec": {
   "display_name": "Python 3",
   "language": "python",
   "name": "python3"
  },
  "language_info": {
   "codemirror_mode": {
    "name": "ipython",
    "version": 3
   },
   "file_extension": ".py",
   "mimetype": "text/x-python",
   "name": "python",
   "nbconvert_exporter": "python",
   "pygments_lexer": "ipython3",
   "version": "3.6.3"
  }
 },
 "nbformat": 4,
 "nbformat_minor": 2
}
