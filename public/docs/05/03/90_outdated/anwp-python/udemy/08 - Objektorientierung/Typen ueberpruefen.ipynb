{
 "cells": [
  {
   "cell_type": "markdown",
   "metadata": {},
   "source": [
    "# Typen von Variablen prüfen - die type() und isinstance() Funktionen"
   ]
  },
  {
   "cell_type": "markdown",
   "metadata": {},
   "source": [
    "Wir benutzen für die Beispiele wieder die bekannten Student und WorkingStudent-Klassen:"
   ]
  },
  {
   "cell_type": "code",
   "execution_count": 3,
   "metadata": {
    "collapsed": true
   },
   "outputs": [],
   "source": [
    "class Student():\n",
    "    def __init__(self, firstname, surname):\n",
    "        self.firstname = firstname\n",
    "        self.surname = surname\n",
    "\n",
    "    def name(self):\n",
    "        return self.firstname + \" \" + self.surname\n",
    "        \n",
    "class WorkingStudent(Student):\n",
    "    def __init__(self, firstname, surname, company):\n",
    "        super().__init__(firstname, surname)\n",
    "        self.company = company\n",
    "        \n",
    "    def name(self):\n",
    "        return super().name() + \" (\" + self.company + \")\""
   ]
  },
  {
   "cell_type": "code",
   "execution_count": 4,
   "metadata": {},
   "outputs": [],
   "source": [
    "w_student = WorkingStudent(\"Max\", \"Müller\", \"ABCDEF GmbH\")\n",
    "student = Student(\"Monika\", \"Mustermann\")"
   ]
  },
  {
   "cell_type": "markdown",
   "metadata": {},
   "source": [
    "### Den Typ überprüfen mit type()\n",
    "Mit der **type()**-Funktion können wir den Typ eines Objektes feststellen: "
   ]
  },
  {
   "cell_type": "code",
   "execution_count": 13,
   "metadata": {},
   "outputs": [
    {
     "name": "stdout",
     "output_type": "stream",
     "text": [
      "<class '__main__.WorkingStudent'>\n",
      "<class '__main__.Student'>\n"
     ]
    }
   ],
   "source": [
    "print(type(w_student))\n",
    "print(type(student))"
   ]
  },
  {
   "cell_type": "code",
   "execution_count": 16,
   "metadata": {},
   "outputs": [
    {
     "name": "stdout",
     "output_type": "stream",
     "text": [
      "Hier hingegen steht ein richtiger Student\n"
     ]
    }
   ],
   "source": [
    "if type(w_student) == Student:\n",
    "    print(\"Diese Zeile wird nur für einen Student ausgegeben\")\n",
    "\n",
    "if type(student) == Student:\n",
    "    print(\"Hier hingegen steht ein richtiger Student\")"
   ]
  },
  {
   "cell_type": "markdown",
   "metadata": {},
   "source": [
    "### Checken, ob es sich um eine Instanz handelt mit isinstance()\n",
    "\n",
    "Die Funktion **isinstance()** erhält zwei Parameter: die Variable und die Klasse bezüglich derer auf Zugehörigkeit der Variable geprüft werden soll. isinstance() liefert einen Bool zurück:"
   ]
  },
  {
   "cell_type": "code",
   "execution_count": 19,
   "metadata": {},
   "outputs": [
    {
     "name": "stdout",
     "output_type": "stream",
     "text": [
      "True\n",
      "True\n",
      "False\n",
      "True\n"
     ]
    }
   ],
   "source": [
    "print(isinstance(w_student, WorkingStudent))\n",
    "print(isinstance(w_student, Student))\n",
    "\n",
    "print(isinstance(student, WorkingStudent))\n",
    "print(isinstance(student, Student))"
   ]
  },
  {
   "cell_type": "markdown",
   "metadata": {},
   "source": [
    "Da Student die Mutterklasse von  WorkingStudent ist, ist w_student auch bezüglich Student eine Instanz."
   ]
  },
  {
   "cell_type": "markdown",
   "metadata": {},
   "source": [
    "Nützlich wird die Funktion wenn wir nach Klassen filtern wollen, z. B. nur Instanzen von WorkingStudent ausgeben:"
   ]
  },
  {
   "cell_type": "code",
   "execution_count": 24,
   "metadata": {},
   "outputs": [
    {
     "name": "stdout",
     "output_type": "stream",
     "text": [
      "Max Müller (ABCDEF GmbH)\n",
      "Franziska Mustermann (XYZXYZ GmbH)\n"
     ]
    }
   ],
   "source": [
    "students = [\n",
    "    WorkingStudent(\"Max\", \"Müller\", \"ABCDEF GmbH\"),\n",
    "    Student(\"Monika\", \"Mustermann\"),\n",
    "    Student(\"Erik\", \"Müller\"),\n",
    "    WorkingStudent(\"Franziska\", \"Mustermann\", \"XYZXYZ GmbH\")\n",
    "]\n",
    "\n",
    "for student in students:\n",
    "    ## alternativ: \n",
    "    ## if isinstance(student, WorkingStudent):\n",
    "    if type(student) == WorkingStudent:\n",
    "        print(student.name())"
   ]
  }
 ],
 "metadata": {
  "kernelspec": {
   "display_name": "Python 3",
   "language": "python",
   "name": "python3"
  },
  "language_info": {
   "codemirror_mode": {
    "name": "ipython",
    "version": 3
   },
   "file_extension": ".py",
   "mimetype": "text/x-python",
   "name": "python",
   "nbconvert_exporter": "python",
   "pygments_lexer": "ipython3",
   "version": "3.6.3"
  }
 },
 "nbformat": 4,
 "nbformat_minor": 2
}
