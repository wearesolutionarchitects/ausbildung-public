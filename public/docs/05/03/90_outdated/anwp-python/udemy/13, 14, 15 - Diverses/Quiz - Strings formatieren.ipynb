{
 "cells": [
  {
   "cell_type": "markdown",
   "metadata": {},
   "source": [
    "## Quiz: String-Formatierung"
   ]
  },
  {
   "cell_type": "markdown",
   "metadata": {},
   "source": [
    "#### Aufgabe 1\n",
    "\n",
    "Mit welchem Befehl wandelst du den String s = `\"WeR sO sChReIbT, hAt SiE nIcHt MeHr AlLe\"` in einen String um, in dem jeder Buchstabe kleingeschrieben ist?\n",
    "\n",
    "- A) `s.toLower()`\n",
    "- B) `s.lower()`\n",
    "- C) `s.low()`\n",
    "- D) `s.small`"
   ]
  },
  {
   "cell_type": "markdown",
   "metadata": {},
   "source": [
    "Richtige Lösung: "
   ]
  },
  {
   "cell_type": "markdown",
   "metadata": {},
   "source": [
    "#### Aufgabe 2\n",
    "\n",
    "Wie entfernst du die Leerzeichen am Anfang und Ende und die Punkte aus dem String s = `\"       ... ein Gedanke...  \"`, so \n",
    "dass du den String `\"ein Gedanke\"` erhältst?\n",
    "\n",
    "\n",
    "- A) `s.strip(\"...\")`\n",
    "- B) `s.strip()`\n",
    "- C) `s.strip(\" .\")`\n",
    "- D) `s.strip(\" \", \".\")`"
   ]
  },
  {
   "cell_type": "markdown",
   "metadata": {
    "collapsed": true
   },
   "source": [
    "Richtige Lösung: "
   ]
  },
  {
   "cell_type": "markdown",
   "metadata": {
    "collapsed": true
   },
   "source": [
    "#### Aufgabe 3\n",
    "\n",
    "Wie änderst du den String s = `\"Morgen werde ich so richtig produktiv sein\"` in `\"Heute werde ich so richtig produktiv sein\"`?\n",
    "\n",
    "```python\n",
    "s = \"Morgen werde ich so richtig produktiv sein\"\n",
    "```\n",
    "\n",
    "\n",
    "- A) `s.replace(\"Morgen\", \"Heute\")`\n",
    "- B) `s.replace(\"Heute\", \"Morgen\")`\n",
    "- C) `\"Morgen\".replace(\"Heute\")`\n",
    "- D) `s.replace(s.find(\"Morgen\"), \"Heute\")`"
   ]
  },
  {
   "cell_type": "markdown",
   "metadata": {},
   "source": [
    "Richtige Lösung: "
   ]
  },
  {
   "cell_type": "markdown",
   "metadata": {},
   "source": [
    "#### Aufgabe 4\n",
    "\n",
    "Wie formatierst du einen String, um den folgenden Satz auszugeben?:\n",
    "\n",
    "`\"40.000 Zuschauer bejubelten den 3:1-Sieg in der Sponsoring-Arena.\"`\n",
    "\n",
    "- A) `number + \" Zuschauer bejubelten den \" + result +\"-Sieg \" + stadium + \".\".format(result = \"3:1\", stadium = \"in der Sponsoring-Arena\", number = \"40.000\")`\n",
    "- B) `\"{1} Zuschauer bejubelten den {0}-Sieg {2}.\".format(\"in der Sponsoring-Arena\", \"40.000\", \"3:1\")`\n",
    "- C) `\"{0} Zuschauer bejubelten den {2}-Sieg {1}.\".format(\"3:1\", \"in der Sponsoring-Arena\", \"40.000\")`\n",
    "- D) `\"{number} Zuschauer bejubelten den {result}-Sieg {stadium}.\".format(result = \"3:1\", stadium = \"in der Sponsoring-Arena\", number = \"40.000\")`"
   ]
  },
  {
   "cell_type": "markdown",
   "metadata": {},
   "source": [
    "Richtige Lösung: "
   ]
  },
  {
   "cell_type": "code",
   "execution_count": null,
   "metadata": {
    "collapsed": true
   },
   "outputs": [],
   "source": []
  },
  {
   "cell_type": "code",
   "execution_count": null,
   "metadata": {
    "collapsed": true
   },
   "outputs": [],
   "source": []
  },
  {
   "cell_type": "code",
   "execution_count": null,
   "metadata": {
    "collapsed": true
   },
   "outputs": [],
   "source": []
  }
 ],
 "metadata": {
  "kernelspec": {
   "display_name": "Python 3",
   "language": "python",
   "name": "python3"
  },
  "language_info": {
   "codemirror_mode": {
    "name": "ipython",
    "version": 3
   },
   "file_extension": ".py",
   "mimetype": "text/x-python",
   "name": "python",
   "nbconvert_exporter": "python",
   "pygments_lexer": "ipython3",
   "version": "3.6.3"
  }
 },
 "nbformat": 4,
 "nbformat_minor": 2
}
