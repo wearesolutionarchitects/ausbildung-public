{
 "cells": [
  {
   "cell_type": "markdown",
   "metadata": {
    "collapsed": true
   },
   "source": [
    "# Datumswerte in Python"
   ]
  },
  {
   "cell_type": "markdown",
   "metadata": {},
   "source": [
    "Zur Darstellung von Datumswerten gibt's in Python das datetime-Modul (https://docs.python.org/3/library/datetime.html). Damit kannst du Datumswerte repräsentieren und damit rechnen."
   ]
  },
  {
   "cell_type": "code",
   "execution_count": 2,
   "metadata": {
    "collapsed": true
   },
   "outputs": [],
   "source": [
    "from datetime import datetime"
   ]
  },
  {
   "cell_type": "markdown",
   "metadata": {},
   "source": [
    "Über `datetime.now()` hast du die Möglichkeit, ein Datumsobjekt zum aktuellen Datum erstellen zu lassen:"
   ]
  },
  {
   "cell_type": "code",
   "execution_count": 3,
   "metadata": {},
   "outputs": [
    {
     "name": "stdout",
     "output_type": "stream",
     "text": [
      "2017-09-23 17:51:05.689893\n"
     ]
    }
   ],
   "source": [
    "now = datetime.now()\n",
    "print(now)"
   ]
  },
  {
   "cell_type": "markdown",
   "metadata": {},
   "source": [
    "Alternativ kannst du auch ein spezifisches Datum angeben (hier: 20.8.2017, 20:00:00):"
   ]
  },
  {
   "cell_type": "code",
   "execution_count": 4,
   "metadata": {},
   "outputs": [
    {
     "name": "stdout",
     "output_type": "stream",
     "text": [
      "2017-08-20 20:00:00\n"
     ]
    }
   ],
   "source": [
    "day = datetime(2017, 8, 20, 20, 0, 0)\n",
    "print(day)"
   ]
  },
  {
   "cell_type": "markdown",
   "metadata": {},
   "source": [
    "Wenn du ein solches Datumsobjekt erstellt hast, kannst du z. B. über `.year` auf das Jahr direkt zugreifen. Du hast also direkten Zugriff auf alle einzelnen Angaben:"
   ]
  },
  {
   "cell_type": "code",
   "execution_count": 5,
   "metadata": {},
   "outputs": [
    {
     "name": "stdout",
     "output_type": "stream",
     "text": [
      "2017\n",
      "8\n",
      "20\n",
      "20\n",
      "0\n",
      "0\n"
     ]
    }
   ],
   "source": [
    "print(day.year)\n",
    "print(day.month)\n",
    "print(day.day)\n",
    "print(day.hour)\n",
    "print(day.minute)\n",
    "print(day.second)"
   ]
  },
  {
   "cell_type": "markdown",
   "metadata": {},
   "source": [
    "Die `.timestamp()`-Methode gibt dir den entsprechenden Unix-Timestamp zu einem bestimmten Datumswert zurück. Unix-Timestamp ist einfach nur eine Zahl, die die Sekunden seit dem 01.01.1970 hochzählt.\n",
    "\n",
    "Vorteil bei einem Unix-Timestamp ist, dass wir ihn recht kompakt speichern können; intern muss der Computer ja nur eine Zahl speichern, um einen Datumswert zu repräsentieren.\n",
    "\n",
    "Wir können ihn hier aber verwenden, um den Zeitunterschied in Sekunden zu berechnen. :-) "
   ]
  },
  {
   "cell_type": "code",
   "execution_count": 6,
   "metadata": {},
   "outputs": [
    {
     "name": "stdout",
     "output_type": "stream",
     "text": [
      "-2929865.6898930073\n"
     ]
    }
   ],
   "source": [
    "print(day.timestamp() - now.timestamp())"
   ]
  },
  {
   "cell_type": "markdown",
   "metadata": {},
   "source": [
    "### `date`- und `time`- Angaben\n",
    "\n",
    "Das `datetime`-Paket stellt uns auch weitere Klassen zur Verfügung, die wir verwenden können, um mit Datumsangaben zu arbeiten.\n",
    "\n",
    "Beispielsweise repräsentiert `date` eine Datumsangabe, `time` eine Zeitangabe.\n",
    "\n",
    "- `datetime`: Datumsangabe + Zeitangabe\n",
    "- `date`: Nur Datumsangabe\n",
    "- `time`: Nur Zeitangabe"
   ]
  },
  {
   "cell_type": "code",
   "execution_count": 7,
   "metadata": {
    "collapsed": true
   },
   "outputs": [],
   "source": [
    "from datetime import date, time"
   ]
  },
  {
   "cell_type": "code",
   "execution_count": 8,
   "metadata": {},
   "outputs": [
    {
     "name": "stdout",
     "output_type": "stream",
     "text": [
      "2017-08-20\n"
     ]
    }
   ],
   "source": [
    "d = date(2017, 8, 20)\n",
    "print(d)"
   ]
  },
  {
   "cell_type": "code",
   "execution_count": 9,
   "metadata": {},
   "outputs": [
    {
     "name": "stdout",
     "output_type": "stream",
     "text": [
      "20:01:04\n"
     ]
    }
   ],
   "source": [
    "t = time(20, 1, 4)\n",
    "print(t)"
   ]
  },
  {
   "cell_type": "markdown",
   "metadata": {},
   "source": [
    "Natürlich kannst du auch Datumswerte vergleichen.\n",
    "\n",
    "Aber Achtung! Bei `date` ist `==` beim gleichen Datum erfüllt, bei einem `datetime`-Objekt müssen natürlich sowohl die Datumsangabe als auch die Zeitangabe übereinstimmen.\n",
    "\n",
    "Ausführlich also:\n",
    "\n",
    "\n",
    "- `datetime`: Datumsangabe + Zeitangabe müssen übereinstimmen\n",
    "- `date`: Datumsangabe muss übereinstimmen\n",
    "- `time`: Zeitangabe muss übereinstimmen"
   ]
  },
  {
   "cell_type": "code",
   "execution_count": 10,
   "metadata": {},
   "outputs": [
    {
     "name": "stdout",
     "output_type": "stream",
     "text": [
      "True\n",
      "False\n"
     ]
    }
   ],
   "source": [
    "print(date(2017, 8, 20) == date(2017, 8, 20))\n",
    "print(datetime(2017, 8, 20, 20, 0, 0) == datetime(2017, 8, 20, 15, 0, 0))"
   ]
  },
  {
   "cell_type": "markdown",
   "metadata": {},
   "source": [
    "### `datetime` in `date` und `time` umwandeln\n",
    "\n",
    "Natürlich kannst du ein `datetime`-Objekt auch in ein `date` und ein `time`-Objekt zerlegen:"
   ]
  },
  {
   "cell_type": "code",
   "execution_count": 11,
   "metadata": {},
   "outputs": [
    {
     "name": "stdout",
     "output_type": "stream",
     "text": [
      "20:00:00\n",
      "2017-08-20\n"
     ]
    }
   ],
   "source": [
    "dt = datetime(2017, 8, 20, 20, 0, 0)\n",
    "print(dt.time())\n",
    "print(dt.date())"
   ]
  },
  {
   "cell_type": "markdown",
   "metadata": {},
   "source": [
    "### `date` und `time` in `datetime` umwandeln\n",
    "\n",
    "Und natürlich geht das auch anders herum: :-)"
   ]
  },
  {
   "cell_type": "code",
   "execution_count": 12,
   "metadata": {},
   "outputs": [
    {
     "name": "stdout",
     "output_type": "stream",
     "text": [
      "2017-08-20 20:30:00\n"
     ]
    }
   ],
   "source": [
    "print(datetime.combine(date(2017, 8, 20), time(20, 30, 0)))"
   ]
  },
  {
   "cell_type": "markdown",
   "metadata": {},
   "source": [
    "# Datumswerte ausgeben\n",
    "\n",
    "Natürlich ist es auch wichtig, dass wir ein Datum formatiert ausgeben möchten. Schließlich möchten wir nicht immer eine Ausgabe in der Form `2017-08-20` haben.\n",
    "\n",
    "Dazu bietet Python verschiedene Format-Optionen an.\n",
    "\n",
    "Dokumentation: https://docs.python.org/3/library/datetime.html#strftime-strptime-behavior"
   ]
  },
  {
   "cell_type": "code",
   "execution_count": 13,
   "metadata": {
    "collapsed": true
   },
   "outputs": [],
   "source": [
    "from datetime import datetime\n",
    "\n",
    "now = datetime.now()"
   ]
  },
  {
   "cell_type": "code",
   "execution_count": 14,
   "metadata": {},
   "outputs": [
    {
     "name": "stdout",
     "output_type": "stream",
     "text": [
      "2017-09-23 17:51:06.325082\n"
     ]
    }
   ],
   "source": [
    "print(now)"
   ]
  },
  {
   "cell_type": "code",
   "execution_count": 15,
   "metadata": {},
   "outputs": [
    {
     "name": "stdout",
     "output_type": "stream",
     "text": [
      "23.09.2017\n",
      "2017-09-23\n",
      "20170923\n"
     ]
    }
   ],
   "source": [
    "print(now.strftime(\"%d.%m.%Y\"))\n",
    "print(now.strftime(\"%Y-%m-%d\"))\n",
    "print(now.strftime(\"%Y%m%d\"))"
   ]
  },
  {
   "cell_type": "markdown",
   "metadata": {},
   "source": [
    "### Datumswerte einlesen\n",
    "\n",
    "Das ganze funktioniert auch anders herum: Du kannst auch Datumswerte aus einem String extrahieren, wenn du z. B. mit den Python Funktionen später mit dem Datum weiter rechnen willst:"
   ]
  },
  {
   "cell_type": "code",
   "execution_count": 16,
   "metadata": {
    "collapsed": true
   },
   "outputs": [],
   "source": [
    "d = \"18.07.2017\""
   ]
  },
  {
   "cell_type": "code",
   "execution_count": 17,
   "metadata": {},
   "outputs": [
    {
     "name": "stdout",
     "output_type": "stream",
     "text": [
      "2017-07-18 00:00:00\n"
     ]
    }
   ],
   "source": [
    "print(datetime.strptime(d, \"%d.%m.%Y\"))"
   ]
  },
  {
   "cell_type": "markdown",
   "metadata": {},
   "source": [
    "# Zeitdifferenzen\n",
    "\n",
    "Mit einem `timedelta` hast du die Möglichkeit, mit Zeitdifferenzen zu rechnen. Ein `timedelta` beschreibt hier einfach nur den Zeitunterschied zwischen zwei Datumswerten.\n",
    "\n",
    "Beispielsweise kannst du auf einen Datumswert ein `timedelta` addieren, um zum neuen Datum zu kommen: "
   ]
  },
  {
   "cell_type": "code",
   "execution_count": 18,
   "metadata": {},
   "outputs": [
    {
     "name": "stdout",
     "output_type": "stream",
     "text": [
      "2017-09-23 17:52:13.681326\n",
      "2017-10-13 21:55:14.681326\n"
     ]
    }
   ],
   "source": [
    "from datetime import datetime, timedelta\n",
    "now = datetime.now()\n",
    "print(now)\n",
    "print(now + timedelta(days = 20, hours = 4, minutes = 3, seconds = 1))"
   ]
  },
  {
   "cell_type": "markdown",
   "metadata": {},
   "source": [
    "Zudem ist es so, dass, wenn du zwei Datumswerte voneinander abziehst, als Ergebnis ein `timedelta`-Objekt herauskommt:"
   ]
  },
  {
   "cell_type": "code",
   "execution_count": 19,
   "metadata": {},
   "outputs": [
    {
     "name": "stdout",
     "output_type": "stream",
     "text": [
      "-35 days, 6:07:46.318674\n"
     ]
    }
   ],
   "source": [
    "day = datetime(2017, 8, 20)\n",
    "td = day - now\n",
    "print(td)"
   ]
  },
  {
   "cell_type": "code",
   "execution_count": 20,
   "metadata": {},
   "outputs": [
    {
     "name": "stdout",
     "output_type": "stream",
     "text": [
      "2017-11-27 06:07:46.318674\n"
     ]
    }
   ],
   "source": [
    "print(datetime(2018, 1, 1) + td)"
   ]
  },
  {
   "cell_type": "code",
   "execution_count": null,
   "metadata": {
    "collapsed": true
   },
   "outputs": [],
   "source": []
  }
 ],
 "metadata": {
  "kernelspec": {
   "display_name": "Python 3",
   "language": "python",
   "name": "python3"
  },
  "language_info": {
   "codemirror_mode": {
    "name": "ipython",
    "version": 3
   },
   "file_extension": ".py",
   "mimetype": "text/x-python",
   "name": "python",
   "nbconvert_exporter": "python",
   "pygments_lexer": "ipython3",
   "version": "3.7.6"
  }
 },
 "nbformat": 4,
 "nbformat_minor": 2
}
