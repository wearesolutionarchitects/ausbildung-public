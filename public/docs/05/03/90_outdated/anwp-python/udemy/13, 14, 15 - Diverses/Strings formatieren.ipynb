{
 "cells": [
  {
   "cell_type": "markdown",
   "metadata": {},
   "source": [
    "## Strings formatieren\n",
    "\n",
    "Manchmal möchtest du in einen String irgendwelche Werte einsetzen. Also z. B. möchtest du die Ausgabe erzeugen, \"Ich habe 5 Hunde\". Bisher war das immer recht unhandlich, mit der str()-Funktion:"
   ]
  },
  {
   "cell_type": "code",
   "execution_count": 1,
   "metadata": {},
   "outputs": [
    {
     "name": "stdout",
     "output_type": "stream",
     "text": [
      "Ich habe 5 Hunde\n"
     ]
    }
   ],
   "source": [
    "n = 5\n",
    "print(\"Ich habe \" + str(n) + \" Hunde\")"
   ]
  },
  {
   "cell_type": "markdown",
   "metadata": {},
   "source": [
    "In dieser Lektion lernst du eine neue, praktische Methode kennen, um eine solche Ausgabe zu erzeugen!"
   ]
  },
  {
   "cell_type": "markdown",
   "metadata": {},
   "source": [
    "### Schauen wir uns dazu mal ein Beispiel an\n",
    "\n",
    "Stell dir vor, du möchtest deine Anwendung übersetzen. Spätestens dann stößt du auf Probleme:"
   ]
  },
  {
   "cell_type": "code",
   "execution_count": 2,
   "metadata": {},
   "outputs": [
    {
     "name": "stdout",
     "output_type": "stream",
     "text": [
      "Ich habe 5 Hunde\n",
      "I got 5 dogs\n"
     ]
    }
   ],
   "source": [
    "n = 5\n",
    "print(\"Ich habe \" + str(n) + \" Hunde\")\n",
    "print(\"I got \" + str(n) + \" dogs\")"
   ]
  },
  {
   "cell_type": "markdown",
   "metadata": {},
   "source": [
    "Wie bekommst du es jetzt hin, dass der Sprachbaustein austauschbar ist und nicht mit dem `+ str(n) +`Befehl \"verwoben\" ist?\n",
    "\n",
    "**Idee:** Du könntest die Sprachbausteine in einem Dictionary definieren und einen Platzhalter per `.replace()` einsetzen:"
   ]
  },
  {
   "cell_type": "code",
   "execution_count": 3,
   "metadata": {},
   "outputs": [
    {
     "name": "stdout",
     "output_type": "stream",
     "text": [
      "Ich habe 5 Hunde\n"
     ]
    }
   ],
   "source": [
    "translations = {\n",
    "    \"number_of_dogs\": \"Ich habe XXX Hunde\"\n",
    "}\n",
    "print(translations[\"number_of_dogs\"].replace(\"XXX\", str(n)))"
   ]
  },
  {
   "cell_type": "markdown",
   "metadata": {},
   "source": [
    "**Problem:** Das wird aber schnell unübersichtlich. \n",
    "\n",
    "**Lösung:** Glücklicherweise stellt uns Python hier eine `.format()`-Methode zur Verfügung, die das ganze sehr viel einfacher macht. Hierbei verwenden wir `{0}` für die Position, wo wir den Parameter `n` des `.format(n)`-Aufrufs einsetzen möchten:"
   ]
  },
  {
   "cell_type": "code",
   "execution_count": 4,
   "metadata": {},
   "outputs": [
    {
     "name": "stdout",
     "output_type": "stream",
     "text": [
      "Ich habe 5 Hunde\n"
     ]
    }
   ],
   "source": [
    "print(\"Ich habe {0} Hunde\".format(n))"
   ]
  },
  {
   "cell_type": "markdown",
   "metadata": {},
   "source": [
    "**Ergebnis:** Unserer Übersetzungs-Code ist sehr viel angenehmer:"
   ]
  },
  {
   "cell_type": "code",
   "execution_count": 5,
   "metadata": {},
   "outputs": [
    {
     "name": "stdout",
     "output_type": "stream",
     "text": [
      "Ich habe 5 Hunde\n"
     ]
    }
   ],
   "source": [
    "translations = {\n",
    "    \"number_of_dogs\": \"Ich habe {0} Hunde\"\n",
    "}\n",
    "print(translations[\"number_of_dogs\"].format(n))"
   ]
  },
  {
   "cell_type": "markdown",
   "metadata": {},
   "source": [
    "Diese `.format()`-Methode funktioniert auch mit mehreren Parametern. Hierbei definiert dann `{0}` die Position für den ersten Parameter, `{1}` die Position, wo der 2. Parameter hin gesetzt werden soll. \n",
    "\n",
    "Hier in folgendem Fall wird also die `{1}` durch `\"Katzen\"` ersetzt, und `{0}` durch die Zahl 5:"
   ]
  },
  {
   "cell_type": "code",
   "execution_count": 6,
   "metadata": {},
   "outputs": [
    {
     "name": "stdout",
     "output_type": "stream",
     "text": [
      "Ich habe Katzen 5x\n"
     ]
    }
   ],
   "source": [
    "print(\"Ich habe {1} {0}x\".format(5, \"Katzen\"))"
   ]
  },
  {
   "cell_type": "markdown",
   "metadata": {},
   "source": [
    "#### Kommazahlen und runden\n",
    "\n",
    "Der `format()`-Befehl erlaubt es, Kommazahlen komfortabel zu runden. Hierbei wird an einen Formatierungs-Befehl (das war z. B. `{0}` oder `{1}`) noch innerhalb der geschweiften Klammern ein `f` drangehängt.\n",
    "\n",
    "Dadurch sagen wir Python, dass diese Zahl als Kommazahl betrachtet werden soll. Entsprechend wird hier jetzt die Zahl 5 eingesetzt, die `.000000` werden aber ergänzt, weil es als Kommazahl ausgegeben wird:"
   ]
  },
  {
   "cell_type": "code",
   "execution_count": 9,
   "metadata": {},
   "outputs": [
    {
     "name": "stdout",
     "output_type": "stream",
     "text": [
      "So viele Katzen habe ich: 5.000000\n"
     ]
    }
   ],
   "source": [
    "print(\"So viele Katzen habe ich: {0:f}\".format(5))"
   ]
  },
  {
   "cell_type": "markdown",
   "metadata": {},
   "source": [
    "Wenn wir die Anzahl der Stellen beschränken möchten, können wir das tun, indem wir nach dem Doppelpunkt `.2` schreiben, um z. B. die Kommazahl auf 2 Nachkommastellen zu limitieren:"
   ]
  },
  {
   "cell_type": "code",
   "execution_count": 10,
   "metadata": {},
   "outputs": [
    {
     "name": "stdout",
     "output_type": "stream",
     "text": [
      "So viele Katzen habe ich: 5.00\n"
     ]
    }
   ],
   "source": [
    "print(\"So viele Katzen habe ich: {0:.2f}\".format(5))"
   ]
  },
  {
   "cell_type": "markdown",
   "metadata": {},
   "source": [
    "Das können wir jetzt auch für echte Kommazahlen nutzen, um diese zu runden! :-)"
   ]
  },
  {
   "cell_type": "code",
   "execution_count": 44,
   "metadata": {},
   "outputs": [
    {
     "name": "stdout",
     "output_type": "stream",
     "text": [
      "Pi hat den Wert: 3.142\n"
     ]
    }
   ],
   "source": [
    "print(\"Pi hat den Wert: {0:.3f}\".format(3.141529))"
   ]
  },
  {
   "cell_type": "markdown",
   "metadata": {},
   "source": [
    "### Parameter bennennen\n",
    "\n",
    "Wenn du einen String hast, in dem viele Platzhalter eingesetzt werden, wird die Schreibweise `{0}`, `{1}`, `{2}`, `{3}`, `{4}`, `{5}`, ... irgendwann unübersichtlich.\n",
    "\n",
    "Glücklicherweise können wir die Parameter auch benennen. Hierbei ist wichtig, dass, wenn auf der linken Seiten ein Parameter z. B. `{animal}` heißt, der Parameter `animal` dann entsprechend auch der `.format()`-Funktion übergeben wird. \n",
    "\n",
    "Hier in dem Fall ist es also so, dass an die Stelle, an der `{animal}` steht, der Wert vom `.format()`-Aufruf `animal = \"Hunde\"` (konkret das Wort \"Hunde\") eingesetzt wird: "
   ]
  },
  {
   "cell_type": "code",
   "execution_count": 47,
   "metadata": {},
   "outputs": [
    {
     "name": "stdout",
     "output_type": "stream",
     "text": [
      "Ich habe 5.000 Hunde\n"
     ]
    }
   ],
   "source": [
    "print(\"Ich habe {number:.3f} {animal}\".format(number = 5, animal = \"Hunde\"))"
   ]
  },
  {
   "cell_type": "code",
   "execution_count": null,
   "metadata": {
    "collapsed": true
   },
   "outputs": [],
   "source": []
  }
 ],
 "metadata": {
  "kernelspec": {
   "display_name": "Python 3",
   "language": "python",
   "name": "python3"
  },
  "language_info": {
   "codemirror_mode": {
    "name": "ipython",
    "version": 3
   },
   "file_extension": ".py",
   "mimetype": "text/x-python",
   "name": "python",
   "nbconvert_exporter": "python",
   "pygments_lexer": "ipython3",
   "version": "3.7.6"
  }
 },
 "nbformat": 4,
 "nbformat_minor": 2
}
