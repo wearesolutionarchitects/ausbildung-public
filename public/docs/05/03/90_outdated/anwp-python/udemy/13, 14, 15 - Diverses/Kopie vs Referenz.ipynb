{
 "cells": [
  {
   "cell_type": "markdown",
   "metadata": {},
   "source": [
    "## Wie werden in Python Funktionsparameter übergeben?\n",
    "\n",
    "Man unterscheidet in Python zwischen 2 verschiedenen Arten von Variablen:\n",
    "\n",
    "- Primitive Datentypen (Zahl, String, Booleans, ...)\n",
    "- Datenstrukturen / Datenstruktur."
   ]
  },
  {
   "cell_type": "code",
   "execution_count": 2,
   "metadata": {},
   "outputs": [
    {
     "name": "stdout",
     "output_type": "stream",
     "text": [
      "3\n",
      "5\n"
     ]
    }
   ],
   "source": [
    "a = 5\n",
    "\n",
    "def f(x):\n",
    "    x = 3\n",
    "    print(x)\n",
    "\n",
    "f(a)\n",
    "print(a)"
   ]
  },
  {
   "cell_type": "code",
   "execution_count": 4,
   "metadata": {},
   "outputs": [
    {
     "name": "stdout",
     "output_type": "stream",
     "text": [
      "['Hallo', 'Welt', '!!!']\n",
      "['Hallo', 'Welt', '!!!']\n"
     ]
    }
   ],
   "source": [
    "l = [\"Hallo\", \"Welt\"]\n",
    "\n",
    "def f(x):\n",
    "    x.append(\"!!!\")\n",
    "    print(x)\n",
    "    \n",
    "f(l)\n",
    "print(l)"
   ]
  },
  {
   "cell_type": "code",
   "execution_count": 5,
   "metadata": {},
   "outputs": [
    {
     "name": "stdout",
     "output_type": "stream",
     "text": [
      "['Hallo', 'Welt', '!!!']\n",
      "['Hallo', 'Welt']\n"
     ]
    }
   ],
   "source": [
    "l = [\"Hallo\", \"Welt\"]\n",
    "\n",
    "def f(x):\n",
    "    x = [\"Hallo\", \"Welt\", \"!!!\"]\n",
    "    print(x)\n",
    "    \n",
    "f(l)\n",
    "print(l)"
   ]
  },
  {
   "cell_type": "code",
   "execution_count": null,
   "metadata": {
    "collapsed": true
   },
   "outputs": [],
   "source": []
  }
 ],
 "metadata": {
  "kernelspec": {
   "display_name": "Python 3",
   "language": "python",
   "name": "python3"
  },
  "language_info": {
   "codemirror_mode": {
    "name": "ipython",
    "version": 3
   },
   "file_extension": ".py",
   "mimetype": "text/x-python",
   "name": "python",
   "nbconvert_exporter": "python",
   "pygments_lexer": "ipython3",
   "version": "3.6.3"
  }
 },
 "nbformat": 4,
 "nbformat_minor": 2
}
