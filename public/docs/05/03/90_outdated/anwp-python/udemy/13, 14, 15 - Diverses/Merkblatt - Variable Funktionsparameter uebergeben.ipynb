{
 "cells": [
  {
   "cell_type": "markdown",
   "metadata": {},
   "source": [
    "# Variable Funktionsparameter\n",
    "\n",
    "## Variable Funktionsparameter entgegennehmen"
   ]
  },
  {
   "cell_type": "markdown",
   "metadata": {},
   "source": [
    "Manchmal möchtest du einer Funktion erlauben, eine variable Anzahl an Parametern entgegenzunehmen.\n",
    "\n",
    "Dafür kannst du die `*`-Schreibweise verwenden; die Parameter landen dann in einem Tupel. Dadurch akzeptiert diese Funktion dann eine variable Anzahl an Parametern:"
   ]
  },
  {
   "cell_type": "code",
   "execution_count": 1,
   "metadata": {},
   "outputs": [
    {
     "name": "stdout",
     "output_type": "stream",
     "text": [
      "(1, 2, 3)\n"
     ]
    },
    {
     "data": {
      "text/plain": [
       "3"
      ]
     },
     "execution_count": 1,
     "metadata": {},
     "output_type": "execute_result"
    }
   ],
   "source": [
    "def calculate_max(*params):\n",
    "    print(params)\n",
    "    current_max = params[0]\n",
    "    for item in params:\n",
    "        if item > current_max:\n",
    "            current_max = item\n",
    "    return current_max\n",
    "    \n",
    "calculate_max(1, 2, 3)"
   ]
  },
  {
   "cell_type": "markdown",
   "metadata": {},
   "source": [
    "Zudem hast du die Möglichkeit, über die `**`-Schreibweise mehrere, benannte Parameter entgegenzunehmen. Diese Parameter landen dann in einem Dictionary, und du kannst aus der Funktion darauf zugreifen:"
   ]
  },
  {
   "cell_type": "code",
   "execution_count": 2,
   "metadata": {},
   "outputs": [
    {
     "name": "stdout",
     "output_type": "stream",
     "text": [
      "{'key': 'value', 'key2': 'Value 2'}\n"
     ]
    }
   ],
   "source": [
    "def f(**args):\n",
    "    print(args)\n",
    "    \n",
    "f(key=\"value\", key2=\"Value 2\")"
   ]
  },
  {
   "cell_type": "markdown",
   "metadata": {},
   "source": [
    "Das beides funktioniert natürlich auch kombiniert. Wichtig ist hierbei, der Parameter mit einem Sternchen (hier: `*params` muss vor dem Parameter mit zwei Sternchen stehen `**args`).\n",
    "\n",
    "Alle normalen Parameter landen jetzt in dem Tupel `*params`. Alle benannten Parameter landen im Dictionary ``**args`."
   ]
  },
  {
   "cell_type": "code",
   "execution_count": 7,
   "metadata": {},
   "outputs": [
    {
     "name": "stdout",
     "output_type": "stream",
     "text": [
      "('Ein weiterer Wert', 'Noch ein Wert')\n",
      "{'key': 'value', 'key2': 'value2'}\n"
     ]
    }
   ],
   "source": [
    "def f(*params, **args):\n",
    "    print(params)\n",
    "    print(args)\n",
    "    \n",
    "f(\"Ein weiterer Wert\", \"Noch ein Wert\", key=\"value\", key2=\"value2\")"
   ]
  },
  {
   "cell_type": "markdown",
   "metadata": {},
   "source": [
    "## Funktion mit Variablen Funktionsparametern aufrufen\n",
    "\n",
    "Ähnlich wie ein `*` in der Funktionsdefinition mehrere Parameter zusammengefasst hat, können wir auch mehrere Parameter quasi \"entpacken\". \n",
    "\n",
    "Hier in dem Fall haben wir eine Liste `l` und wir möchten, dass das erste Listenelement als Parameter `a` übergeben wird und das zweite als Parameter `b`:"
   ]
  },
  {
   "cell_type": "code",
   "execution_count": 8,
   "metadata": {},
   "outputs": [
    {
     "name": "stdout",
     "output_type": "stream",
     "text": [
      "1\n",
      "2\n"
     ]
    }
   ],
   "source": [
    "def f(a, b):\n",
    "    print(a)\n",
    "    print(b)\n",
    "\n",
    "l = [1, 2]\n",
    "f(*l)"
   ]
  },
  {
   "cell_type": "markdown",
   "metadata": {},
   "source": [
    "Gleiches funktioniert natürlich auch für ein Dictionary. Hier brauchen wir `**`, um die Parameter zu entpacken:"
   ]
  },
  {
   "cell_type": "code",
   "execution_count": 10,
   "metadata": {},
   "outputs": [
    {
     "name": "stdout",
     "output_type": "stream",
     "text": [
      "1\n",
      "2\n"
     ]
    }
   ],
   "source": [
    "def f(a, b):\n",
    "    print(a)\n",
    "    print(b)\n",
    "\n",
    "l = {\"a\": 1, \"b\": 2}\n",
    "f(**l)"
   ]
  },
  {
   "cell_type": "markdown",
   "metadata": {},
   "source": [
    "### Warum machen wir das?\n",
    "\n",
    "Manchmal möchten wir Parameter einfach nur \"durchschleifen\", also gar nicht groß entgegennehmen, sondern einfach an eine andere Funktion weiterleiten. \n",
    "\n",
    "Hier im Beispiel werden also Parameter in ein Dictionary gepackt (``**plot_params``, Zeile 4). Dadurch können variable Parameter übergeben werden. \n",
    "\n",
    "Diese Parameter werden dann in `plt.plot([1, 2, 3], [5, 6, 5], **plot_params)` wieder aus dem Dictionary entpackt und in normale Funktionsparameter umgewandelt. \n",
    "\n",
    "So können wir uns z. B. in einen solchen Prozess einklinken.\n",
    "\n",
    "Beispiel:"
   ]
  },
  {
   "cell_type": "code",
   "execution_count": 11,
   "metadata": {},
   "outputs": [
    {
     "name": "stdout",
     "output_type": "stream",
     "text": [
      "{'color': 'r', 'linewidth': 10, 'linestyle': 'dashed'}\n"
     ]
    },
    {
     "data": {
      "image/png": "[encoded data removed]",
      "text/plain": [
       "<matplotlib.figure.Figure at 0x10a643ef0>"
      ]
     },
     "metadata": {},
     "output_type": "display_data"
    }
   ],
   "source": [
    "%matplotlib inline\n",
    "import matplotlib.pyplot as plt\n",
    "\n",
    "def create_plot(**plot_params):\n",
    "    print(plot_params)\n",
    "    \n",
    "    plt.plot([1, 2, 3], [5, 6, 5], **plot_params)\n",
    "    plt.show()\n",
    "    \n",
    "create_plot(color=\"r\", linewidth=10, linestyle=\"dashed\")"
   ]
  },
  {
   "cell_type": "code",
   "execution_count": null,
   "metadata": {
    "collapsed": true
   },
   "outputs": [],
   "source": []
  }
 ],
 "metadata": {
  "kernelspec": {
   "display_name": "Python 3",
   "language": "python",
   "name": "python3"
  },
  "language_info": {
   "codemirror_mode": {
    "name": "ipython",
    "version": 3
   },
   "file_extension": ".py",
   "mimetype": "text/x-python",
   "name": "python",
   "nbconvert_exporter": "python",
   "pygments_lexer": "ipython3",
   "version": "3.7.6"
  }
 },
 "nbformat": 4,
 "nbformat_minor": 2
}
