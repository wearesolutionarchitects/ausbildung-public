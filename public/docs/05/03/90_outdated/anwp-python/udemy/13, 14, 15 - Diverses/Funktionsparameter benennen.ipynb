{
 "cells": [
  {
   "cell_type": "markdown",
   "metadata": {},
   "source": [
    "## Funktionsparameter benennen\n",
    "\n",
    "Manchmal arbeitest du mit einer Funktion, die sehr viele Parameter übergeben bekommt. Dann wird der Funktionsaufruf sehr schnell sehr unübersichtlich...\n",
    "\n",
    "In dieser Lektion lernst du:\n",
    "\n",
    "- Was Standardparameter sind,\n",
    "- Und wie du benannte Parameter einer Funktion übergeben kannst."
   ]
  },
  {
   "cell_type": "code",
   "execution_count": 6,
   "metadata": {},
   "outputs": [
    {
     "name": "stdout",
     "output_type": "stream",
     "text": [
      "Hallo\n",
      "Hallo\n",
      "Hallo\n",
      "Hallo\n",
      "Hallo\n",
      "Welt\n",
      "Welt\n",
      "Welt\n",
      "Welt\n",
      "Welt\n"
     ]
    }
   ],
   "source": [
    "def multi_print(number = 3, word = \"Hallo\"):\n",
    "    for i in range(0, number):\n",
    "        print(word)\n",
    "        \n",
    "multi_print(5)\n",
    "multi_print(word = \"Welt\", number = 5)"
   ]
  },
  {
   "cell_type": "code",
   "execution_count": null,
   "metadata": {
    "collapsed": true
   },
   "outputs": [],
   "source": []
  }
 ],
 "metadata": {
  "kernelspec": {
   "display_name": "Python 3",
   "language": "python",
   "name": "python3"
  },
  "language_info": {
   "codemirror_mode": {
    "name": "ipython",
    "version": 3
   },
   "file_extension": ".py",
   "mimetype": "text/x-python",
   "name": "python",
   "nbconvert_exporter": "python",
   "pygments_lexer": "ipython3",
   "version": "3.6.3"
  }
 },
 "nbformat": 4,
 "nbformat_minor": 2
}
