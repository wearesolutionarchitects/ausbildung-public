{
 "cells": [
  {
   "cell_type": "markdown",
   "metadata": {},
   "source": [
    "# Abschluss Python Grundlagen\n",
    "\n",
    "Nimm dir Zeit, um die Aufgaben sorgfältig zu bearbeiten. Viel Erfolg! :)\n",
    "\n",
    "Wenn du mit diesem Übungsblatt fertig bist, kannst du deine Lösung mit der Musterlösung in Textform (Datei: `Abschluss Python Grundlagen (Musterloesung)`) vergleichen. \n",
    "\n",
    "Die Video-Musterlösung (in der nächsten Lektion) ist besonders ausführlich gehalten. Wenn du alles richtig gelöst hast, ist es vollkommen okay, wenn du diese Lektion dann überspringst."
   ]
  },
  {
   "cell_type": "markdown",
   "metadata": {},
   "source": [
    "### 1.) Ein automatisierter Trick\n",
    "\n",
    "#### a.) \n",
    "Eine Mathemagierin bittet dich darum, einen ihrer Tricks durch ein kleines Programm zu automatisieren. Der Trick beginnt wie folgt: \n",
    "\n",
    "1. Denke dir eine Zahl aus (Variable `number`).\n",
    "2. Multipliziere sie mit 2.\n",
    "3. Addiere 10 zum Ergebnis.\n",
    "4. Teile das Ergebnis durch 2.\n",
    "\n",
    "Führe diese Rechnung  für die Variable _number_ durch und gebe das Ergebnis aus. "
   ]
  },
  {
   "cell_type": "code",
   "execution_count": 1,
   "metadata": {},
   "outputs": [
    {
     "name": "stdout",
     "output_type": "stream",
     "text": [
      "0\n"
     ]
    }
   ],
   "source": [
    "number = 6\n",
    "\n",
    "# Schreibe die Berechnung in folgende Zeile\n",
    "result = 0\n",
    "\n",
    "print(result)"
   ]
  },
  {
   "cell_type": "markdown",
   "metadata": {},
   "source": [
    "**Hinweis:** In diesen Übungen geht es um den Python-Code. Daher gibt es hier die gewünschte Ausgabe zur Schnellkontrolle. \n",
    "\n",
    "Deine Aufgabe ist also, den Python-Code weiter oben anzupassen, dass die Rechnung aus der Aufgabenstellung korrekt berechnet wird, Und ob dann das Richtige herauskommt, kannst du mit der \"korrekten Ausgabe\" unter diesem Text prüfen. Hier geht es ja nicht um's Ergebnis, sondern um den Weg / Python-Code dahin ;) \n",
    "\n",
    "Das Notebook \"Abschluss Python Grundlagen (Musterlösung)\" enthält noch zusätzlich den fertigen Python-Code - ich würde dir aber empfehlen, erstmal selbst zu probieren, den Python-Code zu entwickeln.\n",
    "\n",
    "Korrekte Ausgabe (braucht nicht farbig zu sein):\n",
    "\n",
    "```python\n",
    "11.0\n",
    "```\n"
   ]
  },
  {
   "cell_type": "markdown",
   "metadata": {},
   "source": [
    "####  b.) \n",
    "Als sie das sieht, rümpft die Mathemagierin die Nase: Das Ergebnis wird nämlich noch als Kommazahl angezeigt. \n",
    "\n",
    "Wandle das Ergebnis in eine Ganzzahl um, bevor du es ausgibst."
   ]
  },
  {
   "cell_type": "code",
   "execution_count": 2,
   "metadata": {
    "collapsed": true
   },
   "outputs": [],
   "source": [
    "# Gebe das Ergebnis der Berechnung hier als Ganzzahl aus.\n"
   ]
  },
  {
   "cell_type": "markdown",
   "metadata": {},
   "source": [
    "Korrekte Ausgabe (braucht nicht farbig zu sein):\n",
    "\n",
    "```python\n",
    "11\n",
    "```"
   ]
  },
  {
   "cell_type": "markdown",
   "metadata": {},
   "source": [
    "####  c.)\n",
    "Die Mathemagierin weißt noch darauf hin, dass es bei Zaubertricks auch auf die Präsentation ankommt. Gebe nun einen Antwortsatz der Form \n",
    "\n",
    "**\"Du hast 6 ausgewählt, das magische Ergebnis ist 11!\"**\n",
    "\n",
    "aus, wobei für die Zahl 6 die Variable `number` und für die Zahl 11 das Ergebnis (Variable `result`) eingesetzt werden soll.\n",
    "\n",
    "**Hinweis:** In Python darf ein `print` - Befehl wie folgt über mehrere Zeilen gehen. Das könnte praktisch sein, gerade wenn du viele Strings hintereinander hängen möchtest:\n",
    "\n",
    "```python\n",
    "\n",
    "print(\"Hallo\" + \n",
    "      \"Welt\")\n",
    "```"
   ]
  },
  {
   "cell_type": "code",
   "execution_count": 3,
   "metadata": {
    "collapsed": true,
    "scrolled": true
   },
   "outputs": [],
   "source": [
    "# Gebe hier den Zaubertrick als Satz aus"
   ]
  },
  {
   "cell_type": "markdown",
   "metadata": {},
   "source": [
    "Korrekte Ausgabe:\n",
    "\n",
    "```\n",
    "Du hast 6 ausgewählt, das magische Ergebnis ist 11!\n",
    "```"
   ]
  },
  {
   "cell_type": "markdown",
   "metadata": {},
   "source": [
    "### Aufgabe 2: Zersägte E-Mail-Adressen\n",
    "\n",
    "Die Mathemagierin ist sehr zufrieden mit deiner Arbeit und bittet dich um Hilfe bei der Betreuung von ihrem Online-Shop. Sie kennt nur die Mailadressen ihrer Kunden und du sollst anhand der Mailadressen ein vereinfachtes Verzeichnis mit ihren Namen anlegen. "
   ]
  },
  {
   "cell_type": "markdown",
   "metadata": {},
   "source": [
    "#### a. ) Ziehe einen Namen aus einer Mailadresse der Form name@service.com\n",
    "\n",
    "Wenn die Mailadresse _Max-Mustermann@gmail.com_ lautet, sollst du _Max-Mustermann_ ausgeben; wenn die Mailadresse _KlaraKlarnamen@uni-berlin.de_ heisst, sollst du _KlaraKlarnamen_ ausgeben.\n",
    "\n",
    "**Hinweis:** Schau dir dazu auf jeden Fall nochmal die `.split()` - Methode an. Damit kannst du z. B. eine E-Mail-Adresse am `@` - Symbol zersägen / zerlegen."
   ]
  },
  {
   "cell_type": "code",
   "execution_count": 5,
   "metadata": {
    "collapsed": true
   },
   "outputs": [],
   "source": [
    "mail = \"willy.wizard@zauberschule.de\"\n"
   ]
  },
  {
   "cell_type": "markdown",
   "metadata": {},
   "source": [
    "Korrekte Ausgabe:\n",
    "\n",
    "```\n",
    "willy.wizard\n",
    "```"
   ]
  },
  {
   "cell_type": "markdown",
   "metadata": {},
   "source": [
    "#### b.) Ziehe einen Namen aus einer Mailadresse der Form info@name.com\n",
    "\n",
    "Manchmal stehen die Namen bei einer Mailadresse auch erst hinter dem @-Zeichen. Gebe auch für solche Fälle die Namen aus; entferne dabei die Endung _.com_ bzw. _.de_. Du darfst dazu voraussetzen, dass innerhalb des Namens kein Punkt vorkommt. Wenn die Mailadresse also _info@Max-Mustermann.com_ lautet, sollst du _Max-Mustermann_ ausgeben.\n",
    "\n",
    "**Hinweis:** Es ist okay, wenn du für die Berechnung mehere `.split()` - Befehle benötigst, oder ein Ergebnis zwischenspeichern möchtest. Gerne kannst du auch den Code aus der Teilaufgabe `a)` hier mitverwenden."
   ]
  },
  {
   "cell_type": "code",
   "execution_count": 6,
   "metadata": {
    "collapsed": true
   },
   "outputs": [],
   "source": [
    "mail = \"info@helena-hexe.com\"\n",
    "\n",
    "# Berechne hier den hinteren Teil der gegebenen E-Mail - Adresse"
   ]
  },
  {
   "cell_type": "markdown",
   "metadata": {},
   "source": [
    "Korrekte Ausgabe:\n",
    "\n",
    "```\n",
    "helena-hexe\n",
    "```"
   ]
  },
  {
   "cell_type": "markdown",
   "metadata": {},
   "source": [
    "#### c.) Berechne: Wie viele Kunden gibt es im Online-Shop?\n",
    "\n",
    "Aktuell legen alle Kunden (`mail1`, `mail2`, `mail3`) als separate Variable vor. Wir möchten daraus jetzt eine Liste bauen, sodass wir die Möglichkeit hätten, später noch weitere Kunden in diese Liste hinzuzufügen.\n",
    "\n",
    "Überführe deswegen die Kunden `mail1`, `mail2` und `mail3` in die Liste `clients` und lasse dir anschließend die Anzahl der Elemente der Liste `clients` mit Hilfe von Python ausgeben."
   ]
  },
  {
   "cell_type": "code",
   "execution_count": 8,
   "metadata": {},
   "outputs": [
    {
     "name": "stdout",
     "output_type": "stream",
     "text": [
      "[]\n"
     ]
    }
   ],
   "source": [
    "mail1 = \"zarah.zauber@zauberberg.de\"\n",
    "mail2 = \"info@trixie-trickser.com\"\n",
    "mail3 = \"uwe_unhold@dunkelnetz.de\" \n",
    "\n",
    "clients = []\n",
    "\n",
    "# Füge hier mail1, mail2, mail3 zur clients - Liste hinzu\n",
    "\n",
    "print(clients)"
   ]
  },
  {
   "cell_type": "markdown",
   "metadata": {
    "scrolled": true
   },
   "source": [
    "Korrekte Ausgabe (braucht nicht farbig zu sein):\n",
    "\n",
    "```python\n",
    "['zarah.zauber@zauberberg.de', 'info@trixie-trickser.com', 'uwe_unhold@dunkelnetz.de']\n",
    "```"
   ]
  },
  {
   "cell_type": "code",
   "execution_count": 9,
   "metadata": {
    "collapsed": true
   },
   "outputs": [],
   "source": [
    "# Gebe hier die Anzahl der Elemente der Liste clients aus"
   ]
  },
  {
   "cell_type": "markdown",
   "metadata": {},
   "source": [
    "Gewünschte Ausgabe:\n",
    "\n",
    "```\n",
    "3\n",
    "```"
   ]
  },
  {
   "cell_type": "markdown",
   "metadata": {},
   "source": [
    "#### d.) Eine Mailadresse aus Strings zusammenbauen\n",
    "\n",
    "Plötzlich fällt der Mathemagierin ein, dass in der Liste _clients_ noch ihr wichtigster Onlineshop-Kunde fehlt. Die Infos zu ihm wurden bei einem misslungenen Trick in zwei Teile zersägt und liegen seitdem in der Liste `[\"Buehnenzauberer\", \"magic.com\"]` herum. \n",
    "\n",
    "Rekonstruiere mit Hilfe von Python die Mailadresse des Kunden (da fehlt ein `@` zwischen \"Buehnenzauberer\" und \"magic.com\") und gebe sie aus, damit sich der Onlineshop-Kundendienst nach seinem Wohlbefinden erkundigen kann."
   ]
  },
  {
   "cell_type": "code",
   "execution_count": 10,
   "metadata": {
    "collapsed": true
   },
   "outputs": [],
   "source": [
    "zauberer = [\"Buehnenzauberer\", \"magic.com\"]\n",
    "\n",
    "# Ergänze hier den Code"
   ]
  },
  {
   "cell_type": "markdown",
   "metadata": {},
   "source": [
    "Gewünschte Ausgabe:\n",
    "\n",
    "```\n",
    "Buehnenzauberer@magic.com\n",
    "```"
   ]
  },
  {
   "cell_type": "markdown",
   "metadata": {},
   "source": [
    "## Gut gemacht! :-)"
   ]
  },
  {
   "cell_type": "code",
   "execution_count": null,
   "metadata": {
    "collapsed": true
   },
   "outputs": [],
   "source": []
  }
 ],
 "metadata": {
  "kernelspec": {
   "display_name": "Python 3",
   "language": "python",
   "name": "python3"
  },
  "language_info": {
   "codemirror_mode": {
    "name": "ipython",
    "version": 3
   },
   "file_extension": ".py",
   "mimetype": "text/x-python",
   "name": "python",
   "nbconvert_exporter": "python",
   "pygments_lexer": "ipython3",
   "version": "3.6.3"
  }
 },
 "nbformat": 4,
 "nbformat_minor": 2
}
