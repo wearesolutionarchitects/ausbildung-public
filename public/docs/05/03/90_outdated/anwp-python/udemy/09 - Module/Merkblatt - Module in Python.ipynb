{
 "cells": [
  {
   "cell_type": "markdown",
   "metadata": {
    "collapsed": true
   },
   "source": [
    "## Module in Python\n",
    "\n",
    "In Python hast du die Möglichkeit, Code in Module zu packen, die du dann in verschiedenen Stellen verwenden kannst.\n",
    "\n",
    "Die Datei `hallo.py` besteht hierbei aus folgendem Inhalt:\n",
    "\n",
    "```python\n",
    "# hallo.py\n",
    "\n",
    "def welt():\n",
    "    print(\"Hallo Welt\")\n",
    "    \n",
    "def mars():\n",
    "    print(\"Hallo Mars\")\n",
    "```"
   ]
  },
  {
   "cell_type": "markdown",
   "metadata": {},
   "source": [
    "Wie können wir diese Datei jetzt einbinden?"
   ]
  },
  {
   "cell_type": "code",
   "execution_count": 1,
   "metadata": {},
   "outputs": [
    {
     "name": "stdout",
     "output_type": "stream",
     "text": [
      "Hallo Welt\n",
      "Hallo Mars\n"
     ]
    }
   ],
   "source": [
    "import hallo\n",
    "\n",
    "hallo.welt()\n",
    "hallo.mars()"
   ]
  },
  {
   "cell_type": "code",
   "execution_count": 3,
   "metadata": {},
   "outputs": [
    {
     "name": "stdout",
     "output_type": "stream",
     "text": [
      "Hallo Welt\n",
      "Hallo Mars\n"
     ]
    }
   ],
   "source": [
    "from hallo import welt, mars\n",
    "\n",
    "welt()\n",
    "mars()"
   ]
  },
  {
   "cell_type": "code",
   "execution_count": 4,
   "metadata": {
    "scrolled": true
   },
   "outputs": [
    {
     "name": "stdout",
     "output_type": "stream",
     "text": [
      "Hallo Welt\n",
      "Hallo Mars\n"
     ]
    }
   ],
   "source": [
    "from hallo import *\n",
    "\n",
    "welt()\n",
    "mars()"
   ]
  }
 ],
 "metadata": {
  "kernelspec": {
   "display_name": "Python 3",
   "language": "python",
   "name": "python3"
  },
  "language_info": {
   "codemirror_mode": {
    "name": "ipython",
    "version": 3
   },
   "file_extension": ".py",
   "mimetype": "text/x-python",
   "name": "python",
   "nbconvert_exporter": "python",
   "pygments_lexer": "ipython3",
   "version": "3.7.6"
  }
 },
 "nbformat": 4,
 "nbformat_minor": 2
}
