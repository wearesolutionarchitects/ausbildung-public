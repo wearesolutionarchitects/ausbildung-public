{
 "cells": [
  {
   "cell_type": "markdown",
   "metadata": {},
   "source": [
    "# Vorstellung weiteres Modul: CSV\n",
    "\n",
    "In dieser Lektion lernst du, wie du:\n",
    "\n",
    "- mit dem Python Module - Index umgehst (https://docs.python.org/3/py-modindex.html)\n",
    "- mit Moduls noch komfortabler .csv-Dateien einlesen kannst am Beispiel des CSV. "
   ]
  },
  {
   "cell_type": "code",
   "execution_count": 3,
   "metadata": {},
   "outputs": [
    {
     "name": "stdout",
     "output_type": "stream",
     "text": [
      "3.6.1 |Anaconda 4.4.0 (x86_64)| (default, May 11 2017, 13:04:09) \n",
      "[GCC 4.2.1 Compatible Apple LLVM 6.0 (clang-600.0.57)]\n"
     ]
    }
   ],
   "source": [
    "import sys\n",
    "print(sys.version)"
   ]
  },
  {
   "cell_type": "code",
   "execution_count": 7,
   "metadata": {},
   "outputs": [
    {
     "name": "stdout",
     "output_type": "stream",
     "text": [
      "['Name', 'Telefonnummer', 'Land']\n",
      "['Müller', '+49123456789', 'Deutschland']\n",
      "['Mustermann', '+3612345678', 'Ungarn']\n"
     ]
    }
   ],
   "source": [
    "import csv\n",
    "with open(\"datei.csv\", newline='') as file:\n",
    "    csv_file = csv.reader(file, delimiter=\",\")\n",
    "    for line in csv_file:\n",
    "        print(line)"
   ]
  },
  {
   "cell_type": "code",
   "execution_count": 14,
   "metadata": {},
   "outputs": [
    {
     "name": "stdout",
     "output_type": "stream",
     "text": [
      "['Müller', 'Hallo Welt', 'Hallo;Welt']\n",
      "['Müller', 'Hallo Welt', 'Hallo-Welt']\n"
     ]
    }
   ],
   "source": [
    "import csv\n",
    "with open(\"fromexcel.csv\", newline='') as file:\n",
    "    csv_file = csv.reader(file, delimiter=\";\", quotechar='\"')\n",
    "    for line in csv_file:\n",
    "        print(line)"
   ]
  },
  {
   "cell_type": "code",
   "execution_count": null,
   "metadata": {
    "collapsed": true
   },
   "outputs": [],
   "source": []
  }
 ],
 "metadata": {
  "kernelspec": {
   "display_name": "Python 3",
   "language": "python",
   "name": "python3"
  },
  "language_info": {
   "codemirror_mode": {
    "name": "ipython",
    "version": 3
   },
   "file_extension": ".py",
   "mimetype": "text/x-python",
   "name": "python",
   "nbconvert_exporter": "python",
   "pygments_lexer": "ipython3",
   "version": "3.6.3"
  }
 },
 "nbformat": 4,
 "nbformat_minor": 2
}
