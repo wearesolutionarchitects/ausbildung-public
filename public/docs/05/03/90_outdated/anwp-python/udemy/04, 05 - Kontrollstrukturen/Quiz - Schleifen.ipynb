{
 "cells": [
  {
   "cell_type": "markdown",
   "metadata": {},
   "source": [
    "## Quiz: Schleifen"
   ]
  },
  {
   "cell_type": "markdown",
   "metadata": {},
   "source": [
    "#### Aufgabe 1\n",
    "\n",
    "Wie prüfst du, ob das Element `\"Treffer\"` in folgender Liste enthalten ist?\n",
    "\n",
    "```python\n",
    "liste = [\"Fail\", \"Fail\", \"Treffer\", \"Fail\", \"Volltreffer\"]\n",
    "```\n",
    "\n",
    "- A) `\"Treffer\" in liste`\n",
    "- B) `\"Volltreffer\" in liste`\n",
    "- C) `liste.included(\"Treffer\")`\n",
    "- D) `liste in \"Treffer\"`"
   ]
  },
  {
   "cell_type": "markdown",
   "metadata": {},
   "source": [
    "Richtige Lösung: "
   ]
  },
  {
   "cell_type": "markdown",
   "metadata": {},
   "source": [
    "#### Aufgabe 2\n",
    "\n",
    "2.) Wie lautet in Python die Kurzschreibweise von else if?\n",
    "\n",
    "- A) `elseif`\n",
    "- B) `elsif`\n",
    "- C) `elif`\n",
    "- D) `elsf`"
   ]
  },
  {
   "cell_type": "code",
   "execution_count": null,
   "metadata": {
    "collapsed": true
   },
   "outputs": [],
   "source": [
    "Richtige Lösung: "
   ]
  },
  {
   "cell_type": "markdown",
   "metadata": {},
   "source": [
    "#### Aufgabe 3\n",
    "\n",
    "Wie häufig wird folgende `for` - Schleife durchlaufen?\n",
    "\n",
    "```python\n",
    "for i in range(1, 10):\n",
    "    print(i)\n",
    "```\n",
    "\n",
    "- A) 10 mal\n",
    "- B) 11 mal\n",
    "- C) 8 mal\n",
    "- D) 9 mal"
   ]
  },
  {
   "cell_type": "markdown",
   "metadata": {},
   "source": [
    "Richtige Lösung: "
   ]
  },
  {
   "cell_type": "markdown",
   "metadata": {},
   "source": [
    "#### Aufgabe 4\n",
    "\n",
    "Worauf musst du beim Verwenden einer `while` - Schleife auf jeden Fall achten?\n",
    "\n",
    "- A) die Schleifenbedingung in Klammern zu setzen\n",
    "- B) dass die Schleife terminiert, sich also keine Endlosschleife bildet\n",
    "- C) die Schleife durch das Signalwort `stop` zu beenden, insbesondere muss hinter `stop` auch immer ein Semikolon stehen\n",
    "- D) den Code-Block in geschweifte Klammern zu setzen"
   ]
  },
  {
   "cell_type": "markdown",
   "metadata": {},
   "source": [
    "Richtige Lösung: "
   ]
  }
 ],
 "metadata": {
  "kernelspec": {
   "display_name": "Python 3",
   "language": "python",
   "name": "python3"
  },
  "language_info": {
   "codemirror_mode": {
    "name": "ipython",
    "version": 3
   },
   "file_extension": ".py",
   "mimetype": "text/x-python",
   "name": "python",
   "nbconvert_exporter": "python",
   "pygments_lexer": "ipython3",
   "version": "3.6.3"
  }
 },
 "nbformat": 4,
 "nbformat_minor": 2
}
