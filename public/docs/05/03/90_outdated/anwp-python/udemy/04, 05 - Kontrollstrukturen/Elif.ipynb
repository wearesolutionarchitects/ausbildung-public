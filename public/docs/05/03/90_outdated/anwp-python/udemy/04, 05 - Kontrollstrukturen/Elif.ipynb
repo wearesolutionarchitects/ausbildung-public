{
 "cells": [
  {
   "cell_type": "markdown",
   "metadata": {},
   "source": [
    "# elif - noch mehr Entscheidungen\n",
    "Wir können in einer if-else-Struktur nur zwei Fälle abfragen, nämlich, ob eine Bedingung wahr ist (True) oder nicht (False). Wenn wir ein Entscheidungsmodell programmieren wollen, in dem noch mehr Bedingungen gecheckt werden sollen, müssen wir bislang mehrere if-else-Strukturen ineinander verschachteln. "
   ]
  },
  {
   "cell_type": "code",
   "execution_count": 3,
   "metadata": {},
   "outputs": [
    {
     "name": "stdout",
     "output_type": "stream",
     "text": [
      "Euro\n"
     ]
    }
   ],
   "source": [
    "currency = \"€\"\n",
    "\n",
    "if currency == \"$\":\n",
    "    print(\"US-Dollar\")\n",
    "else:\n",
    "    if currency == \"¥\":\n",
    "        print(\"Japanischer Yen\")\n",
    "    else:\n",
    "        if currency == \"€\":\n",
    "            print(\"Euro\")\n",
    "        else:\n",
    "            if currency == \"฿\":\n",
    "                print(\"Thai Baht\")"
   ]
  },
  {
   "cell_type": "markdown",
   "metadata": {},
   "source": [
    "Durch die Erweiterung um elif können wir innerhalb einer if-else-Struktur beliebig viele Bedingungen checken. \n",
    "\n",
    "elif ist die Kurzfassung von else if: Eine elif-Option deckt also den Fall ab, dass die if-Bedingung nicht erfüllt (False) ist, aber eine weitere Bedingung True ist."
   ]
  },
  {
   "cell_type": "code",
   "execution_count": 1,
   "metadata": {},
   "outputs": [
    {
     "name": "stdout",
     "output_type": "stream",
     "text": [
      "Sonst\n"
     ]
    }
   ],
   "source": [
    "currency = \"HKD\"\n",
    "\n",
    "if currency == \"$\":\n",
    "    print(\"US-Dollar\")\n",
    "elif currency == \"¥\":\n",
    "    print(\"Japanischer Yen\")\n",
    "elif currency == \"€\":\n",
    "    print(\"Euro\")\n",
    "elif currency == \"฿\":\n",
    "    print(\"Thai Baht\")\n",
    "else:\n",
    "    print(\"Sonst\")"
   ]
  },
  {
   "cell_type": "markdown",
   "metadata": {},
   "source": [
    "### Spiel doch jetzt ein wenig mit dem, was du gelernt hast, herum:\n",
    "- Baue selbst eine if-elif-else-Struktur! :-)"
   ]
  },
  {
   "cell_type": "code",
   "execution_count": null,
   "metadata": {
    "collapsed": true
   },
   "outputs": [],
   "source": [
    "\n",
    "\n",
    "\n"
   ]
  }
 ],
 "metadata": {
  "kernelspec": {
   "display_name": "Python 3",
   "language": "python",
   "name": "python3"
  },
  "language_info": {
   "codemirror_mode": {
    "name": "ipython",
    "version": 3
   },
   "file_extension": ".py",
   "mimetype": "text/x-python",
   "name": "python",
   "nbconvert_exporter": "python",
   "pygments_lexer": "ipython3",
   "version": "3.6.3"
  }
 },
 "nbformat": 4,
 "nbformat_minor": 2
}
