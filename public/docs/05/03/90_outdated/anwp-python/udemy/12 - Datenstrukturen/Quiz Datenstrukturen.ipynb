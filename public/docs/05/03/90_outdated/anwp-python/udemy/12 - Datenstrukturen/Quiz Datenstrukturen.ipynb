{
 "cells": [
  {
   "cell_type": "markdown",
   "metadata": {},
   "source": [
    "## Quiz Datenstrukturen\n",
    "\n",
    "Die Wahl der richtigen Datenstruktur entscheidet oft darüber, ob ein Programm schnell durchläuft oder nicht. Daher möchten wir das in diesem Quiz nochmal kurz wiederholen. :-)"
   ]
  },
  {
   "cell_type": "markdown",
   "metadata": {},
   "source": [
    "#### Aufgabe 1: Welche Datenstruktur?\n",
    "\n",
    "Du möchtest einer Postleitzahl einen Ort zuordnen, also z. B. 81369 = München, 94032 = Passau, etc. Jede Postleitzahl kommt nur einmal vor. \n",
    "\n",
    "Später möchtest du in der Lage sein, zu ermitteln, welcher Ort zu einer Postleitzahl gehört. Beispielsweise soll der Benutzer 81369 eingeben können, und das Programm soll für den Ort automatisch \"München\" ergänzen.\n",
    "\n",
    "Welche Datenstruktur bietet sich hier an?\n",
    "\n",
    "- A) Liste\n",
    "- B) Dictionary\n",
    "- C) Set\n",
    "- D) Tupel"
   ]
  },
  {
   "cell_type": "markdown",
   "metadata": {},
   "source": [
    "Richtige Antwort: "
   ]
  },
  {
   "cell_type": "markdown",
   "metadata": {},
   "source": [
    "#### Aufgabe 2: Welche Datenstruktur?\n",
    "\n",
    "Du möchtest ein Programm schreiben, in dem du Städte von Europa erfassen kannst. Jede Stadt darf hierbei nur einmal vorkommen, wenn also z. B. \"München\" schon erfasst wurde, soll \"München\" nicht nochmal erfasst werden können.\n",
    "\n",
    "Welche Datenstruktur bietet sich hier an?\n",
    "\n",
    "- A) Liste\n",
    "- B) Dictionary\n",
    "- C) Set\n",
    "- D) Tupel"
   ]
  },
  {
   "cell_type": "markdown",
   "metadata": {},
   "source": [
    "Richtige Antwort: "
   ]
  },
  {
   "cell_type": "markdown",
   "metadata": {},
   "source": [
    "#### Aufgabe 3: Welche Datenstruktur?\n",
    "\n",
    "Du wurdest beauftragt, für einen Online-Shop alle Bestellungen in einer Datenstruktur zwischenzuspeichern, damit du einen Report generieren kannst, der später ausgedruckt wird. \n",
    "\n",
    "Die Daten kommen ursprünglich bereits sortiert aus einer Datenbank. Diese Sortierung soll beibehalten werden.\n",
    "\n",
    "Es wird keine Suche nach Bestell-ID, Kunde, etc. benötigt. Du musst alle Bestellungen nur temporär zwischenspeichern, damit du die Auswertung generieren kannst (alle nacheinander ausdrucken). Irgendwelche zusätzlichen Abfragen werden nicht benötigt.\n",
    "\n",
    "Welche Datenstruktur bietet sich hier an?\n",
    "\n",
    "- A) Liste\n",
    "- B) Dictionary\n",
    "- C) Set\n",
    "- D) Tupel"
   ]
  },
  {
   "cell_type": "markdown",
   "metadata": {},
   "source": [
    "Richtige Antwort: "
   ]
  },
  {
   "cell_type": "markdown",
   "metadata": {},
   "source": [
    "#### Aufgabe 4: Welche Datenstruktur?\n",
    "\n",
    "Du hast eine Funktion geschrieben und möchtest mehrere Werte (immer die gleichen, z. B. Vorname, Nachname, Alter) eines Kunden zurückgeben. Welche Datenstruktur würdest du hier zurückgeben?\n",
    "\n",
    "\n",
    "- A) Liste\n",
    "- B) Dictionary\n",
    "- C) Set\n",
    "- D) Tupel"
   ]
  },
  {
   "cell_type": "markdown",
   "metadata": {},
   "source": [
    "Richtige Antwort: "
   ]
  },
  {
   "cell_type": "code",
   "execution_count": null,
   "metadata": {
    "collapsed": true
   },
   "outputs": [],
   "source": []
  }
 ],
 "metadata": {
  "kernelspec": {
   "display_name": "Python 3",
   "language": "python",
   "name": "python3"
  },
  "language_info": {
   "codemirror_mode": {
    "name": "ipython",
    "version": 3
   },
   "file_extension": ".py",
   "mimetype": "text/x-python",
   "name": "python",
   "nbconvert_exporter": "python",
   "pygments_lexer": "ipython3",
   "version": "3.6.3"
  }
 },
 "nbformat": 4,
 "nbformat_minor": 2
}
