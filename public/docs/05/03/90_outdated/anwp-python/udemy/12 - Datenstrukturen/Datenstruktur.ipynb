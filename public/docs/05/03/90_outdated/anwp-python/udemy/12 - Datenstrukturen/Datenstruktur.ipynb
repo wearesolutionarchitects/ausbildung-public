{
 "cells": [
  {
   "cell_type": "markdown",
   "metadata": {},
   "source": [
    "## Datenstrukturen in Python\n",
    "\n",
    "Du hast jetzt schon 2 Datenstrukturen in Python kennengelernt:\n",
    "\n",
    "- Listen: `liste = [\"Hallo\", \"Welt\"]`\n",
    "- Dictionaries: `d = {\"Hallo\": 5, \"Welt\": 4}`\n",
    "\n",
    "Es gibt aber auch noch weitere... In dieser Lektion lernst du das Set kennen!"
   ]
  },
  {
   "cell_type": "code",
   "execution_count": 7,
   "metadata": {},
   "outputs": [
    {
     "name": "stdout",
     "output_type": "stream",
     "text": [
      "['Hallo', 'Welt', 'Mars']\n"
     ]
    }
   ],
   "source": [
    "s = [\"Hallo\", \"Welt\"]\n",
    "s.append(\"Mars\")\n",
    "print(s)"
   ]
  },
  {
   "cell_type": "code",
   "execution_count": 9,
   "metadata": {},
   "outputs": [
    {
     "name": "stdout",
     "output_type": "stream",
     "text": [
      "{'Mars', 'Welt', 'Hallo'}\n"
     ]
    }
   ],
   "source": [
    "s = {\"Hallo\", \"Welt\"}\n",
    "s.add(\"Mars\")\n",
    "print(s)"
   ]
  },
  {
   "cell_type": "code",
   "execution_count": 11,
   "metadata": {},
   "outputs": [
    {
     "name": "stdout",
     "output_type": "stream",
     "text": [
      "{'Mars', 'Welt', 'Hallo'}\n"
     ]
    }
   ],
   "source": [
    "s.add(\"Mars\")\n",
    "print(s)"
   ]
  },
  {
   "cell_type": "code",
   "execution_count": 12,
   "metadata": {},
   "outputs": [
    {
     "name": "stdout",
     "output_type": "stream",
     "text": [
      "Mars ist im Set\n"
     ]
    }
   ],
   "source": [
    "if \"Mars\" in s:\n",
    "    print(\"Mars ist im Set\")"
   ]
  },
  {
   "cell_type": "code",
   "execution_count": 17,
   "metadata": {
    "scrolled": true
   },
   "outputs": [
    {
     "name": "stdout",
     "output_type": "stream",
     "text": [
      "{'Mars', 'Welt', 'Hallo'}\n",
      "3\n"
     ]
    }
   ],
   "source": [
    "text = \"Hallo Welt Hallo Mars Hallo Welt\"\n",
    "words = set()\n",
    "for word in text.split(\" \"):\n",
    "    words.add(word)\n",
    "print(words)\n",
    "print(len(words))"
   ]
  },
  {
   "cell_type": "code",
   "execution_count": null,
   "metadata": {
    "collapsed": true
   },
   "outputs": [],
   "source": []
  }
 ],
 "metadata": {
  "kernelspec": {
   "display_name": "Python 3",
   "language": "python",
   "name": "python3"
  },
  "language_info": {
   "codemirror_mode": {
    "name": "ipython",
    "version": 3
   },
   "file_extension": ".py",
   "mimetype": "text/x-python",
   "name": "python",
   "nbconvert_exporter": "python",
   "pygments_lexer": "ipython3",
   "version": "3.6.1"
  }
 },
 "nbformat": 4,
 "nbformat_minor": 2
}
