{
 "cells": [
  {
   "cell_type": "markdown",
   "metadata": {},
   "source": [
    "## Elemente im HTML finden\n",
    "\n",
    "In dieser Lektion lernst du:\n",
    "\n",
    "- Wie du aus einer .html-Datei Informationen extrahieren kannst\n",
    "\n",
    "Dazu zerlegen wir mit BeautifulSoup (https://www.crummy.com/software/BeautifulSoup/bs4/doc/) die .html-Datei!"
   ]
  },
  {
   "cell_type": "code",
   "execution_count": 8,
   "metadata": {
    "collapsed": true
   },
   "outputs": [],
   "source": [
    "# Zuerst holen wir uns unsere Seite, die wir eigentlich einlesen wollten...\n",
    "\n",
    "import requests\n",
    "r = requests.get(\"http://python.beispiel.programmierenlernen.io/index.php\")"
   ]
  },
  {
   "cell_type": "code",
   "execution_count": 10,
   "metadata": {
    "collapsed": true
   },
   "outputs": [],
   "source": [
    "from bs4 import BeautifulSoup"
   ]
  },
  {
   "cell_type": "code",
   "execution_count": 26,
   "metadata": {
    "collapsed": true
   },
   "outputs": [],
   "source": [
    "html = \"\"\"\n",
    "    <html>\n",
    "        <body>\n",
    "            <p class=\"something\">Ich bin ein Absatz!</p>\n",
    "            <p>Ich bin noch ein Absatz</p>\n",
    "        </body>\n",
    "    </html>\n",
    "\"\"\"\n",
    "\n",
    "doc = BeautifulSoup(html, \"html.parser\")"
   ]
  },
  {
   "cell_type": "code",
   "execution_count": 29,
   "metadata": {},
   "outputs": [
    {
     "name": "stdout",
     "output_type": "stream",
     "text": [
      "{'class': ['something']}\n",
      "Ich bin ein Absatz!\n",
      "{}\n",
      "Ich bin noch ein Absatz\n"
     ]
    }
   ],
   "source": [
    "for p in doc.find_all(\"p\"):\n",
    "    print(p.attrs)\n",
    "    print(p.text)"
   ]
  },
  {
   "cell_type": "code",
   "execution_count": null,
   "metadata": {
    "collapsed": true
   },
   "outputs": [],
   "source": []
  }
 ],
 "metadata": {
  "kernelspec": {
   "display_name": "Python 3",
   "language": "python",
   "name": "python3"
  },
  "language_info": {
   "codemirror_mode": {
    "name": "ipython",
    "version": 3
   },
   "file_extension": ".py",
   "mimetype": "text/x-python",
   "name": "python",
   "nbconvert_exporter": "python",
   "pygments_lexer": "ipython3",
   "version": "3.6.3"
  }
 },
 "nbformat": 4,
 "nbformat_minor": 2
}
