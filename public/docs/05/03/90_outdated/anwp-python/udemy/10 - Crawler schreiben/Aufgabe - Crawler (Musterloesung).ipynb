{
 "cells": [
  {
   "cell_type": "markdown",
   "metadata": {},
   "source": [
    "## Aufgabe: Crawler\n",
    "\n",
    "**Aufgabe:**\n",
    "\n",
    "- Passe den ArticleFetcher so an, dass er die Informationen aus allen Seiten extrahiert!\n",
    "\n",
    "Hier nochmal die URL: http://python.beispiel.programmierenlernen.io/index.php\n",
    "\n",
    "**Tipps:**\n",
    "\n",
    "- Schau dir zuerst an, wie du den Button \"Zur nächsten Seite\" ansteuern kannst.\n",
    "- Wie greifst du von Python aus auf das \"href\"-Attribut dieses Buttons zu?\n",
    "- (Optional): Probier ggf. zuerst, nur die Infos der ersten 2 Seiten zu holen. Kannst du darauf aufbauend das Programm verallgemeinern, sodass es alle Seiten einliest?\n",
    "- Du kannst dich daran orientieren, ob es einen \"Zur nächsten Seite\"-Button gibt, oder nicht. Wenn es diesen Button nicht mehr gibt, bist du auf der letzten Seite angelangt. Welcher Schleifentyp bietet sich hier an, wenn du die Schleife erst dann stoppen willst, wenn es den Button nicht mehr gibt?"
   ]
  },
  {
   "cell_type": "code",
   "execution_count": 12,
   "metadata": {
    "collapsed": true
   },
   "outputs": [],
   "source": [
    "import requests\n",
    "from bs4 import BeautifulSoup\n",
    "from urllib.parse import urljoin\n",
    "import time"
   ]
  },
  {
   "cell_type": "code",
   "execution_count": 20,
   "metadata": {
    "collapsed": true
   },
   "outputs": [],
   "source": [
    "class CrawledArticle():\n",
    "    def __init__(self, title, emoji, content, image):\n",
    "        self.title = title\n",
    "        self.emoji = emoji\n",
    "        self.content = content\n",
    "        self.image = image\n",
    "        \n",
    "class ArticleFetcher():\n",
    "    def fetch(self):\n",
    "        url = \"http://python.beispiel.programmierenlernen.io/index.php\"\n",
    "        articles = []\n",
    "        \n",
    "        while url != \"\":\n",
    "            print(url)\n",
    "            time.sleep(1)\n",
    "            r = requests.get(url)\n",
    "            doc = BeautifulSoup(r.text, \"html.parser\")\n",
    "            \n",
    "            for card in doc.select(\".card\"):\n",
    "                emoji = card.select_one(\".emoji\").text\n",
    "                content = card.select_one(\".card-text\").text\n",
    "                title = card.select(\".card-title span\")[1].text\n",
    "                image = urljoin(url, card.select_one(\"img\").attrs[\"src\"])\n",
    "\n",
    "                crawled = CrawledArticle(title, emoji, content, image)\n",
    "                articles.append(crawled)\n",
    "\n",
    "            next_button = doc.select_one(\".navigation .btn\")\n",
    "            if next_button:\n",
    "                next_href = next_button.attrs[\"href\"]\n",
    "                next_href = urljoin(url, next_href)            \n",
    "                url = next_href\n",
    "            else:\n",
    "                url = \"\"\n",
    "        \n",
    "        return articles"
   ]
  },
  {
   "cell_type": "code",
   "execution_count": 21,
   "metadata": {},
   "outputs": [
    {
     "name": "stdout",
     "output_type": "stream",
     "text": [
      "http://python.beispiel.programmierenlernen.io/index.php\n",
      "http://python.beispiel.programmierenlernen.io/index.php?page=2\n",
      "http://python.beispiel.programmierenlernen.io/index.php?page=3\n",
      "http://python.beispiel.programmierenlernen.io/index.php?page=4\n",
      "http://python.beispiel.programmierenlernen.io/index.php?page=5\n",
      "http://python.beispiel.programmierenlernen.io/index.php?page=6\n",
      "😩: Polarised modular conglomeration\n",
      "😐: Cross-group contextually-based middleware\n",
      "😌: De-engineered encompassing structure\n",
      "😚: Fully-configurable multi-tasking interface\n",
      "😠: Versatile eco-centric core\n",
      "😮: Optional maximized utilisation\n",
      "😢: Open-architected secondary product\n",
      "😠: Realigned zerotolerance function\n",
      "😆: Quality-focused user-facing help-desk\n",
      "😤: Proactive user-facing opensystem\n",
      "😟: Decentralized holistic moderator\n",
      "😌: Mandatory tangible application\n",
      "😓: Digitized dedicated budgetarymanagement\n",
      "😞: Organized well-modulated concept\n",
      "😢: Balanced optimal openarchitecture\n",
      "😏: Universal explicit throughput\n",
      "😳: Polarised mobile algorithm\n",
      "😚: Mandatory homogeneous infrastructure\n",
      "😲: Business-focused interactive implementation\n",
      "😯: Polarised exuding archive\n",
      "😵: Extended homogeneous firmware\n",
      "😋: Secured transitional capability\n",
      "😴: Expanded clear-thinking forecast\n",
      "😇: Grass-roots assymetric interface\n",
      "😈: Inverse static service-desk\n",
      "😝: Optional object-oriented toolset\n",
      "😧: Optional stable service-desk\n",
      "😈: Virtual background systemengine\n",
      "😶: Balanced human-resource extranet\n",
      "😄: Expanded bi-directional encryption\n",
      "😩: Sharable client-driven groupware\n",
      "😬: Monitored even-keeled initiative\n",
      "😈: Inverse maximized benchmark\n",
      "😊: Front-line full-range help-desk\n",
      "😅: Integrated impactful matrices\n",
      "😄: Cross-platform composite data-warehouse\n",
      "😴: Grass-roots systemic support\n",
      "😂: Secured 3rdgeneration intranet\n",
      "😕: Persistent composite firmware\n",
      "😊: Upgradable multimedia benchmark\n",
      "😦: Organized fresh-thinking utilisation\n"
     ]
    }
   ],
   "source": [
    "fetcher = ArticleFetcher()\n",
    "for article in fetcher.fetch():\n",
    "    print(article.emoji + \": \" + article.title)"
   ]
  },
  {
   "cell_type": "code",
   "execution_count": null,
   "metadata": {
    "collapsed": true
   },
   "outputs": [],
   "source": []
  }
 ],
 "metadata": {
  "kernelspec": {
   "display_name": "Python 3",
   "language": "python",
   "name": "python3"
  },
  "language_info": {
   "codemirror_mode": {
    "name": "ipython",
    "version": 3
   },
   "file_extension": ".py",
   "mimetype": "text/x-python",
   "name": "python",
   "nbconvert_exporter": "python",
   "pygments_lexer": "ipython3",
   "version": "3.6.3"
  }
 },
 "nbformat": 4,
 "nbformat_minor": 2
}
