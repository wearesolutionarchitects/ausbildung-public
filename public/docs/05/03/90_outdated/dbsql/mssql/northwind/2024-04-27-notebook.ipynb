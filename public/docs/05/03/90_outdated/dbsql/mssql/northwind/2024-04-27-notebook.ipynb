{
    "cells": [
        {
            "cell_type": "markdown",
            "metadata": {
                "azdata_cell_guid": "0e0058f7-9c7e-4517-a7fd-a3d67457d230"
            },
            "source": [
                "Am Anfang Rücksicherung der Ursprungs-Datei von Markus Trefzer aus dem Backupverzeichnis in der virtuellen oder lokalen Maschine:"
            ]
        },
        {
            "cell_type": "code",
            "execution_count": null,
            "metadata": {
                "azdata_cell_guid": "7f145e35-f7ff-41de-8ec1-3b9168266057",
                "language": "sql",
                "vscode": {
                    "languageId": "sql"
                }
            },
            "outputs": [],
            "source": [
                "USE master"
            ]
        },
        {
            "cell_type": "code",
            "execution_count": null,
            "metadata": {
                "azdata_cell_guid": "a204918b-94dc-4e68-8e7f-859a55586682",
                "language": "sql",
                "vscode": {
                    "languageId": "sql"
                }
            },
            "outputs": [],
            "source": [
                "ALTER DATABASE Northwind\n",
                "SET SINGLE_USER\n",
                "WITH ROLLBACK IMMEDIATE"
            ]
        },
        {
            "cell_type": "code",
            "execution_count": null,
            "metadata": {
                "azdata_cell_guid": "bcad7b73-85e3-40c3-a9bb-3efe733d4b08",
                "language": "sql",
                "vscode": {
                    "languageId": "sql"
                }
            },
            "outputs": [],
            "source": [
                "RESTORE DATABASE Northwind\n",
                "FROM DISK = 'C:\\\\Backup\\\\northwind_30_11_2020.bak'\n",
                "WITH REPLACE"
            ]
        },
        {
            "cell_type": "code",
            "execution_count": null,
            "metadata": {
                "azdata_cell_guid": "99c18dc0-049b-4ffa-ab9d-1a0d3f780dbd",
                "language": "sql",
                "vscode": {
                    "languageId": "sql"
                }
            },
            "outputs": [],
            "source": [
                "ALTER DATABASE Northwind\n",
                "SET MULTI_USER"
            ]
        },
        {
            "cell_type": "code",
            "execution_count": null,
            "metadata": {
                "azdata_cell_guid": "e6537750-b116-4eb6-b8ef-8c002518cedd",
                "language": "sql",
                "vscode": {
                    "languageId": "sql"
                }
            },
            "outputs": [],
            "source": [
                "USE Northwind"
            ]
        },
        {
            "cell_type": "markdown",
            "metadata": {
                "azdata_cell_guid": "927fbfd2-3a3a-45d4-9cf8-1fdf0030d0e9"
            },
            "source": [
                "Aufgabe 1.1: Erweitern der Tabelle Customers um die Spalten \"Firstname\" und \"Lastname\""
            ]
        },
        {
            "cell_type": "code",
            "execution_count": null,
            "metadata": {
                "azdata_cell_guid": "2cb0fe07-5ce0-4d58-b9fd-1731ee4835bd",
                "language": "sql",
                "vscode": {
                    "languageId": "sql"
                }
            },
            "outputs": [],
            "source": [
                "ALTER TABLE Customers\n",
                "ADD FirstName varchar(255), LastName varchar(255)"
            ]
        },
        {
            "cell_type": "markdown",
            "metadata": {
                "azdata_cell_guid": "fb6304e3-256e-4b19-8c79-68e27093ec44"
            },
            "source": [
                "Dieser T-SQL-Befehl fügt der `Customers` Tabelle in der `northwind` Datenbank zwei neue Spalten hinzu. Der Befehl `USE northwind` wechselt zur Northwind-Datenbank. `ALTER TABLE Customers` bereitet die `Customers` Tabelle auf eine Änderung vor. `ADD Firstname varchar(255), Lastname varchar(255)` fügt zwei neue Spalten `Firstname` und `Lastname` hinzu, beide vom Typ `varchar(255)`, was bedeutet, dass sie Text bis zu 255 Zeichen speichern können."
            ]
        },
        {
            "cell_type": "markdown",
            "metadata": {
                "azdata_cell_guid": "a8b4d1fd-1325-4095-948f-8e198b821cb3"
            },
            "source": [
                "Aufgabe 1.2: Aktualisierung der Spalte Firstname aus den Zeichen aus der Spalte ContactName bis zum Leerzeichen, Aktualisierung der Spalte Lastename aus den Zeichen aus der Spalte ContactName ab dem Leerzeichen."
            ]
        },
        {
            "cell_type": "code",
            "execution_count": null,
            "metadata": {
                "azdata_cell_guid": "543ed0d4-a93f-47d5-bf06-a9b6450a2623",
                "language": "sql",
                "vscode": {
                    "languageId": "sql"
                }
            },
            "outputs": [],
            "source": [
                "UPDATE Customers \t\t\t\t\t\t\t\t\t\t\t\n",
                "SET\tFirstName = SUBSTRING(ContactName, 1, CHARINDEX(' ', ContactName) - 1),\tLastName = SUBSTRING(ContactName, CHARINDEX(' ', ContactName) + 1, LEN(ContactName)) WHERE ContactName LIKE '% %'"
            ]
        },
        {
            "cell_type": "markdown",
            "metadata": {
                "azdata_cell_guid": "611cac87-f56f-4d8d-9eec-243116394510"
            },
            "source": [
                "Dieser T-SQL-Befehl aktualisiert die `FirstName` und `LastName` Spalten in der `Customers` Tabelle.  \n",
                "- `UPDATE Customers` bereitet die `Customers` Tabelle auf eine Aktualisierung vor.  \n",
                "- `SET FirstName = SUBSTRING(ContactName, 1, CHARINDEX(' ', ContactName) - 1), LastName = SUBSTRING(ContactName, CHARINDEX(' ', ContactName) + 1, LEN(ContactName))` teilt den `ContactName` an der Stelle des ersten Leerzeichens auf und setzt `FirstName` auf den Teil vor dem Leerzeichen und `LastName` auf den Teil danach.  \n",
                "- `WHERE ContactName LIKE '% %'` beschränkt die Aktualisierung auf Zeilen, in denen `ContactName` mindestens ein Leerzeichen enthält.  \n",
                "Insgesamt teilt dieser Befehl den `ContactName` in `FirstName` und `LastName` auf, vorausgesetzt, der `ContactName` enthält mindestens ein Leerzeichen."
            ]
        },
        {
            "cell_type": "markdown",
            "metadata": {
                "azdata_cell_guid": "6522ece9-859c-406b-8f98-251ee96609eb"
            },
            "source": [
                "Aufgabe 2.1: Ergänzung der Tabelle Customers um den neuen Fremdschlüssel PostalCodeID"
            ]
        },
        {
            "cell_type": "code",
            "execution_count": null,
            "metadata": {
                "azdata_cell_guid": "4e2a5e20-2278-40e8-ba2c-447c4bea9335",
                "language": "sql",
                "vscode": {
                    "languageId": "sql"
                }
            },
            "outputs": [],
            "source": [
                "ALTER TABLE Customers\n",
                "ADD PostalCodeID INT"
            ]
        },
        {
            "cell_type": "markdown",
            "metadata": {
                "azdata_cell_guid": "d2921ba5-ae5c-44b5-abb0-e73c2ceb4d19"
            },
            "source": [
                "Dieser T-SQL-Befehl fügt der `Customers` Tabelle eine neue Spalte namens `PostalCodeID` hinzu.  \n",
                "- `ALTER TABLE Customers` bereitet die `Customers` Tabelle auf eine Änderung vor.  \n",
                "- `ADD PostalCodeID INT` fügt eine neue Spalte `PostalCodeID` vom Datentyp `INT` (Integer) hinzu.  \n",
                "Insgesamt fügt dieser Befehl der `Customers` Tabelle eine neue Spalte `PostalCodeID` hinzu, in der Ganzzahlen gespeichert werden können."
            ]
        },
        {
            "cell_type": "markdown",
            "metadata": {
                "azdata_cell_guid": "e4030572-7d65-4a6b-a2f8-1d0989722ecb"
            },
            "source": [
                "Aufgabe 2.2: Abbildung von PostalCode, City,  Region und Country mit einem Fremdschlüssel (foreign key) -\\> mit anschließender Tabellenerstellungsabfrage SELECT INTO in Kombination mit der GROUP BY ANWEISUNG und HAVING mit der Bedingung PostalCode IS NOT NULL."
            ]
        },
        {
            "cell_type": "code",
            "execution_count": null,
            "metadata": {
                "azdata_cell_guid": "d3fa6d88-dbd1-4ed1-8cde-3231f4e6edd2",
                "language": "sql",
                "vscode": {
                    "languageId": "sql"
                }
            },
            "outputs": [],
            "source": [
                "SELECT PostalCode, City, Region, Country\n",
                "INTO PostalCode\n",
                "FROM Customers\n",
                "GROUP BY PostalCode, City, Region, Country HAVING (PostalCode IS NOT NULL)"
            ]
        },
        {
            "cell_type": "markdown",
            "metadata": {
                "azdata_cell_guid": "1fba178e-9371-4d97-8407-43e0fe4aacff"
            },
            "source": [
                "Dieser T-SQL-Befehl erstellt eine neue Tabelle namens `PostalCode` aus der bestehenden `Customers` Tabelle.  \n",
                "- `SELECT PostalCode, City, Region, Country` wählt die Spalten `PostalCode`, `City`, `Region` und `Country` aus.  \n",
                "- `INTO PostalCode` erstellt eine neue Tabelle `PostalCode` mit den ausgewählten Spalten.  \n",
                "- `FROM Customers` gibt an, dass die Daten aus der `Customers` Tabelle stammen.  \n",
                "- `GROUP BY PostalCode, City, Region, Country` gruppiert die Daten nach den Werten in den Spalten `PostalCode`, `City`, `Region` und `Country`.  \n",
                "- `HAVING (PostalCode IS NOT NULL)` ist eine Bedingung, die nur Zeilen auswählt, in denen `PostalCode` nicht NULL ist.  \n",
                "Insgesamt erstellt dieser Befehl eine neue Tabelle `PostalCode` aus der `Customers` Tabelle, wobei die Daten nach `PostalCode`, `City`, `Region` und `Country` gruppiert werden und nur Zeilen mit nicht NULL `PostalCode` berücksichtigt werden."
            ]
        },
        {
            "cell_type": "markdown",
            "metadata": {
                "azdata_cell_guid": "a46c27c9-13f5-4f4b-8387-c45115988c7e"
            },
            "source": [
                "Aufgabe 2.3: In der gerade erstellte PostalCode Tabelle noch einen Primär-Schlüsse (ID) hinzufügen"
            ]
        },
        {
            "cell_type": "code",
            "execution_count": null,
            "metadata": {
                "azdata_cell_guid": "f14ab759-c119-4042-81ff-49c0a332b9f3",
                "language": "sql",
                "vscode": {
                    "languageId": "sql"
                }
            },
            "outputs": [],
            "source": [
                "ALTER TABLE PostalCode\n",
                "ADD ID INT PRIMARY KEY IDENTITY (1,1)"
            ]
        },
        {
            "cell_type": "markdown",
            "metadata": {
                "azdata_cell_guid": "80b16ee6-a9c0-4859-995f-3037c530b22f"
            },
            "source": [
                "Dieser T-SQL-Code führt eine Änderung an der Tabelle `PostalCode` durch, indem er eine neue Spalte namens `ID` hinzufügt. Hier sind die Details:  \n",
                "- `ALTER TABLE PostalCode`: Dieser Befehl ändert die Struktur der Tabelle `PostalCode`.  \n",
                "- `ADD ID INT`: Fügt eine neue Spalte namens `ID` hinzu, die Ganzzahlen (`INT`) speichert.  \n",
                "- `PRIMARY KEY`: Legt fest, dass die `ID`-Spalte als Primärschlüssel der Tabelle dient. Ein Primärschlüssel identifiziert eindeutig jeden Datensatz in der Tabelle.  \n",
                "- `IDENTITY (1,1)`: Dies ist eine Eigenschaft, die auf die `ID`-Spalte angewendet wird. Sie erzeugt automatisch einen eindeutigen Wert für jede neue Zeile. Der erste Wert ist `1`, und jeder nachfolgende Wert wird um `1` erhöht.  \n",
                "Zusammengefasst fügt dieser Code der `PostalCode`-Tabelle eine neue Spalte `ID` hinzu, die automatisch eindeutige Ganzzahlen generiert und als Primärschlüssel dient."
            ]
        },
        {
            "cell_type": "markdown",
            "metadata": {
                "azdata_cell_guid": "8f697e96-298c-4a8a-a47d-ce018b279376"
            },
            "source": [
                "2.4: Aktualisierung des neuen Schlüssels PostalCodes in der Tabelle Customers"
            ]
        },
        {
            "cell_type": "code",
            "execution_count": null,
            "metadata": {
                "azdata_cell_guid": "81e20c66-40bc-4f15-8340-e94126f233c1",
                "language": "sql",
                "vscode": {
                    "languageId": "sql"
                }
            },
            "outputs": [],
            "source": [
                "UPDATE Customers\n",
                "SET PostalCodeID = PostalCode.ID \n",
                "FROM Customers \n",
                "INNER JOIN PostalCode on Customers.PostalCode = PostalCode.PostalCode"
            ]
        },
        {
            "cell_type": "markdown",
            "metadata": {
                "azdata_cell_guid": "067633c5-06a5-4251-be79-7dced39e438b"
            },
            "source": [
                "Dieser T-SQL-Code aktualisiert die `PostalCodeID`-Spalte in der `Customers`-Tabelle basierend auf einem `INNER JOIN` mit der `PostalCode`-Tabelle. Hier sind die Details:  \n",
                "- `UPDATE Customers`: Dieser Befehl aktualisiert die `Customers`-Tabelle.  \n",
                "- `SET PostalCodeID = PostalCode.ID`: Dieser Teil des Befehls setzt den Wert der `PostalCodeID`-Spalte in der `Customers`-Tabelle auf den Wert der `ID`-Spalte in der `PostalCode`-Tabelle.  \n",
                "- `FROM Customers INNER JOIN PostalCode on Customers.PostalCode = PostalCode.PostalCode`: Dieser Teil des Befehls führt einen `INNER JOIN` zwischen den `Customers`- und `PostalCode`-Tabellen durch, wobei die `PostalCode`-Spalte in beiden Tabellen übereinstimmen muss.  \n",
                "Zusammengefasst aktualisiert dieser Code die `PostalCodeID`-Spalte in der `Customers`-Tabelle mit den entsprechenden `ID`-Werten aus der `PostalCode`-Tabelle, basierend auf übereinstimmenden `PostalCode`-Werten in beiden Tabellen."
            ]
        },
        {
            "cell_type": "markdown",
            "metadata": {
                "azdata_cell_guid": "12dc5836-53ab-4420-9310-5f3b1ab8c480"
            },
            "source": [
                "Aufgabe 3: In der Tabelle Customers wird als Primärschlüssel die CustomerID [nchar(5)] verwendet. Diese ist nicht mehr Zeitgemäß, da sie nicht den Ansprüchen einer modernen Datenbank entspricht. Erstellen Sie in derTabelle Customers eine ID (INT).  \n",
                "Vorher müssen in den Tabellen Orders und CustomerCustomerDemo die Beziehungen als Fremdschlüssel zur alten CustomerID entfernt werden."
            ]
        },
        {
            "cell_type": "code",
            "execution_count": null,
            "metadata": {
                "azdata_cell_guid": "efd7140c-6460-4d88-a510-52db5c1946ea",
                "language": "sql",
                "vscode": {
                    "languageId": "sql"
                }
            },
            "outputs": [],
            "source": [
                "ALTER TABLE Orders\n",
                "DROP CONSTRAINT FK_Orders_Customers"
            ]
        },
        {
            "cell_type": "markdown",
            "metadata": {
                "azdata_cell_guid": "bfe8ca74-d849-475c-a19b-1d88e749a922"
            },
            "source": [
                "Die T-SQL-Anweisung, die Sie bereitgestellt haben, ist eine Anweisung zum Löschen eines Constraints (Einschränkung) aus einer Tabelle in einer SQL-Datenbank. Hier ist eine kurze Erklärung:  \n",
                "- `ALTER TABLE Orders`: Dieser Teil der Anweisung wählt die Tabelle aus, die geändert werden soll. In diesem Fall ist es die Tabelle `Orders`.  \n",
                "- `DROP CONSTRAINT FK_Orders_Customers`: Dieser Teil der Anweisung löscht das Constraint mit dem Namen `FK_Orders_Customers` aus der Tabelle `Orders`.  \n",
                "Zusammengefasst, diese Anweisung entfernt das Constraint `FK_Orders_Customers` aus der Tabelle `Orders`. Es ist wichtig zu beachten, dass das Löschen eines Constraints Auswirkungen auf die Datenintegrität haben kann und daher mit Vorsicht durchgeführt werden sollte."
            ]
        },
        {
            "cell_type": "code",
            "execution_count": null,
            "metadata": {
                "azdata_cell_guid": "17b96c2a-450f-42a2-8ef4-f3d4a5403464",
                "language": "sql",
                "vscode": {
                    "languageId": "sql"
                }
            },
            "outputs": [],
            "source": [
                "ALTER TABLE CustomerCustomerDemo\n",
                "DROP CONSTRAINT FK_CustomerCustomerDemo_Customers"
            ]
        },
        {
            "cell_type": "code",
            "execution_count": null,
            "metadata": {
                "azdata_cell_guid": "fd90b9ce-b84a-4ba2-ba68-8c4e587411e6",
                "language": "sql",
                "vscode": {
                    "languageId": "sql"
                }
            },
            "outputs": [],
            "source": [
                "ALTER TABLE Customers\n",
                "DROP CONSTRAINT PK_Customers"
            ]
        },
        {
            "cell_type": "code",
            "execution_count": null,
            "metadata": {
                "azdata_cell_guid": "9368509a-1d9b-4166-bafd-8380b2105f46",
                "language": "sql",
                "vscode": {
                    "languageId": "sql"
                }
            },
            "outputs": [],
            "source": [
                "ALTER TABLE Customers\n",
                "ADD ID INT PRIMARY KEY IDENTITY (1,1)"
            ]
        },
        {
            "cell_type": "markdown",
            "metadata": {
                "azdata_cell_guid": "f9172633-186f-42b0-9594-dc7b7589ffd4"
            },
            "source": [
                "4.1: Die Orders Tabelle verfügt ebenfalls über einen Fremdschlüssel  CustomerID [nchar(5)], dieser verweist auf die Customer Tabelle.  \n",
                "Fügen Sie hier eine neue CustomID ein"
            ]
        },
        {
            "cell_type": "code",
            "execution_count": null,
            "metadata": {
                "azdata_cell_guid": "64c73f16-c1a4-4e28-a00f-a8ea0822f106",
                "language": "sql",
                "vscode": {
                    "languageId": "sql"
                }
            },
            "outputs": [],
            "source": [
                "ALTER TABLE Orders\n",
                "ADD CustomID INT"
            ]
        },
        {
            "cell_type": "markdown",
            "metadata": {
                "azdata_cell_guid": "a253ac63-a64e-488a-af92-5c279038f8e6"
            },
            "source": [
                "Dieser T-SQL-Code fügt der `Orders`-Tabelle eine neue Spalte namens `CustomID` hinzu. Hier sind die Details:  \n",
                "- `ALTER TABLE Orders`: Dieser Befehl ändert die Struktur der `Orders`-Tabelle.  \n",
                "- `ADD CustomID INT`: Dieser Teil des Befehls fügt eine neue Spalte namens `CustomID` vom Datentyp `INT` (Integer) zur `Orders`-Tabelle hinzu.  \n",
                "Zusammengefasst fügt dieser Code der `Orders`-Tabelle eine neue Spalte `CustomID` hinzu, die Integer-Werte speichern kann."
            ]
        },
        {
            "cell_type": "markdown",
            "metadata": {
                "azdata_cell_guid": "475f9ed8-5177-4633-837a-8d02eed32601"
            },
            "source": [
                "4.2: Aktualisierung der neuen CustomID in der Tabelle Orders mit den Daten aus der Customers-Tabelle"
            ]
        },
        {
            "cell_type": "code",
            "execution_count": null,
            "metadata": {
                "azdata_cell_guid": "18f4acd0-4d05-4f62-8bc5-0ea3ce01fa97",
                "language": "sql",
                "vscode": {
                    "languageId": "sql"
                }
            },
            "outputs": [],
            "source": [
                "UPDATE Orders\n",
                "SET\tCustomID = Customers.ID \n",
                "FROM Customers \n",
                "INNER JOIN Orders ON Customers.CustomerID = Orders.CustomerID"
            ]
        },
        {
            "cell_type": "markdown",
            "metadata": {
                "azdata_cell_guid": "9f4111e0-117f-4959-8f37-0bdcbb6af286"
            },
            "source": [
                "Die bereitgestellte T-SQL-Anweisung ist eine `UPDATE`-Anweisung, die zum Aktualisieren von Datensätzen in einer Tabelle verwendet wird. Hier ist eine kurze Erklärung:  \n",
                "- `UPDATE Orders`: Dieser Teil der Anweisung wählt die Tabelle `Orders` aus, in der die Aktualisierung vorgenommen werden soll.  \n",
                "- `SET CustomID = Customers.ID`: Dieser Teil der Anweisung aktualisiert den Wert der `CustomID`-Spalte in der `Orders`-Tabelle auf den Wert der `ID`-Spalte in der `Customers`-Tabelle.  \n",
                "- `FROM Customers INNER JOIN Orders ON Customers.CustomerID = Orders.CustomerID`: Dieser Teil der Anweisung führt einen `INNER JOIN` zwischen den Tabellen `Customers` und `Orders` basierend auf der Bedingung aus, dass `CustomerID` in beiden Tabellen gleich ist.  \n",
                "Zusammengefasst, diese Anweisung aktualisiert die `CustomID`-Spalte in der `Orders`-Tabelle mit den `ID`-Werten aus der `Customers`-Tabelle, wobei die Zeilen basierend auf der Übereinstimmung der `CustomerID` in beiden Tabellen ausgewählt werden. Es ist wichtig zu beachten, dass diese Anweisung alle Zeilen in der `Orders`-Tabelle aktualisiert, für die eine Übereinstimmung gefunden wird. Wenn keine Übereinstimmung gefunden wird, bleibt die `CustomID` unverändert."
            ]
        },
        {
            "cell_type": "markdown",
            "metadata": {
                "azdata_cell_guid": "370e65ec-06ae-4fcd-b41b-77600b425933"
            },
            "source": [
                "Nachdem alle T-SQL Anweisungen abgearbeitet wurden, kann man in der Tabelle Customers die überfälligen Spalten per Script löschen. Hierzu müssen vorher die Indizies entfernt werden."
            ]
        },
        {
            "cell_type": "code",
            "execution_count": null,
            "metadata": {
                "azdata_cell_guid": "0efe94b3-c673-4c6b-972b-2592dd7a0f48",
                "language": "sql",
                "vscode": {
                    "languageId": "sql"
                }
            },
            "outputs": [],
            "source": [
                "DROP INDEX IF EXISTS City ON Customers"
            ]
        },
        {
            "cell_type": "code",
            "execution_count": null,
            "metadata": {
                "azdata_cell_guid": "38bb38e4-83c6-47ee-9b3e-364f6bcafefc",
                "language": "sql",
                "vscode": {
                    "languageId": "sql"
                }
            },
            "outputs": [],
            "source": [
                "DROP INDEX IF EXISTS PostalCode ON Customers"
            ]
        },
        {
            "cell_type": "code",
            "execution_count": null,
            "metadata": {
                "azdata_cell_guid": "4c22b87a-f7dc-4c07-ae08-8bd8ae4d46cc",
                "language": "sql",
                "vscode": {
                    "languageId": "sql"
                }
            },
            "outputs": [],
            "source": [
                "DROP INDEX IF EXISTS Region ON Customers"
            ]
        },
        {
            "cell_type": "code",
            "execution_count": null,
            "metadata": {
                "azdata_cell_guid": "7b81bd70-441f-4f02-8e2e-ada2eb90b933",
                "language": "sql",
                "vscode": {
                    "languageId": "sql"
                }
            },
            "outputs": [],
            "source": [
                "ALTER TABLE Customers\n",
                "DROP COLUMN City, Country, PostalCode, Region"
            ]
        },
        {
            "cell_type": "markdown",
            "metadata": {
                "azdata_cell_guid": "42d2ba9b-f359-448e-a8e2-d612543a7f82"
            },
            "source": [
                "Dieses T-SQL-Skript führt eine Änderung an der Tabelle `Customers` durch. Es entfernt die Spalten `City`, `PostalCode`, `Region` und `Country` aus der Tabelle. Nachdem dieses Skript ausgeführt wurde, werden diese Spalten und alle darin enthaltenen Daten nicht mehr in der Tabelle `Customers` vorhanden sein. Bitte beachten Sie, dass diese Aktion nicht rückgängig gemacht werden kann."
            ]
        }
    ],
    "metadata": {
        "kernelspec": {
            "display_name": "Python 3",
            "language": "python",
            "name": "python3"
        },
        "language_info": {
            "name": "python",
            "version": "3.12.3"
        }
    },
    "nbformat": 4,
    "nbformat_minor": 2
}
