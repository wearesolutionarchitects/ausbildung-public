{
    "metadata": {
        "kernelspec": {
            "name": "SQL",
            "display_name": "SQL",
            "language": "sql"
        },
        "language_info": {
            "name": "sql",
            "version": ""
        }
    },
    "nbformat_minor": 2,
    "nbformat": 4,
    "cells": [
        {
            "cell_type": "markdown",
            "source": [
                "# Datenbankprojekt 'support\\_ticket'\n",
                "\n",
                "## 1\\. Einleitung\n",
                "\n",
                "In diesem Projekt wird eine Datenbank für ein Support Tickets erstellt Die Datenbank wird in SQL erstellt und mit Daten gefüllt. Anschließend werden verschiedene Abfragen durchgeführt, um die Funktionalität der Datenbank zu testen.\n",
                "\n",
                "## 2\\. Datenbankmodell\n",
                "\n",
                "Die Datenbank besteht aus folgenden Tabellen:\n",
                "\n",
                "- `users`: enthält Informationen zu Tickets\n",
                "- `states`: enthält Informationen zum Status der Tickets\n",
                "- `comments`: enthält Kommentare zu den Tickets\n",
                "- `roles`: enthält Informationen zu den Rollen der Benutzer\n",
                "- `users`: enthält Informationen zu den Rollen der Benutzer"
            ],
            "metadata": {
                "azdata_cell_guid": "372621cb-9044-4407-97a3-1b39246f76ba"
            },
            "attachments": {}
        },
        {
            "cell_type": "code",
            "source": [
                "USE master;  \r\n",
                "GO  \r\n",
                "ALTER DATABASE support_tickets SET SINGLE_USER WITH ROLLBACK IMMEDIATE;  \r\n",
                "DROP DATABASE support_tickets\r\n",
                "GO"
            ],
            "metadata": {
                "azdata_cell_guid": "b86445f1-d6b0-4eaa-94eb-8c81be9f01f7",
                "language": "sql",
                "tags": []
            },
            "outputs": [
                {
                    "output_type": "display_data",
                    "data": {
                        "text/html": "Die Befehle wurden erfolgreich ausgeführt."
                    },
                    "metadata": {}
                },
                {
                    "output_type": "display_data",
                    "data": {
                        "text/html": "Für nicht gekennzeichnete Transaktionen wird ein Rollback ausgeführt. Bereits abgeschlossen (geschätzt): 0%."
                    },
                    "metadata": {}
                },
                {
                    "output_type": "display_data",
                    "data": {
                        "text/html": "Für nicht gekennzeichnete Transaktionen wird ein Rollback ausgeführt. Bereits abgeschlossen (geschätzt): 100%."
                    },
                    "metadata": {}
                },
                {
                    "output_type": "display_data",
                    "data": {
                        "text/html": "Ausführungszeit gesamt: 00:00:03.075"
                    },
                    "metadata": {}
                }
            ],
            "execution_count": 6
        },
        {
            "cell_type": "markdown",
            "source": [
                "Erstellen der Datenbank <span style=\"color: #ce9178;\">\"support_tickets\"</span>"
            ],
            "metadata": {
                "language": "sql",
                "azdata_cell_guid": "c485eb48-07df-4aff-867f-d89da3009e32"
            },
            "attachments": {}
        },
        {
            "cell_type": "code",
            "source": [
                " \r\n",
                "USE master  \r\n",
                "GO  \r\n",
                "CREATE DATABASE support_tickets"
            ],
            "metadata": {
                "language": "sql",
                "azdata_cell_guid": "4609b766-24ca-444e-88a7-98611f0ce616"
            },
            "outputs": [
                {
                    "output_type": "display_data",
                    "data": {
                        "text/html": "Die Befehle wurden erfolgreich ausgeführt."
                    },
                    "metadata": {}
                },
                {
                    "output_type": "display_data",
                    "data": {
                        "text/html": "Die Befehle wurden erfolgreich ausgeführt."
                    },
                    "metadata": {}
                },
                {
                    "output_type": "display_data",
                    "data": {
                        "text/html": "Ausführungszeit gesamt: 00:00:00.175"
                    },
                    "metadata": {}
                }
            ],
            "execution_count": 7
        },
        {
            "cell_type": "code",
            "source": [
                "USE support_tickets\r\n",
                "CREATE TABLE roles\r\n",
                "(\r\n",
                "    [role_id] INT IDENTITY(1,1) PRIMARY KEY,\r\n",
                "    [role_name] VARCHAR(25) NOT NULL\r\n",
                ");\r\n",
                ""
            ],
            "metadata": {
                "language": "sql",
                "azdata_cell_guid": "2d6f9417-db35-4ab1-8607-776a5cd79688"
            },
            "outputs": [
                {
                    "output_type": "display_data",
                    "data": {
                        "text/html": "Die Befehle wurden erfolgreich ausgeführt."
                    },
                    "metadata": {}
                },
                {
                    "output_type": "display_data",
                    "data": {
                        "text/html": "Ausführungszeit gesamt: 00:00:00.008"
                    },
                    "metadata": {}
                }
            ],
            "execution_count": 8
        },
        {
            "cell_type": "code",
            "source": [
                "USE support_tickets\r\n",
                "CREATE TABLE states\r\n",
                "(\r\n",
                "    [state_id] INT PRIMARY KEY,\r\n",
                "    [state_name] VARCHAR(25) NOT NULL\r\n",
                ");\r\n",
                ""
            ],
            "metadata": {
                "language": "sql",
                "azdata_cell_guid": "eeb4c279-89ae-44ad-a40a-d66e44cd968d"
            },
            "outputs": [
                {
                    "output_type": "display_data",
                    "data": {
                        "text/html": "Die Befehle wurden erfolgreich ausgeführt."
                    },
                    "metadata": {}
                },
                {
                    "output_type": "display_data",
                    "data": {
                        "text/html": "Ausführungszeit gesamt: 00:00:00.004"
                    },
                    "metadata": {}
                }
            ],
            "execution_count": 9
        },
        {
            "cell_type": "code",
            "source": [
                "USE support_tickets\r\n",
                "CREATE TABLE comments\r\n",
                "(\r\n",
                "    [comment_id] INT IDENTITY(1,1) PRIMARY KEY,\r\n",
                "    [comment_name] VARCHAR(25) NOT NULL\r\n",
                ");\r\n",
                ""
            ],
            "metadata": {
                "language": "sql",
                "azdata_cell_guid": "292063bf-ef93-472f-8385-d6be16f0055f"
            },
            "outputs": [
                {
                    "output_type": "display_data",
                    "data": {
                        "text/html": "Die Befehle wurden erfolgreich ausgeführt."
                    },
                    "metadata": {}
                },
                {
                    "output_type": "display_data",
                    "data": {
                        "text/html": "Ausführungszeit gesamt: 00:00:00.003"
                    },
                    "metadata": {}
                }
            ],
            "execution_count": 10
        },
        {
            "cell_type": "code",
            "source": [
                "USE support_tickets\r\n",
                "GO\r\n",
                "CREATE TABLE tickets\r\n",
                "(\r\n",
                "    ticket_id INT IDENTITY(1,1) PRIMARY KEY,\r\n",
                "    ticketname VARCHAR(25) NOT NULL,\r\n",
                "    comment_id INT NOT NULL,\r\n",
                "    FOREIGN KEY (comment_id) REFERENCES comments(comment_id),\r\n",
                "    state_id INT NOT NULL,\r\n",
                "    FOREIGN KEY (state_id) REFERENCES states(state_id)\r\n",
                ");\r\n",
                ""
            ],
            "metadata": {
                "language": "sql",
                "azdata_cell_guid": "807c4f4a-0a1a-4638-b544-dbf2cfe1ca75"
            },
            "outputs": [
                {
                    "output_type": "display_data",
                    "data": {
                        "text/html": "Die Befehle wurden erfolgreich ausgeführt."
                    },
                    "metadata": {}
                },
                {
                    "output_type": "display_data",
                    "data": {
                        "text/html": "Die Befehle wurden erfolgreich ausgeführt."
                    },
                    "metadata": {}
                },
                {
                    "output_type": "display_data",
                    "data": {
                        "text/html": "Ausführungszeit gesamt: 00:00:00.007"
                    },
                    "metadata": {}
                }
            ],
            "execution_count": 11
        },
        {
            "cell_type": "code",
            "source": [
                "USE support_tickets\r\n",
                "GO\r\n",
                "CREATE TABLE users\r\n",
                "(\r\n",
                "    user_id INT IDENTITY(1,1) PRIMARY KEY,\r\n",
                "    user_name VARCHAR(25) NOT NULL,\r\n",
                "    role_id INT NOT NULL,\r\n",
                "    FOREIGN KEY (role_id) REFERENCES roles(role_id),\r\n",
                "    ticket_id INT NOT NULL,\r\n",
                "    FOREIGN KEY (ticket_id) REFERENCES tickets(ticket_id)\r\n",
                ");\r\n",
                ""
            ],
            "metadata": {
                "language": "sql",
                "azdata_cell_guid": "101af4af-6eba-4af8-a2d0-adf64aefdafe"
            },
            "outputs": [
                {
                    "output_type": "display_data",
                    "data": {
                        "text/html": "Die Befehle wurden erfolgreich ausgeführt."
                    },
                    "metadata": {}
                },
                {
                    "output_type": "display_data",
                    "data": {
                        "text/html": "Die Befehle wurden erfolgreich ausgeführt."
                    },
                    "metadata": {}
                },
                {
                    "output_type": "display_data",
                    "data": {
                        "text/html": "Ausführungszeit gesamt: 00:00:00.006"
                    },
                    "metadata": {}
                }
            ],
            "execution_count": 12
        },
        {
            "cell_type": "code",
            "source": [
                "USE support_tickets;\r\n",
                "GO\r\n",
                "INSERT INTO states(state_id, state_name) VALUES\r\n",
                "    (0, 'offen'),\r\n",
                "    (1, 'in Bearbeitung'),\r\n",
                "    (2, 'abgeschlossen')"
            ],
            "metadata": {
                "azdata_cell_guid": "2c98e231-c0f4-4666-997b-8d9c2261c850",
                "language": "sql"
            },
            "outputs": [
                {
                    "output_type": "display_data",
                    "data": {
                        "text/html": "Die Befehle wurden erfolgreich ausgeführt."
                    },
                    "metadata": {}
                },
                {
                    "output_type": "display_data",
                    "data": {
                        "text/html": "(3 Zeilen betroffen)"
                    },
                    "metadata": {}
                },
                {
                    "output_type": "display_data",
                    "data": {
                        "text/html": "Ausführungszeit gesamt: 00:00:00.012"
                    },
                    "metadata": {}
                }
            ],
            "execution_count": 13
        },
        {
            "cell_type": "code",
            "source": [
                "USE support_tickets;\r\n",
                "GO\r\n",
                "INSERT INTO roles(role_name) VALUES\r\n",
                "    ('Kunde'),\r\n",
                "    ('Mitarbeiter:in')\r\n",
                "    "
            ],
            "metadata": {
                "language": "sql",
                "azdata_cell_guid": "1d1c0a0a-7871-4026-ae5d-b9d1ee2d9ad7"
            },
            "outputs": [
                {
                    "output_type": "display_data",
                    "data": {
                        "text/html": "Die Befehle wurden erfolgreich ausgeführt."
                    },
                    "metadata": {}
                },
                {
                    "output_type": "display_data",
                    "data": {
                        "text/html": "(2 Zeilen betroffen)"
                    },
                    "metadata": {}
                },
                {
                    "output_type": "display_data",
                    "data": {
                        "text/html": "Ausführungszeit gesamt: 00:00:00.007"
                    },
                    "metadata": {}
                }
            ],
            "execution_count": 14
        },
        {
            "cell_type": "code",
            "source": [
                "USE support_tickets;\r\n",
                "GO\r\n",
                "INSERT INTO comments(comment_name) VALUES\r\n",
                "    ('Layer 8'),\r\n",
                "    ('SSD'),\r\n",
                "    ('Kabelbruch'),\r\n",
                "    ('Batterie')\r\n",
                ""
            ],
            "metadata": {
                "azdata_cell_guid": "013859e6-be63-46da-b028-cca3244f0042",
                "language": "sql"
            },
            "outputs": [
                {
                    "output_type": "display_data",
                    "data": {
                        "text/html": "Die Befehle wurden erfolgreich ausgeführt."
                    },
                    "metadata": {}
                },
                {
                    "output_type": "display_data",
                    "data": {
                        "text/html": "(4 Zeilen betroffen)"
                    },
                    "metadata": {}
                },
                {
                    "output_type": "display_data",
                    "data": {
                        "text/html": "Ausführungszeit gesamt: 00:00:00.006"
                    },
                    "metadata": {}
                }
            ],
            "execution_count": 15
        },
        {
            "cell_type": "code",
            "source": [
                "USE support_tickets;\r\n",
                "GO\r\n",
                "INSERT INTO tickets(ticketname, comment_id, state_id) VALUES\r\n",
                "    ('Software startet nicht',1,1),\r\n",
                "    ('Bluescreen',1,1),\r\n",
                "    ('Lüfter zu laut',1,1),\r\n",
                "    ('Lizenz abgelaufen',1,1)"
            ],
            "metadata": {
                "language": "sql",
                "azdata_cell_guid": "e4c9c7f1-de41-4d41-a16b-7948b8460cf6"
            },
            "outputs": [
                {
                    "output_type": "display_data",
                    "data": {
                        "text/html": "Die Befehle wurden erfolgreich ausgeführt."
                    },
                    "metadata": {}
                },
                {
                    "output_type": "display_data",
                    "data": {
                        "text/html": "(4 Zeilen betroffen)"
                    },
                    "metadata": {}
                },
                {
                    "output_type": "display_data",
                    "data": {
                        "text/html": "Ausführungszeit gesamt: 00:00:00.012"
                    },
                    "metadata": {}
                }
            ],
            "execution_count": 2
        },
        {
            "cell_type": "code",
            "source": [
                "USE support_tickets;\r\n",
                "GO\r\n",
                "INSERT INTO users([user_name],role_id, ticket_id) VALUES\r\n",
                "    ('Hiba',1,1),\r\n",
                "    ('Irina',1,1),\r\n",
                "    ('Puya',1,1),\r\n",
                "    ('Heiko',1,1)"
            ],
            "metadata": {
                "language": "sql",
                "azdata_cell_guid": "3b289ac7-0d09-42b9-ba5f-8fccdeb94f2a"
            },
            "outputs": [
{
    "output_type": "display_data",
    "data": {
        "text/html": "Die Befehle wurden erfolgreich ausgeführt."
    },
    "metadata": {}
}, {
    "output_type": "display_data",
    "data": {
        "text/html": "(4 Zeilen betroffen)"
    },
    "metadata": {}
}, {
    "output_type": "display_data",
    "data": {
        "text/html": "Ausführungszeit gesamt: 00:00:00.008"
    },
    "metadata": {}
}
],
            "execution_count": 3
        },
        {
            "cell_type": "code",
            "source": [
                ""
            ],
            "metadata": {
                "azdata_cell_guid": "9de736dd-fba3-403e-906d-717b0655b836",
                "language": "sql"
            },
            "outputs": [],
            "execution_count": null
        }
    ]
}