{
    "metadata": {
        "kernelspec": {
            "name": "SQL",
            "display_name": "SQL",
            "language": "sql"
        },
        "language_info": {
            "name": "sql",
            "version": ""
        }
    },
    "nbformat_minor": 2,
    "nbformat": 4,
    "cells": [
        {
            "cell_type": "markdown",
            "source": [
                "# Datenbankprojekt 'support\\_ticket'\n",
                "\n",
                "## Support Ticket Verwaltung\n",
                "\n",
                "Um ein Support-Ticket-Verwaltungssystem in MSSQL oder PostgreSQL zu implementieren, müssen wir eine Datenbankstruktur erstellen, die die verschiedenen Aspekte eines Support-Ticketsystems abbildet. Hier ist ein Beispiel, wie eine solche Struktur aussehen könnte:\n",
                "\n",
                "## Tabellenstruktur\n",
                "\n",
                "Die Datenbank besteht aus folgenden Tabellen:\n",
                "\n",
                "- `users`: Diese Tabelle enthält Informationen über Benutzer, die Tickets erstellen oder bearbeiten können\n",
                "- `tickets`: Diese Diese Tabelle speichert die eigentlichen Support-Tickets.\n",
                "- `states`: Diese Tabelle enthält die verschiedenen Stati, die ein Ticket haben kann.\n",
                "- `comments`: Diese Tabelle speichert Kommentare zu den Tickets."
            ],
            "metadata": {
                "azdata_cell_guid": "372621cb-9044-4407-97a3-1b39246f76ba"
            },
            "attachments": {}
        },
        {
            "cell_type": "markdown",
            "source": [
                "### 1. ERM welches die Beziehungen zwischen den einzelnen Tabellen darstellt\n",
                "![ERM](./support_ticket.drawio.png)"
            ],
            "metadata": {
                "language": "sql",
                "azdata_cell_guid": "2268c015-6879-4a62-8860-94ae6281d48a"
            },
            "attachments": {}
        },
        {
            "cell_type": "code",
            "source": [
                "USE master;  \r\n",
                "GO  \r\n",
                "ALTER DATABASE support_tickets SET SINGLE_USER WITH ROLLBACK IMMEDIATE;  \r\n",
                "DROP DATABASE support_tickets\r\n",
                "GO"
            ],
            "metadata": {
                "azdata_cell_guid": "b86445f1-d6b0-4eaa-94eb-8c81be9f01f7",
                "language": "sql",
                "tags": []
            },
            "outputs": [
                {
                    "output_type": "display_data",
                    "data": {
                        "text/html": "Die Befehle wurden erfolgreich ausgeführt."
                    },
                    "metadata": {}
                },
                {
                    "output_type": "display_data",
                    "data": {
                        "text/html": "Für nicht gekennzeichnete Transaktionen wird ein Rollback ausgeführt. Bereits abgeschlossen (geschätzt): 0%."
                    },
                    "metadata": {}
                },
                {
                    "output_type": "display_data",
                    "data": {
                        "text/html": "Für nicht gekennzeichnete Transaktionen wird ein Rollback ausgeführt. Bereits abgeschlossen (geschätzt): 100%."
                    },
                    "metadata": {}
                },
                {
                    "output_type": "display_data",
                    "data": {
                        "text/html": "Ausführungszeit gesamt: 00:00:03.069"
                    },
                    "metadata": {}
                }
            ],
            "execution_count": 35
        },
        {
            "cell_type": "markdown",
            "source": [
                "### Erstellen der Datenbank \"support_tickets\""
            ],
            "metadata": {
                "azdata_cell_guid": "c485eb48-07df-4aff-867f-d89da3009e32",
                "language": "sql"
            },
            "attachments": {}
        },
        {
            "cell_type": "code",
            "source": [
                "USE master  \r\n",
                "GO  \r\n",
                "CREATE DATABASE support_tickets"
            ],
            "metadata": {
                "azdata_cell_guid": "4609b766-24ca-444e-88a7-98611f0ce616",
                "language": "sql"
            },
            "outputs": [
                {
                    "output_type": "display_data",
                    "data": {
                        "text/html": "Die Befehle wurden erfolgreich ausgeführt."
                    },
                    "metadata": {}
                },
                {
                    "output_type": "display_data",
                    "data": {
                        "text/html": "Die Befehle wurden erfolgreich ausgeführt."
                    },
                    "metadata": {}
                },
                {
                    "output_type": "display_data",
                    "data": {
                        "text/html": "Ausführungszeit gesamt: 00:00:00.485"
                    },
                    "metadata": {}
                }
            ],
            "execution_count": 36
        },
        {
            "cell_type": "markdown",
            "source": [
                "### 2.1 Erstellen der Felder für die Tabelle mit dem Ticketstatus"
            ],
            "metadata": {
                "language": "sql",
                "azdata_cell_guid": "ccc476e4-d9a7-4f38-8e43-ec564f41f609"
            },
            "attachments": {}
        },
        {
            "cell_type": "code",
            "source": [
                "USE support_tickets\r\n",
                "CREATE TABLE states\r\n",
                "(\r\n",
                "    [state_id] INT PRIMARY KEY,\r\n",
                "    [state_name] VARCHAR(25) NOT NULL\r\n",
                ");\r\n"
            ],
            "metadata": {
                "azdata_cell_guid": "eeb4c279-89ae-44ad-a40a-d66e44cd968d",
                "language": "sql"
            },
            "outputs": [
                {
                    "output_type": "display_data",
                    "data": {
                        "text/html": "Die Befehle wurden erfolgreich ausgeführt."
                    },
                    "metadata": {}
                },
                {
                    "output_type": "display_data",
                    "data": {
                        "text/html": "Ausführungszeit gesamt: 00:00:00.016"
                    },
                    "metadata": {}
                }
            ],
            "execution_count": 37
        },
        {
            "cell_type": "markdown",
            "source": [
                "### 2.2 Erstellen der Felder für die Tabelle mit den Kommentaren zu den Tickets"
            ],
            "metadata": {
                "language": "sql",
                "azdata_cell_guid": "b6f09ec8-91d6-4e9f-92c4-3795ca21d5de"
            },
            "attachments": {}
        },
        {
            "cell_type": "code",
            "source": [
                "USE support_tickets\r\n",
                "CREATE TABLE comments\r\n",
                "(\r\n",
                "    [comment_id] INT IDENTITY(1,1) PRIMARY KEY,\r\n",
                "    [comment_name] VARCHAR(25) NOT NULL\r\n",
                ");\r\n"
            ],
            "metadata": {
                "azdata_cell_guid": "292063bf-ef93-472f-8385-d6be16f0055f",
                "language": "sql"
            },
            "outputs": [
                {
                    "output_type": "display_data",
                    "data": {
                        "text/html": "Die Befehle wurden erfolgreich ausgeführt."
                    },
                    "metadata": {}
                },
                {
                    "output_type": "display_data",
                    "data": {
                        "text/html": "Ausführungszeit gesamt: 00:00:00.013"
                    },
                    "metadata": {}
                }
            ],
            "execution_count": 38
        },
        {
            "cell_type": "markdown",
            "source": [
                "### 2.3 Erstellen der Tabelle mit den Informationen zu den Usern, welche Tickets erstellen und bearbeiten können"
            ],
            "metadata": {
                "language": "sql",
                "azdata_cell_guid": "d3035fd3-f882-43c6-8a64-a90bc53d5fae"
            },
            "attachments": {}
        },
        {
            "cell_type": "code",
            "source": [
                "USE support_tickets\r\n",
                "GO\r\n",
                "CREATE TABLE users\r\n",
                "(\r\n",
                "    user_id INT IDENTITY(1,1) PRIMARY KEY,\r\n",
                "    user_first_name VARCHAR(25) NOT NULL,\r\n",
                "    user_last_name VARCHAR(25) NOT NULL,\r\n",
                "    user_role BIT NOT NULL\r\n",
                ");"
            ],
            "metadata": {
                "azdata_cell_guid": "101af4af-6eba-4af8-a2d0-adf64aefdafe",
                "language": "sql"
            },
            "outputs": [
                {
                    "output_type": "display_data",
                    "data": {
                        "text/html": "Die Befehle wurden erfolgreich ausgeführt."
                    },
                    "metadata": {}
                },
                {
                    "output_type": "display_data",
                    "data": {
                        "text/html": "Die Befehle wurden erfolgreich ausgeführt."
                    },
                    "metadata": {}
                },
                {
                    "output_type": "display_data",
                    "data": {
                        "text/html": "Ausführungszeit gesamt: 00:00:00.018"
                    },
                    "metadata": {}
                }
            ],
            "execution_count": 39
        },
        {
            "cell_type": "markdown",
            "source": [
                "### 2.4 Erstellen der Felder für die Tabelle mit den eigentlichen Support Tickets"
            ],
            "metadata": {
                "language": "sql",
                "azdata_cell_guid": "f361ef9e-3a53-4239-ac6f-9948295f20c9"
            },
            "attachments": {}
        },
        {
            "cell_type": "code",
            "source": [
                "USE support_tickets\r\n",
                "GO\r\n",
                "CREATE TABLE tickets\r\n",
                "(\r\n",
                "    ticket_id INT IDENTITY(1,1) PRIMARY KEY,\r\n",
                "    ticketname VARCHAR(25) NOT NULL,\r\n",
                "    comment_id INT NOT NULL,\r\n",
                "    FOREIGN KEY (comment_id) REFERENCES comments(comment_id),\r\n",
                "    state_id INT NOT NULL,\r\n",
                "    FOREIGN KEY (state_id) REFERENCES states(state_id),\r\n",
                "    creator_id INT NOT NULL,\r\n",
                "    FOREIGN KEY (creator_id) REFERENCES users(user_id),\r\n",
                "    editor_id INT NOT NULL,\r\n",
                "    FOREIGN KEY (editor_id) REFERENCES users(user_id),\r\n",
                ");\r\n",
                ""
            ],
            "metadata": {
                "azdata_cell_guid": "807c4f4a-0a1a-4638-b544-dbf2cfe1ca75",
                "language": "sql"
            },
            "outputs": [
                {
                    "output_type": "display_data",
                    "data": {
                        "text/html": "Die Befehle wurden erfolgreich ausgeführt."
                    },
                    "metadata": {}
                },
                {
                    "output_type": "display_data",
                    "data": {
                        "text/html": "Die Befehle wurden erfolgreich ausgeführt."
                    },
                    "metadata": {}
                },
                {
                    "output_type": "display_data",
                    "data": {
                        "text/html": "Ausführungszeit gesamt: 00:00:00.018"
                    },
                    "metadata": {}
                }
            ],
            "execution_count": 40
        },
        {
            "cell_type": "markdown",
            "source": [
                "### 5.1 Einfügen der Beispieldaten zum Status in die Tabelle"
            ],
            "metadata": {
                "language": "sql",
                "azdata_cell_guid": "46156a81-268f-464e-a857-1322d04f8902"
            },
            "attachments": {}
        },
        {
            "cell_type": "code",
            "source": [
                "USE support_tickets;\r\n",
                "GO\r\n",
                "INSERT INTO states(state_id, state_name) VALUES\r\n",
                "    (0, 'offen'),\r\n",
                "    (1, 'in Bearbeitung'),\r\n",
                "    (2, 'abgeschlossen')"
            ],
            "metadata": {
                "azdata_cell_guid": "2c98e231-c0f4-4666-997b-8d9c2261c850",
                "language": "sql"
            },
            "outputs": [
                {
                    "output_type": "display_data",
                    "data": {
                        "text/html": "Die Befehle wurden erfolgreich ausgeführt."
                    },
                    "metadata": {}
                },
                {
                    "output_type": "display_data",
                    "data": {
                        "text/html": "(3 Zeilen betroffen)"
                    },
                    "metadata": {}
                },
                {
                    "output_type": "display_data",
                    "data": {
                        "text/html": "Ausführungszeit gesamt: 00:00:00.060"
                    },
                    "metadata": {}
                }
            ],
            "execution_count": 41
        },
        {
            "cell_type": "markdown",
            "source": [
                "### 5.2 Einfügen der Beispieldaten zu den Kommentaren in die Tabelle"
            ],
            "metadata": {
                "language": "sql",
                "azdata_cell_guid": "9e0df028-b96d-4dcb-b8a6-7cd1ddc57dfa"
            },
            "attachments": {}
        },
        {
            "cell_type": "code",
            "source": [
                "USE support_tickets;\r\n",
                "GO\r\n",
                "INSERT INTO comments(comment_name) VALUES\r\n",
                "    ('Layer 8'),\r\n",
                "    ('SSD'),\r\n",
                "    ('Kabelbruch'),\r\n",
                "    ('Batterie')\r\n"
            ],
            "metadata": {
                "azdata_cell_guid": "013859e6-be63-46da-b028-cca3244f0042",
                "language": "sql"
            },
            "outputs": [
                {
                    "output_type": "display_data",
                    "data": {
                        "text/html": "Die Befehle wurden erfolgreich ausgeführt."
                    },
                    "metadata": {}
                },
                {
                    "output_type": "display_data",
                    "data": {
                        "text/html": "(4 Zeilen betroffen)"
                    },
                    "metadata": {}
                },
                {
                    "output_type": "display_data",
                    "data": {
                        "text/html": "Ausführungszeit gesamt: 00:00:00.013"
                    },
                    "metadata": {}
                }
            ],
            "execution_count": 42
        },
        {
            "cell_type": "code",
            "source": [
                "USE support_tickets\r\n",
                "GO\r\n",
                "INSERT INTO users(user_first_name, user_last_name, user_role) VALUES\r\n",
                "    ('Hiba','Al-Anssari', 0),\r\n",
                "    ('Irina','Zittlau', 0),\r\n",
                "    ('Puya','Khandany', 1),\r\n",
                "    ('Heiko','Fanieng', 1)"
            ],
            "metadata": {
                "azdata_cell_guid": "3b289ac7-0d09-42b9-ba5f-8fccdeb94f2a",
                "language": "sql"
            },
            "outputs": [
                {
                    "output_type": "display_data",
                    "data": {
                        "text/html": "Die Befehle wurden erfolgreich ausgeführt."
                    },
                    "metadata": {}
                },
                {
                    "output_type": "display_data",
                    "data": {
                        "text/html": "(4 Zeilen betroffen)"
                    },
                    "metadata": {}
                },
                {
                    "output_type": "display_data",
                    "data": {
                        "text/html": "Ausführungszeit gesamt: 00:00:00.081"
                    },
                    "metadata": {}
                }
            ],
            "execution_count": 43
        },
        {
            "cell_type": "code",
            "source": [
                "USE support_tickets;\r\n",
                "GO\r\n",
                "INSERT INTO tickets(ticketname, comment_id, state_id, creator_id, editor_id) VALUES\r\n",
                "    ('Software startet nicht',1,0,1,3),\r\n",
                "    ('Bluescreen',2,1,2,4),\r\n",
                "    ('Lüfter zu laut',3,1,2,3),\r\n",
                "    ('Lizenz abgelaufen',4,2,1,4)"
            ],
            "metadata": {
                "azdata_cell_guid": "e4c9c7f1-de41-4d41-a16b-7948b8460cf6",
                "language": "sql"
            },
            "outputs": [
                {
                    "output_type": "display_data",
                    "data": {
                        "text/html": "Die Befehle wurden erfolgreich ausgeführt."
                    },
                    "metadata": {}
                },
                {
                    "output_type": "display_data",
                    "data": {
                        "text/html": "(4 Zeilen betroffen)"
                    },
                    "metadata": {}
                },
                {
                    "output_type": "display_data",
                    "data": {
                        "text/html": "Ausführungszeit gesamt: 00:00:00.028"
                    },
                    "metadata": {}
                }
            ],
            "execution_count": 44
        }
    ]
}